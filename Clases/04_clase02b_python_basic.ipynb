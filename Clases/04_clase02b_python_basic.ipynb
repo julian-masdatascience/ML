{
 "cells": [
  {
   "cell_type": "markdown",
   "metadata": {
    "slideshow": {
     "slide_type": "slide"
    }
   },
   "source": [
    "\n",
    "# Mod04 - Introducción a Python\n",
    "## Parte 1b"
   ]
  },
  {
   "cell_type": "markdown",
   "metadata": {
    "slideshow": {
     "slide_type": "slide"
    }
   },
   "source": [
    "# En la clase anterior...\n",
    "- Sintaxis básica de Python\n",
    "- Loops\n",
    "- Condicionales\n",
    "- Colecciones (tuplas, listas y secuencias)"
   ]
  },
  {
   "cell_type": "markdown",
   "metadata": {
    "slideshow": {
     "slide_type": "subslide"
    }
   },
   "source": [
    "# Sumario\n",
    "- Colecciones: diccionarios y sets\n",
    "- Python comprehension\n",
    "- Funciones\n",
    "- Escribir y leer archivos"
   ]
  },
  {
   "cell_type": "markdown",
   "metadata": {
    "slideshow": {
     "slide_type": "slide"
    }
   },
   "source": [
    "## Diccionarios\n",
    "- Colección de parejas clave : valor\n",
    " - claves --> cualquier objeto inmutable"
   ]
  },
  {
   "cell_type": "code",
   "execution_count": 42,
   "metadata": {
    "slideshow": {
     "slide_type": "fragment"
    }
   },
   "outputs": [],
   "source": [
    "# crear un diccionario\n",
    "## ID : Valor\n",
    "dict_simple = {'ID' : 'XCSDe1194', 'Nombre' : 'Carlos', 'Edad' : 34}\n",
    "# los valores pueden ser una lista\n",
    "dict_columnas = {'ID' : ['XCSDe1194','GTIM11'], 'Nombre' : ['Carlos','Mark'], 'Edad' : [34,21]}\n",
    "dict1 = {(1,2) : 'carlos'} # una tupla puede utilizarse como clave porque es inmutable"
   ]
  },
  {
   "cell_type": "code",
   "execution_count": 41,
   "metadata": {},
   "outputs": [
    {
     "name": "stdout",
     "output_type": "stream",
     "text": [
      "{'ID': 1, 'Nombre': 'Julian', 'Ubicacion': 'Bogota'}\n"
     ]
    }
   ],
   "source": [
    "diccionario = {'ID': 1 , 'Nombre': 'Julian', 'Ubicacion': 'Bogota'}\n",
    "print(diccionario)"
   ]
  },
  {
   "cell_type": "code",
   "execution_count": 3,
   "metadata": {
    "slideshow": {
     "slide_type": "fragment"
    }
   },
   "outputs": [
    {
     "data": {
      "text/plain": [
       "{'Marie': 98, 'Augusto': 76, 'Domingo': 65}"
      ]
     },
     "execution_count": 3,
     "metadata": {},
     "output_type": "execute_result"
    }
   ],
   "source": [
    "# Crear diccionarios uniendo dos colecciones con zip\n",
    "nombres = ['Marie','Augusto','Domingo']\n",
    "edades = [98,76,65]\n",
    "datos = dict( zip(nombres,edades) )\n",
    "datos"
   ]
  },
  {
   "cell_type": "code",
   "execution_count": 44,
   "metadata": {
    "slideshow": {
     "slide_type": "subslide"
    }
   },
   "outputs": [
    {
     "name": "stdout",
     "output_type": "stream",
     "text": [
      "Carlos\n"
     ]
    }
   ],
   "source": [
    "# acceso a un valor\n",
    "nombre = dict_simple['Nombre']\n",
    "print(nombre)"
   ]
  },
  {
   "cell_type": "code",
   "execution_count": 45,
   "metadata": {},
   "outputs": [],
   "source": [
    "# añadir un valor\n",
    "dict_simple['usuario'] = 'bundenth'"
   ]
  },
  {
   "cell_type": "code",
   "execution_count": 46,
   "metadata": {},
   "outputs": [
    {
     "name": "stdout",
     "output_type": "stream",
     "text": [
      "{'ID': 'XCSDe1194', 'Nombre': 'Carlos', 'Edad': 34, 'usuario': 'bundenth'}\n"
     ]
    }
   ],
   "source": [
    "print(dict_simple)"
   ]
  },
  {
   "cell_type": "markdown",
   "metadata": {
    "slideshow": {
     "slide_type": "subslide"
    }
   },
   "source": [
    "### Iterar sobre un diccionario"
   ]
  },
  {
   "cell_type": "code",
   "execution_count": 47,
   "metadata": {
    "slideshow": {
     "slide_type": "fragment"
    }
   },
   "outputs": [
    {
     "name": "stdout",
     "output_type": "stream",
     "text": [
      "Claves\n",
      "\n",
      "ID\n",
      "Nombre\n",
      "Edad\n",
      "usuario\n",
      "Valores\n",
      "\n",
      "XCSDe1194\n",
      "Carlos\n",
      "34\n",
      "bundenth\n"
     ]
    }
   ],
   "source": [
    "# iterar sobre las claves\n",
    "print('Claves\\n')\n",
    "for key in dict_simple: # o dict_simple.keys()\n",
    "    print(key)\n",
    "print('Valores\\n')\n",
    "# iterar sobre los valores\n",
    "for value in dict_simple.values():\n",
    "    print(value)\n",
    "# iterar sobre ambos?"
   ]
  },
  {
   "cell_type": "code",
   "execution_count": 48,
   "metadata": {
    "slideshow": {
     "slide_type": "fragment"
    }
   },
   "outputs": [
    {
     "name": "stdout",
     "output_type": "stream",
     "text": [
      "Clave: ID, valor: XCSDe1194\n",
      "Clave: Nombre, valor: Carlos\n",
      "Clave: Edad, valor: 34\n",
      "Clave: usuario, valor: bundenth\n"
     ]
    }
   ],
   "source": [
    "# directamente con items() = Item esta compuesto por Llave - Valor \n",
    "for key, value in dict_simple.items():\n",
    "    print('Clave: ' + str(key) + ', valor: ' + str(value)) "
   ]
  },
  {
   "cell_type": "code",
   "execution_count": 49,
   "metadata": {},
   "outputs": [
    {
     "name": "stdout",
     "output_type": "stream",
     "text": [
      "Clave: ID, valor: XCSDe1194\n",
      "Clave: Nombre, valor: Carlos\n",
      "Clave: Edad, valor: 34\n",
      "Clave: usuario, valor: bundenth\n"
     ]
    }
   ],
   "source": [
    "# usar zip para iterar sobre Clave-Valor\n",
    "for key, value in zip(dict_simple.keys(),dict_simple.values()):\n",
    "    print('Clave: ' + str(key) + ', valor: ' + str(value))"
   ]
  },
  {
   "cell_type": "markdown",
   "metadata": {
    "slideshow": {
     "slide_type": "subslide"
    }
   },
   "source": [
    "- Diccionarios se pueden utilizar como 'switch' en otros lenguajes\n",
    "- Ideal para escoger entre varias opciones"
   ]
  },
  {
   "cell_type": "code",
   "execution_count": 50,
   "metadata": {},
   "outputs": [],
   "source": [
    "def saludar():\n",
    "    print(\"Hola a todos\")"
   ]
  },
  {
   "cell_type": "code",
   "execution_count": 51,
   "metadata": {},
   "outputs": [
    {
     "name": "stdout",
     "output_type": "stream",
     "text": [
      "Hola a todos\n"
     ]
    }
   ],
   "source": [
    "saludar()"
   ]
  },
  {
   "cell_type": "code",
   "execution_count": 53,
   "metadata": {
    "slideshow": {
     "slide_type": "fragment"
    }
   },
   "outputs": [],
   "source": [
    "def operarNumeros(operator, x, y):\n",
    "    # crea un diccionario de opciones y selecciona 'operator'\n",
    "    return {\n",
    "        'add': lambda: x + y,\n",
    "        'sub': lambda: x - y,\n",
    "        'mul': lambda: x * y,\n",
    "        'div': lambda: x / y,\n",
    "    }.get(operator, lambda: None)() # retorna None si no encuentra 'operator'\n"
   ]
  },
  {
   "cell_type": "code",
   "execution_count": 59,
   "metadata": {},
   "outputs": [
    {
     "data": {
      "text/plain": [
       "0.6666666666666666"
      ]
     },
     "execution_count": 59,
     "metadata": {},
     "output_type": "execute_result"
    }
   ],
   "source": [
    "operarNumeros(\"div\",2,3)"
   ]
  },
  {
   "cell_type": "markdown",
   "metadata": {
    "slideshow": {
     "slide_type": "subslide"
    }
   },
   "source": [
    "## Sets (conjuntos)\n",
    "- Colecciones de elementos únicos\n",
    "- Son diccionarios sin valores (solo claves)\n",
    " - Solo objetos inmutables"
   ]
  },
  {
   "cell_type": "code",
   "execution_count": 60,
   "metadata": {
    "slideshow": {
     "slide_type": "fragment"
    }
   },
   "outputs": [
    {
     "name": "stdout",
     "output_type": "stream",
     "text": [
      "{0, 1, 2, 3, 4, 5, 8, 13, 21}\n"
     ]
    }
   ],
   "source": [
    "# Crear un set\n",
    "set1 = {0,1,1,2,3,4,5,8,13,21}\n",
    "print(set1)\n"
   ]
  },
  {
   "cell_type": "code",
   "execution_count": 61,
   "metadata": {},
   "outputs": [
    {
     "name": "stdout",
     "output_type": "stream",
     "text": [
      "{(1, 2), 12, 'user1'}\n"
     ]
    }
   ],
   "source": [
    "set2 = {'user1',12, (1,2)}\n",
    "print(set2)"
   ]
  },
  {
   "cell_type": "code",
   "execution_count": 63,
   "metadata": {},
   "outputs": [
    {
     "name": "stdout",
     "output_type": "stream",
     "text": [
      "{0, 1, 2, 3, 4, 5, 6, 7, 8, 9}\n"
     ]
    }
   ],
   "source": [
    "lista = list(range(10))\n",
    "set4 = set(lista)\n",
    "print(set4)"
   ]
  },
  {
   "cell_type": "code",
   "execution_count": 64,
   "metadata": {},
   "outputs": [
    {
     "name": "stdout",
     "output_type": "stream",
     "text": [
      "{0, 1, 2, 3, 4}\n"
     ]
    }
   ],
   "source": [
    "set3 = set([0,1,2,3,4])\n",
    "print(set3)\n"
   ]
  },
  {
   "cell_type": "markdown",
   "metadata": {
    "slideshow": {
     "slide_type": "subslide"
    }
   },
   "source": [
    "- Basados en sets matemáticos\n",
    "- Operaciones con sets"
   ]
  },
  {
   "cell_type": "code",
   "execution_count": 77,
   "metadata": {
    "slideshow": {
     "slide_type": "fragment"
    }
   },
   "outputs": [],
   "source": [
    "set1 = {0,1,1,2,3,4,5,8,13,21}\n",
    "set2 = set([0,1,2,3,4,5,8,13,21,45])"
   ]
  },
  {
   "cell_type": "code",
   "execution_count": 68,
   "metadata": {},
   "outputs": [
    {
     "name": "stdout",
     "output_type": "stream",
     "text": [
      "{0, 1, 2, 3, 4, 5, 8, 13, 45, 21}\n"
     ]
    }
   ],
   "source": [
    "# union |\n",
    "print(set1 | set2)"
   ]
  },
  {
   "cell_type": "code",
   "execution_count": 70,
   "metadata": {},
   "outputs": [
    {
     "name": "stdout",
     "output_type": "stream",
     "text": [
      "{0, 1, 2, 3, 4}\n"
     ]
    }
   ],
   "source": [
    "# intersección &\n",
    "print(set1 & set2)"
   ]
  },
  {
   "cell_type": "code",
   "execution_count": 71,
   "metadata": {},
   "outputs": [
    {
     "name": "stdout",
     "output_type": "stream",
     "text": [
      "{8, 13, 21, 5}\n"
     ]
    }
   ],
   "source": [
    "# diferencia\n",
    "print(set1 - set2)"
   ]
  },
  {
   "cell_type": "code",
   "execution_count": 74,
   "metadata": {
    "slideshow": {
     "slide_type": "fragment"
    }
   },
   "outputs": [
    {
     "name": "stdout",
     "output_type": "stream",
     "text": [
      "True\n"
     ]
    }
   ],
   "source": [
    "# funciones para la comparación de sets\n",
    "print(set2.issubset(set1)) # True\n"
   ]
  },
  {
   "cell_type": "code",
   "execution_count": 78,
   "metadata": {},
   "outputs": [
    {
     "name": "stdout",
     "output_type": "stream",
     "text": [
      "True\n"
     ]
    }
   ],
   "source": [
    "print(set2.issuperset(set1)) # True"
   ]
  },
  {
   "cell_type": "markdown",
   "metadata": {
    "slideshow": {
     "slide_type": "slide"
    }
   },
   "source": [
    "# Python comprehension\n",
    "- Una forma sucinta de generar listas o colecciones\n",
    "- Lo más pythonesco!"
   ]
  },
  {
   "cell_type": "code",
   "execution_count": 79,
   "metadata": {
    "slideshow": {
     "slide_type": "fragment"
    }
   },
   "outputs": [
    {
     "data": {
      "text/plain": [
       "[16, 9, 4, 1, 0, 1, 4, 9]"
      ]
     },
     "execution_count": 79,
     "metadata": {},
     "output_type": "execute_result"
    }
   ],
   "source": [
    "# crear una lista transformando valores de otra\n",
    "# con for loops\n",
    "numbers = list(range(-4,4))\n",
    "final_values = []\n",
    "for x in numbers:\n",
    "    final_values.append(x**2)\n",
    "final_values"
   ]
  },
  {
   "cell_type": "code",
   "execution_count": 81,
   "metadata": {
    "slideshow": {
     "slide_type": "fragment"
    }
   },
   "outputs": [
    {
     "data": {
      "text/plain": [
       "[16, 9, 4, 1, 0, 1, 4, 9]"
      ]
     },
     "execution_count": 81,
     "metadata": {},
     "output_type": "execute_result"
    }
   ],
   "source": [
    "# con list comprehension\n",
    "valores_finales = [x**2 for x in range(-4,4)]\n",
    "valores_finales"
   ]
  },
  {
   "cell_type": "markdown",
   "metadata": {
    "slideshow": {
     "slide_type": "subslide"
    }
   },
   "source": [
    "### Forma general\n",
    "[<expresión1> if <condición\\> else <expresión2> for value in <colección\\>]\n",
    "- __Expresión1 / expresión2__: cada uno de los elementos que conformará la lista\n",
    "- __Condición__: escoge entre expresión1 y expresión2\n",
    "- __for__ loop: generador de la secuencia"
   ]
  },
  {
   "cell_type": "code",
   "execution_count": 82,
   "metadata": {
    "slideshow": {
     "slide_type": "fragment"
    }
   },
   "outputs": [
    {
     "name": "stdout",
     "output_type": "stream",
     "text": [
      "[-2.5, -2.0, -1.5, -1.0, -0.5, 0.0, 1, 4, 9, 16]\n"
     ]
    }
   ],
   "source": [
    "list1 = [x**2 if x > 0 else x/2 for x in range(-5,5)]\n",
    "# -5 , -4, -3, -2, -1 , 0 , 1 , 2 ,3 ,4 \n",
    "#  -2.5, -2, -1.5, -0.5, 0 , 0, 1, 4, 9, 16\n",
    "print(list1)"
   ]
  },
  {
   "cell_type": "code",
   "execution_count": null,
   "metadata": {},
   "outputs": [],
   "source": [
    "if x >0:\n",
    "    x**2\n",
    "else \n",
    " x/2"
   ]
  },
  {
   "cell_type": "code",
   "execution_count": 83,
   "metadata": {
    "slideshow": {
     "slide_type": "fragment"
    }
   },
   "outputs": [
    {
     "name": "stdout",
     "output_type": "stream",
     "text": [
      "{'banana': 1.1, 'pear': 1.4, 'olives': 2.4}\n"
     ]
    }
   ],
   "source": [
    "# similar para diccionarios y sets, pero con {}\n",
    "items = ['banana','pear','olives']\n",
    "price = [1.1,1.4,2.4]\n",
    "# Documentar , explicar que fue lo que hicieron \n",
    "shopping = {i:p for i,p in zip(items,price)}\n",
    "print(shopping)"
   ]
  },
  {
   "cell_type": "markdown",
   "metadata": {
    "slideshow": {
     "slide_type": "slide"
    }
   },
   "source": [
    "# Funciones\n",
    "- Fragmentos de código\n",
    "- Reutilizable "
   ]
  },
  {
   "cell_type": "code",
   "execution_count": 84,
   "metadata": {},
   "outputs": [
    {
     "name": "stdout",
     "output_type": "stream",
     "text": [
      "Hola a todos\n"
     ]
    }
   ],
   "source": [
    "saludar()"
   ]
  },
  {
   "cell_type": "code",
   "execution_count": 87,
   "metadata": {
    "slideshow": {
     "slide_type": "fragment"
    }
   },
   "outputs": [],
   "source": [
    "# definir la función primero\n",
    "# Variables de entrada son dos listas , la primera son llaves(keys), y la segunda son valores(values)\n",
    "def create_dict(keys,values): # argumentos (opcional)\n",
    "    return dict(zip(keys,values)) # valor de retorno (opcional)\n",
    "\n"
   ]
  },
  {
   "cell_type": "code",
   "execution_count": 88,
   "metadata": {},
   "outputs": [
    {
     "name": "stdout",
     "output_type": "stream",
     "text": [
      "['Alfred', 'James', 'Peter', 'Harvey']\n",
      "[87, 43, 19, 16]\n"
     ]
    }
   ],
   "source": [
    "#creo dos listas\n",
    "#utilizar la función después\n",
    "names = ['Alfred','James','Peter','Harvey']\n",
    "ages = [87,43,19,16]\n",
    "print(names)\n",
    "print(ages)"
   ]
  },
  {
   "cell_type": "code",
   "execution_count": 89,
   "metadata": {},
   "outputs": [],
   "source": [
    "diccionario_personas = create_dict(names,ages)"
   ]
  },
  {
   "cell_type": "code",
   "execution_count": 90,
   "metadata": {},
   "outputs": [
    {
     "data": {
      "text/plain": [
       "{'Alfred': 87, 'James': 43, 'Peter': 19, 'Harvey': 16}"
      ]
     },
     "execution_count": 90,
     "metadata": {},
     "output_type": "execute_result"
    }
   ],
   "source": [
    "diccionario_personas"
   ]
  },
  {
   "cell_type": "code",
   "execution_count": 92,
   "metadata": {},
   "outputs": [
    {
     "data": {
      "text/plain": [
       "16"
      ]
     },
     "execution_count": 92,
     "metadata": {},
     "output_type": "execute_result"
    }
   ],
   "source": [
    "diccionario_personas['Harvey']"
   ]
  },
  {
   "cell_type": "markdown",
   "metadata": {
    "slideshow": {
     "slide_type": "subslide"
    }
   },
   "source": [
    "Las funciones pueden tener argumentos (0 o más) y retornar valoes (0 o más)"
   ]
  },
  {
   "cell_type": "code",
   "execution_count": 94,
   "metadata": {
    "slideshow": {
     "slide_type": "fragment"
    }
   },
   "outputs": [],
   "source": [
    "# función sin valor de retorno ni argumentos\n",
    "def print_version():\n",
    "    print('Mi programa es la versión 0.000001 beta')\n",
    "    # return # es opcional pero mejora la legibilidad"
   ]
  },
  {
   "cell_type": "code",
   "execution_count": 95,
   "metadata": {},
   "outputs": [
    {
     "name": "stdout",
     "output_type": "stream",
     "text": [
      "Mi programa es la versión 0.000001 beta\n"
     ]
    }
   ],
   "source": [
    "print_version()"
   ]
  },
  {
   "cell_type": "code",
   "execution_count": 98,
   "metadata": {
    "slideshow": {
     "slide_type": "fragment"
    }
   },
   "outputs": [],
   "source": [
    "# función con varios valores de retorno\n",
    "def obtengo_primero_segundo_tercero(collection):\n",
    "    return collection[0], collection[1],collection[2]"
   ]
  },
  {
   "cell_type": "code",
   "execution_count": 99,
   "metadata": {},
   "outputs": [],
   "source": [
    "names = ['Alfred','James','Peter','Harvey']\n",
    "\n",
    "primero, segundo,tercero = obtengo_primero_segundo_tercero(names)"
   ]
  },
  {
   "cell_type": "code",
   "execution_count": 100,
   "metadata": {},
   "outputs": [
    {
     "name": "stdout",
     "output_type": "stream",
     "text": [
      "Alfred\n",
      "James\n",
      "Peter\n"
     ]
    }
   ],
   "source": [
    "print(primero)\n",
    "print(segundo)\n",
    "print(tercero)"
   ]
  },
  {
   "cell_type": "code",
   "execution_count": 104,
   "metadata": {},
   "outputs": [],
   "source": [
    "def sumar_tres_valores(valor1=0, valor2=0,valor3=0):\n",
    "    resultado=valor1+valor2+valor3\n",
    "    print(\"El resultado de la suma es: \"+str(resultado))"
   ]
  },
  {
   "cell_type": "code",
   "execution_count": 105,
   "metadata": {},
   "outputs": [
    {
     "name": "stdout",
     "output_type": "stream",
     "text": [
      "El resultado de la suma es: 6\n"
     ]
    }
   ],
   "source": [
    "sumar_tres_valores(1,2,3)"
   ]
  },
  {
   "cell_type": "code",
   "execution_count": 106,
   "metadata": {},
   "outputs": [
    {
     "name": "stdout",
     "output_type": "stream",
     "text": [
      "El resultado de la suma es: 3\n"
     ]
    }
   ],
   "source": [
    "sumar_tres_valores(1,2)"
   ]
  },
  {
   "cell_type": "code",
   "execution_count": 107,
   "metadata": {},
   "outputs": [
    {
     "name": "stdout",
     "output_type": "stream",
     "text": [
      "El resultado de la suma es: 1\n"
     ]
    }
   ],
   "source": [
    "sumar_tres_valores(1)"
   ]
  },
  {
   "cell_type": "code",
   "execution_count": 108,
   "metadata": {},
   "outputs": [
    {
     "name": "stdout",
     "output_type": "stream",
     "text": [
      "El resultado de la suma es: 0\n"
     ]
    }
   ],
   "source": [
    "sumar_tres_valores()"
   ]
  },
  {
   "cell_type": "markdown",
   "metadata": {
    "slideshow": {
     "slide_type": "subslide"
    }
   },
   "source": [
    "Los argumentos pueden tener valores por defecto (siempre al final)"
   ]
  },
  {
   "cell_type": "code",
   "execution_count": 112,
   "metadata": {
    "slideshow": {
     "slide_type": "fragment"
    }
   },
   "outputs": [],
   "source": [
    "def f(a=None, b=None, c=None):\n",
    "    if a is None:\n",
    "        print('No se ha proporcionado a')\n",
    "    if b is None:\n",
    "        print('No se ha proporcionado b')\n",
    "    if c is None:\n",
    "        print('No se ha proporcionado c')"
   ]
  },
  {
   "cell_type": "code",
   "execution_count": 113,
   "metadata": {},
   "outputs": [
    {
     "name": "stdout",
     "output_type": "stream",
     "text": [
      "No se ha proporcionado c\n"
     ]
    }
   ],
   "source": [
    "f(1,\"2\")\n",
    "#f(1,'Hola') Esto es lo mismo"
   ]
  },
  {
   "cell_type": "markdown",
   "metadata": {
    "slideshow": {
     "slide_type": "slide"
    }
   },
   "source": [
    "# Lectura y escritura de archivos\n",
    "- Importante para almacenar datos y para guardar progreso\n",
    "- 'Streams' para lectura y escritura\n",
    " - Nombre de archivo\n",
    " - Lectura / escritura\n",
    " - Modo de acceso"
   ]
  },
  {
   "cell_type": "code",
   "execution_count": 3,
   "metadata": {
    "slideshow": {
     "slide_type": "subslide"
    }
   },
   "outputs": [
    {
     "name": "stdout",
     "output_type": "stream",
     "text": [
      "bananas\n",
      "\n",
      "peras\n",
      "\n",
      "manzanas\n",
      "\n",
      "aceitunas\n",
      "\n",
      "mantequilla\n",
      "\n",
      "leche\n",
      "\n",
      "pollo\n",
      "\n",
      "pasta\n",
      "\n",
      "ni trampa ni carton\n"
     ]
    }
   ],
   "source": [
    "# leer de un archivo\n",
    "with open('resources/lista_compra.txt') as archivo:\n",
    "    for line in archivo:\n",
    "        print(line)\n"
   ]
  },
  {
   "cell_type": "code",
   "execution_count": 4,
   "metadata": {
    "slideshow": {
     "slide_type": "fragment"
    }
   },
   "outputs": [
    {
     "name": "stdout",
     "output_type": "stream",
     "text": [
      "['bananas\\n', 'peras\\n', 'manzanas\\n', 'aceitunas\\n', 'mantequilla\\n', 'leche\\n', 'pollo\\n', 'pasta\\n', 'ni trampa ni carton']\n"
     ]
    }
   ],
   "source": [
    "# leer todas las líneas de una vez\n",
    "with open('resources/lista_compra.txt') as archivo:\n",
    "    lines = archivo.readlines()\n",
    "    print(lines)\n"
   ]
  },
  {
   "cell_type": "code",
   "execution_count": 5,
   "metadata": {},
   "outputs": [
    {
     "data": {
      "text/plain": [
       "['bananas',\n",
       " 'peras',\n",
       " 'manzanas',\n",
       " 'aceitunas',\n",
       " 'mantequilla',\n",
       " 'leche',\n",
       " 'pollo',\n",
       " 'pasta',\n",
       " 'ni trampa ni carton']"
      ]
     },
     "execution_count": 5,
     "metadata": {},
     "output_type": "execute_result"
    }
   ],
   "source": [
    "lines_clean = [x.rstrip() for x in lines] # elimina caracter terminación de línea (\\n)\n",
    "lines_clean"
   ]
  },
  {
   "cell_type": "markdown",
   "metadata": {
    "slideshow": {
     "slide_type": "subslide"
    }
   },
   "source": [
    "### Elegir entre escritura y lectura con modo de acceso\n"
   ]
  },
  {
   "cell_type": "code",
   "execution_count": 6,
   "metadata": {
    "slideshow": {
     "slide_type": "fragment"
    }
   },
   "outputs": [],
   "source": [
    "# escritura a archivo\n",
    "with open('resources/clase20200331.txt','w') as archivo:\n",
    "    archivo.write('Esta es la primera linea\\n')\n",
    "    sequence = [str(x) + '\\n' for x in range(-5,6)]\n",
    "    archivo.writelines(sequence)\n",
    "    archivo.write('Esta es la última linea\\n')\n"
   ]
  },
  {
   "cell_type": "markdown",
   "metadata": {
    "slideshow": {
     "slide_type": "subslide"
    }
   },
   "source": [
    "## Lectura y escritura de archivos 'CSV'\n",
    "- Python permite interpretar datos CSV\n",
    "- Popular formato en ciencia de datos"
   ]
  },
  {
   "cell_type": "code",
   "execution_count": 7,
   "metadata": {
    "slideshow": {
     "slide_type": "fragment"
    }
   },
   "outputs": [],
   "source": [
    "# Tabla1.csv contiene la Tabla 1 del manual, con valores separados por comas\n",
    "import csv"
   ]
  },
  {
   "cell_type": "code",
   "execution_count": 32,
   "metadata": {},
   "outputs": [],
   "source": [
    "# defino el archivo  CSV\n",
    "archivo = open('resources/Tabla1.csv')\n",
    "# creo un objeto de lectura del archivo de CSV\n",
    "lector_datos = csv.reader(archivo,delimiter=',')"
   ]
  },
  {
   "cell_type": "code",
   "execution_count": 24,
   "metadata": {},
   "outputs": [
    {
     "name": "stdout",
     "output_type": "stream",
     "text": [
      "['Operacion', 'Descripcion']\n",
      "['a + b', 'suma a y b']\n",
      "['a - b', 'resta a menos b']\n",
      "['a / b', 'a dividido entre b']\n",
      "['a // b', 'a dividido entre b (quitando decimales)']\n",
      "['a * b', 'a multiplicado por b']\n",
      "['a ** b', 'a elevado a b']\n",
      "['a % b', 'devuelve el resto de la division a / b (modulus)']\n",
      "['a & b', 'bool: True si a y b son True\\n int: bitwise AND']\n",
      "['a | b', 'bool: True si a o b esTrue\\n int: bitwise OR']\n",
      "['a ^ b', 'bool: True si solo uno de los dos es True\\n int: bitwise EXCLUSIVE OR']\n",
      "['a == b', 'True si a y b son iguales']\n",
      "['a != b', 'True si a y b son distintos']\n",
      "['a is b', 'True si a y b son referencias al mismo objeto']\n",
      "['a is not b', 'True si a y b son referencias a distintos objetos']\n",
      "['a <= b, a < b', 'True si a es menor o igual que b (o solo menor)']\n",
      "['a >= b, a > b', 'True si a es mayor o igual que b (o solo mayor)']\n"
     ]
    }
   ],
   "source": [
    "for line in lector_datos:\n",
    "    print(line)"
   ]
  },
  {
   "cell_type": "code",
   "execution_count": 33,
   "metadata": {},
   "outputs": [
    {
     "name": "stdout",
     "output_type": "stream",
     "text": [
      "['Operacion', 'Descripcion']\n",
      "['a + b', 'suma a y b']\n",
      "['a - b', 'resta a menos b']\n",
      "['a / b', 'a dividido entre b']\n",
      "['a // b', 'a dividido entre b (quitando decimales)']\n",
      "['a * b', 'a multiplicado por b']\n",
      "['a ** b', 'a elevado a b']\n",
      "['a % b', 'devuelve el resto de la division a / b (modulus)']\n",
      "['a & b', 'bool: True si a y b son True\\n int: bitwise AND']\n",
      "['a | b', 'bool: True si a o b esTrue\\n int: bitwise OR']\n",
      "['a ^ b', 'bool: True si solo uno de los dos es True\\n int: bitwise EXCLUSIVE OR']\n",
      "['a == b', 'True si a y b son iguales']\n",
      "['a != b', 'True si a y b son distintos']\n",
      "['a is b', 'True si a y b son referencias al mismo objeto']\n",
      "['a is not b', 'True si a y b son referencias a distintos objetos']\n",
      "['a <= b, a < b', 'True si a es menor o igual que b (o solo menor)']\n",
      "['a >= b, a > b', 'True si a es mayor o igual que b (o solo mayor)']\n"
     ]
    }
   ],
   "source": [
    "# copiar los valores de Tabla1\n",
    "with open('resources/Nuevoejemplo.csv','w') as f2:\n",
    "   csv_writer = csv.writer(f2,delimiter=';')\n",
    "   for line in lector_datos:\n",
    "       csv_writer.writerow(line)\n",
    "       print(line)"
   ]
  },
  {
   "cell_type": "code",
   "execution_count": 34,
   "metadata": {},
   "outputs": [],
   "source": [
    "f2.close()\n",
    "archivo.close()"
   ]
  },
  {
   "cell_type": "markdown",
   "metadata": {
    "slideshow": {
     "slide_type": "subslide"
    }
   },
   "source": [
    "## Errores de sintaxis\n",
    "- Corrige el código para que sea ejecutable\n",
    "\n",
    "- Colecciones: diccionarios y sets\n",
    "- Python comprehension\n",
    "- Funciones\n",
    "- Escribir y leer archivos"
   ]
  },
  {
   "cell_type": "code",
   "execution_count": 34,
   "metadata": {
    "slideshow": {
     "slide_type": "fragment"
    }
   },
   "outputs": [],
   "source": [
    "dict1 = {'name' : ['Munir','Carles','Dorian'], 'ages' : [9,27,87]}\n",
    "# cree un diccionario con tres claves y 6 valores\n"
   ]
  },
  {
   "cell_type": "code",
   "execution_count": 31,
   "metadata": {
    "slideshow": {
     "slide_type": "fragment"
    }
   },
   "outputs": [],
   "source": [
    "platforms = ['PS4', 'iOS', 'Android','PC']\n",
    "versions = [1.2,1.2,1.1,1.0]\n",
    "\n",
    "# cree un diccionario donde una ambas listas siendo platfroms la llave y version el valor "
   ]
  },
  {
   "cell_type": "code",
   "execution_count": 62,
   "metadata": {
    "slideshow": {
     "slide_type": "fragment"
    }
   },
   "outputs": [],
   "source": [
    "users = {'ID' : [123321,8976321], 'username': ['lamb018','xix112']}\n",
    "#Elimine el valor ID "
   ]
  },
  {
   "cell_type": "code",
   "execution_count": 33,
   "metadata": {
    "slideshow": {
     "slide_type": "fragment"
    }
   },
   "outputs": [
    {
     "data": {
      "text/plain": [
       "True"
      ]
     },
     "execution_count": 33,
     "metadata": {},
     "output_type": "execute_result"
    }
   ],
   "source": [
    "integer_numbers = {-5,-4,-3,-2,-1,0,1,2,3,4,5}\n",
    "positive_numbers = {1,2,3,4,5}\n",
    "negative_numbers = {-5,-4,-3,-2,-1}\n",
    "# verifique si los numeros enteros es un super conjunto de los positivos\n",
    "# verifique si los numeros enteros es un subconjunto de los negativos\n",
    "# er"
   ]
  },
  {
   "cell_type": "code",
   "execution_count": 32,
   "metadata": {
    "slideshow": {
     "slide_type": "fragment"
    }
   },
   "outputs": [
    {
     "ename": "NameError",
     "evalue": "name 'integer_numbers' is not defined",
     "output_type": "error",
     "traceback": [
      "\u001b[1;31m---------------------------------------------------------------------------\u001b[0m",
      "\u001b[1;31mNameError\u001b[0m                                 Traceback (most recent call last)",
      "\u001b[1;32m<ipython-input-32-30803eebf8a3>\u001b[0m in \u001b[0;36m<module>\u001b[1;34m\u001b[0m\n\u001b[1;32m----> 1\u001b[1;33m \u001b[1;33m-\u001b[0m\u001b[1;36m5\u001b[0m  \u001b[1;32min\u001b[0m \u001b[0minteger_numbers\u001b[0m\u001b[1;33m\u001b[0m\u001b[1;33m\u001b[0m\u001b[0m\n\u001b[0m",
      "\u001b[1;31mNameError\u001b[0m: name 'integer_numbers' is not defined"
     ]
    }
   ],
   "source": [
    "-5  issubset integer_numbers"
   ]
  },
  {
   "cell_type": "code",
   "execution_count": 21,
   "metadata": {
    "slideshow": {
     "slide_type": "fragment"
    }
   },
   "outputs": [
    {
     "name": "stdout",
     "output_type": "stream",
     "text": [
      "[0, 1, 2, 3, 4, 5, 6, 7, 8, 9]\n"
     ]
    }
   ],
   "source": [
    "#numbers = x for x in range(10)\n",
    "numbers = list(range(10))\n",
    "print (numbers)"
   ]
  },
  {
   "cell_type": "code",
   "execution_count": 26,
   "metadata": {
    "slideshow": {
     "slide_type": "fragment"
    }
   },
   "outputs": [
    {
     "name": "stdout",
     "output_type": "stream",
     "text": [
      "This is a function\n"
     ]
    }
   ],
   "source": [
    "def function():\n",
    "    print('This is a function')\n",
    "function()    "
   ]
  },
  {
   "cell_type": "code",
   "execution_count": 36,
   "metadata": {
    "slideshow": {
     "slide_type": "fragment"
    }
   },
   "outputs": [
    {
     "name": "stdout",
     "output_type": "stream",
     "text": [
      "6\n"
     ]
    },
    {
     "ename": "TypeError",
     "evalue": "sum() missing 1 required positional argument: 'c'",
     "output_type": "error",
     "traceback": [
      "\u001b[1;31m---------------------------------------------------------------------------\u001b[0m",
      "\u001b[1;31mTypeError\u001b[0m                                 Traceback (most recent call last)",
      "\u001b[1;32m<ipython-input-36-4957baf73a46>\u001b[0m in \u001b[0;36m<module>\u001b[1;34m\u001b[0m\n\u001b[0;32m      3\u001b[0m     \u001b[1;32mreturn\u001b[0m \u001b[0ma\u001b[0m\u001b[1;33m+\u001b[0m\u001b[0mb\u001b[0m\u001b[1;33m+\u001b[0m\u001b[0mc\u001b[0m\u001b[1;33m\u001b[0m\u001b[1;33m\u001b[0m\u001b[0m\n\u001b[0;32m      4\u001b[0m \u001b[0mprint\u001b[0m\u001b[1;33m(\u001b[0m\u001b[0msum\u001b[0m\u001b[1;33m(\u001b[0m\u001b[1;36m2\u001b[0m\u001b[1;33m,\u001b[0m\u001b[1;36m3\u001b[0m\u001b[1;33m,\u001b[0m\u001b[1;36m1\u001b[0m\u001b[1;33m)\u001b[0m\u001b[1;33m)\u001b[0m\u001b[1;33m\u001b[0m\u001b[1;33m\u001b[0m\u001b[0m\n\u001b[1;32m----> 5\u001b[1;33m \u001b[0mprint\u001b[0m\u001b[1;33m(\u001b[0m\u001b[0msum\u001b[0m\u001b[1;33m(\u001b[0m\u001b[1;36m2\u001b[0m\u001b[1;33m,\u001b[0m\u001b[1;36m3\u001b[0m\u001b[1;33m)\u001b[0m\u001b[1;33m)\u001b[0m\u001b[1;33m\u001b[0m\u001b[1;33m\u001b[0m\u001b[0m\n\u001b[0m\u001b[0;32m      6\u001b[0m \u001b[0mprint\u001b[0m\u001b[1;33m(\u001b[0m\u001b[0msum\u001b[0m\u001b[1;33m(\u001b[0m\u001b[1;33m)\u001b[0m\u001b[1;33m)\u001b[0m\u001b[1;33m\u001b[0m\u001b[1;33m\u001b[0m\u001b[0m\n",
      "\u001b[1;31mTypeError\u001b[0m: sum() missing 1 required positional argument: 'c'"
     ]
    }
   ],
   "source": [
    "# definir función con tres variables que si no se incluyen las tres variables siga funcionando \n",
    "def sum(a,b,c):\n",
    "    return a+b+c\n",
    "print(sum(2,3,1))\n",
    "print(sum(2,3))\n",
    "print(sum())"
   ]
  },
  {
   "cell_type": "code",
   "execution_count": 38,
   "metadata": {
    "slideshow": {
     "slide_type": "fragment"
    }
   },
   "outputs": [
    {
     "ename": "TypeError",
     "evalue": "open() missing required argument 'file' (pos 1)",
     "output_type": "error",
     "traceback": [
      "\u001b[1;31m---------------------------------------------------------------------------\u001b[0m",
      "\u001b[1;31mTypeError\u001b[0m                                 Traceback (most recent call last)",
      "\u001b[1;32m<ipython-input-38-0496a69be55d>\u001b[0m in \u001b[0;36m<module>\u001b[1;34m\u001b[0m\n\u001b[0;32m      1\u001b[0m \u001b[1;31m# abra el archivo lista_compra.txt e imprima los valores\u001b[0m\u001b[1;33m\u001b[0m\u001b[1;33m\u001b[0m\u001b[1;33m\u001b[0m\u001b[0m\n\u001b[1;32m----> 2\u001b[1;33m \u001b[1;32mwith\u001b[0m \u001b[0mopen\u001b[0m\u001b[1;33m(\u001b[0m\u001b[1;33m)\u001b[0m \u001b[1;32mas\u001b[0m \u001b[0mf\u001b[0m\u001b[1;33m:\u001b[0m\u001b[1;33m\u001b[0m\u001b[1;33m\u001b[0m\u001b[0m\n\u001b[0m\u001b[0;32m      3\u001b[0m     \u001b[1;32mfor\u001b[0m \u001b[0mline\u001b[0m \u001b[1;32min\u001b[0m \u001b[0mf\u001b[0m\u001b[1;33m:\u001b[0m\u001b[1;33m\u001b[0m\u001b[1;33m\u001b[0m\u001b[0m\n\u001b[0;32m      4\u001b[0m         \u001b[0mprint\u001b[0m\u001b[1;33m(\u001b[0m\u001b[0mline\u001b[0m\u001b[1;33m)\u001b[0m\u001b[1;33m\u001b[0m\u001b[1;33m\u001b[0m\u001b[0m\n",
      "\u001b[1;31mTypeError\u001b[0m: open() missing required argument 'file' (pos 1)"
     ]
    }
   ],
   "source": [
    "# abra el archivo lista_compra.txt e imprima los valores \n",
    "with open() as f:\n",
    "    for line in f:\n",
    "        print(line)"
   ]
  },
  {
   "cell_type": "code",
   "execution_count": 75,
   "metadata": {},
   "outputs": [],
   "source": [
    "# abra el archivo lista_compra.txt e imprima los valores \n",
    "# cree un archivo con los valores del 1 al 100"
   ]
  }
 ],
 "metadata": {
  "celltoolbar": "Slideshow",
  "kernelspec": {
   "display_name": "Python 3",
   "language": "python",
   "name": "python3"
  },
  "language_info": {
   "codemirror_mode": {
    "name": "ipython",
    "version": 3
   },
   "file_extension": ".py",
   "mimetype": "text/x-python",
   "name": "python",
   "nbconvert_exporter": "python",
   "pygments_lexer": "ipython3",
   "version": "3.7.3"
  }
 },
 "nbformat": 4,
 "nbformat_minor": 2
}
