{
  "nbformat": 4,
  "nbformat_minor": 0,
  "metadata": {
    "kernelspec": {
      "display_name": "Python 3",
      "language": "python",
      "name": "python3"
    },
    "language_info": {
      "codemirror_mode": {
        "name": "ipython",
        "version": 3
      },
      "file_extension": ".py",
      "mimetype": "text/x-python",
      "name": "python",
      "nbconvert_exporter": "python",
      "pygments_lexer": "ipython3",
      "version": "3.7.0"
    },
    "colab": {
      "name": "1a-python.ipynb",
      "provenance": [],
      "include_colab_link": true
    }
  },
  "cells": [
    {
      "cell_type": "markdown",
      "metadata": {
        "id": "view-in-github",
        "colab_type": "text"
      },
      "source": [
        "<a href=\"https://colab.research.google.com/github/julian-masdatascience/ML/blob/master/Clases/Clase_1.ipynb\" target=\"_parent\"><img src=\"https://colab.research.google.com/assets/colab-badge.svg\" alt=\"Open In Colab\"/></a>"
      ]
    },
    {
      "cell_type": "markdown",
      "metadata": {
        "id": "rPxYUyQXCgaN",
        "colab_type": "text"
      },
      "source": [
        "#BIENVENIDOS AL MUNDO PYTHON\n",
        "![texto alternativo](https://encrypted-tbn0.gstatic.com/images?q=tbn%3AANd9GcQY1uddlUtoHBR2P7B2gDqXaLESQAV3SZKHIoyb2GpeibFCcsDS)"
      ]
    },
    {
      "cell_type": "markdown",
      "metadata": {
        "id": "5iob866zChoa",
        "colab_type": "text"
      },
      "source": [
        "# Introducción al lenguaje\n",
        "<br>\n",
        "Python es un lenguaje dinámico, interpretado (compilado por bytecode). No hay declaraciones de tipo de variables, parámetros, funciones o métodos en el código fuente. Esto hace que el código sea corto y flexible. Python rastrea los tipos de todos los valores en tiempo de ejecución.\n",
        "<br>\n",
        "Una excelente manera de ver cómo funciona el código Python es ejecutar el intérprete de Python y escribir el código directamente en él. "
      ]
    },
    {
      "cell_type": "code",
      "metadata": {
        "id": "oGW2RXsUDUkE",
        "colab_type": "code",
        "colab": {}
      },
      "source": [
        "# defino una variable\n",
        "variable = 10"
      ],
      "execution_count": 0,
      "outputs": []
    },
    {
      "cell_type": "code",
      "metadata": {
        "id": "ByQkSDesDZFJ",
        "colab_type": "code",
        "colab": {
          "base_uri": "https://localhost:8080/",
          "height": 34
        },
        "outputId": "f8134305-4734-4439-d6a9-874d3814e081"
      },
      "source": [
        "# miro su valor\n",
        "variable"
      ],
      "execution_count": 3,
      "outputs": [
        {
          "output_type": "execute_result",
          "data": {
            "text/plain": [
              "10"
            ]
          },
          "metadata": {
            "tags": []
          },
          "execution_count": 3
        }
      ]
    },
    {
      "cell_type": "code",
      "metadata": {
        "id": "_8unZP3vDfUx",
        "colab_type": "code",
        "colab": {
          "base_uri": "https://localhost:8080/",
          "height": 34
        },
        "outputId": "0f5443ea-5973-450a-c895-7ec2afe3b87c"
      },
      "source": [
        "# la puedo modificar o sumar en linea\n",
        "variable+5"
      ],
      "execution_count": 4,
      "outputs": [
        {
          "output_type": "execute_result",
          "data": {
            "text/plain": [
              "15"
            ]
          },
          "metadata": {
            "tags": []
          },
          "execution_count": 4
        }
      ]
    },
    {
      "cell_type": "code",
      "metadata": {
        "id": "mJ3hERywDk23",
        "colab_type": "code",
        "colab": {
          "base_uri": "https://localhost:8080/",
          "height": 34
        },
        "outputId": "2532fcd1-9792-4792-8ed6-b4d509ee530b"
      },
      "source": [
        "# No solo números, puede ser letras tambien\n",
        "letras = \"Julian\"\n",
        "letras"
      ],
      "execution_count": 6,
      "outputs": [
        {
          "output_type": "execute_result",
          "data": {
            "text/plain": [
              "'Julian'"
            ]
          },
          "metadata": {
            "tags": []
          },
          "execution_count": 6
        }
      ]
    },
    {
      "cell_type": "code",
      "metadata": {
        "id": "NCROekZ6Du29",
        "colab_type": "code",
        "colab": {
          "base_uri": "https://localhost:8080/",
          "height": 34
        },
        "outputId": "695c5f41-8a6f-4009-fc3d-5c3b7757a95c"
      },
      "source": [
        "# Existen funciones como len que miden el tamaño de las variables \n",
        "len(letras)"
      ],
      "execution_count": 7,
      "outputs": [
        {
          "output_type": "execute_result",
          "data": {
            "text/plain": [
              "6"
            ]
          },
          "metadata": {
            "tags": []
          },
          "execution_count": 7
        }
      ]
    },
    {
      "cell_type": "code",
      "metadata": {
        "id": "BEq4EPATEGyK",
        "colab_type": "code",
        "colab": {
          "base_uri": "https://localhost:8080/",
          "height": 167
        },
        "outputId": "6a71ef3f-82e3-446a-dea8-3be14174e8b9"
      },
      "source": [
        "# Cuidado a veces salen errores como este, pero no se preocupen es normal\n",
        "letras +\" \"+ len(letras)"
      ],
      "execution_count": 13,
      "outputs": [
        {
          "output_type": "error",
          "ename": "TypeError",
          "evalue": "ignored",
          "traceback": [
            "\u001b[0;31m---------------------------------------------------------------------------\u001b[0m",
            "\u001b[0;31mTypeError\u001b[0m                                 Traceback (most recent call last)",
            "\u001b[0;32m<ipython-input-13-25ef2b8550c9>\u001b[0m in \u001b[0;36m<module>\u001b[0;34m()\u001b[0m\n\u001b[0;32m----> 1\u001b[0;31m \u001b[0mletras\u001b[0m \u001b[0;34m+\u001b[0m\u001b[0;34m\" \"\u001b[0m\u001b[0;34m+\u001b[0m \u001b[0mlen\u001b[0m\u001b[0;34m(\u001b[0m\u001b[0mletras\u001b[0m\u001b[0;34m)\u001b[0m\u001b[0;34m\u001b[0m\u001b[0;34m\u001b[0m\u001b[0m\n\u001b[0m",
            "\u001b[0;31mTypeError\u001b[0m: must be str, not int"
          ]
        }
      ]
    },
    {
      "cell_type": "code",
      "metadata": {
        "id": "n1dS_Hr8EeoX",
        "colab_type": "code",
        "colab": {
          "base_uri": "https://localhost:8080/",
          "height": 34
        },
        "outputId": "795275a1-0000-4ef9-e071-4be9756d8391"
      },
      "source": [
        "# miremos los tipos de datos que existen\n",
        "type(letras)"
      ],
      "execution_count": 14,
      "outputs": [
        {
          "output_type": "execute_result",
          "data": {
            "text/plain": [
              "str"
            ]
          },
          "metadata": {
            "tags": []
          },
          "execution_count": 14
        }
      ]
    },
    {
      "cell_type": "code",
      "metadata": {
        "id": "ERZgsNJIEgTU",
        "colab_type": "code",
        "colab": {
          "base_uri": "https://localhost:8080/",
          "height": 34
        },
        "outputId": "1ce4276b-eb11-49a4-c712-d45b2a3d163d"
      },
      "source": [
        "# miremos ahora el tamaño que es. \n",
        "type(len(letras))"
      ],
      "execution_count": 15,
      "outputs": [
        {
          "output_type": "execute_result",
          "data": {
            "text/plain": [
              "int"
            ]
          },
          "metadata": {
            "tags": []
          },
          "execution_count": 15
        }
      ]
    },
    {
      "cell_type": "code",
      "metadata": {
        "id": "0QXhh8xAD3xZ",
        "colab_type": "code",
        "colab": {
          "base_uri": "https://localhost:8080/",
          "height": 34
        },
        "outputId": "31939583-8d0f-492b-f5a6-0a12f97a706a"
      },
      "source": [
        "# Puedo nuevamente unir valores\n",
        "letras +\" \"+ str(len(letras))"
      ],
      "execution_count": 16,
      "outputs": [
        {
          "output_type": "execute_result",
          "data": {
            "text/plain": [
              "'Julian 6'"
            ]
          },
          "metadata": {
            "tags": []
          },
          "execution_count": 16
        }
      ]
    },
    {
      "cell_type": "code",
      "metadata": {
        "id": "deolMfAzE383",
        "colab_type": "code",
        "colab": {
          "base_uri": "https://localhost:8080/",
          "height": 105
        },
        "outputId": "d4de645e-6fce-45b4-88c0-2622d711f254"
      },
      "source": [
        "# Tambien se ´puede consultar que significan las funciones, como la de longitud\n",
        "help(len)"
      ],
      "execution_count": 18,
      "outputs": [
        {
          "output_type": "stream",
          "text": [
            "Help on built-in function len in module builtins:\n",
            "\n",
            "len(obj, /)\n",
            "    Return the number of items in a container.\n",
            "\n"
          ],
          "name": "stdout"
        }
      ]
    },
    {
      "cell_type": "markdown",
      "metadata": {
        "id": "P-cKud28Chrh",
        "colab_type": "text"
      },
      "source": [
        "## Ahorá si miremos como funcional"
      ]
    },
    {
      "cell_type": "markdown",
      "metadata": {
        "id": "Ii5QR1XU3svd",
        "colab_type": "text"
      },
      "source": [
        "# 1. Elementos basicos\n",
        "\n",
        "\n"
      ]
    },
    {
      "cell_type": "markdown",
      "metadata": {
        "id": "L4ZlWPUC3svr",
        "colab_type": "text"
      },
      "source": [
        "Si bien Python es el lenguaje de programación para este taller, Jupyter es el entorno interactivo en el que operaremos durante todas nuestras clases.\n",
        "<br>\n",
        "Este primer  taller analiza los conceptos básicos de lenguaje y los paquetes integrados."
      ]
    },
    {
      "cell_type": "markdown",
      "metadata": {
        "id": "aykAK3L63svu",
        "colab_type": "text"
      },
      "source": [
        "## 1a. Python"
      ]
    },
    {
      "cell_type": "markdown",
      "metadata": {
        "id": "Owakj2Xm3sv4",
        "colab_type": "text"
      },
      "source": [
        "Por que Python\n",
        "\n",
        "- **Alta demanda**: Prolífiero no solo en Data Science, sino también en desarrollo web y otras áreas (Es 5ta tecnología más popular y  la de más rápido crecimiento: [Stack Overflow 2019] (https://insights.stackoverflow.com/ encuesta / 2019 # tecnologías más populares))\n",
        "- **Divertido**: fácil de entender y expresivo, no innecesariamente detallado (segundo lenguaje de programación más querido: [StackOverflow 2019] (https://insights.stackoverflow.com/survey/2019#most-loved-dreaded-and -querido))\n",
        "- **Comunidad fuerte**: Siempre hay paquetes de alta calidad y tutoriales ([IEEE 2019] (https://spectrum.ieee.org/computing/software/the-top-programming-languages-2019) lo nombró la mejor idioma de programación)\n",
        "\n",
        "<img src = \"https://i.imgur.com/HqeQKP8.png\" width = 400> </img>\n",
        "<img src = \"https://i.imgur.com/K5iCwvH.png\" width = 450> </img>"
      ]
    },
    {
      "cell_type": "markdown",
      "metadata": {
        "id": "p6S_1D5L3sv7",
        "colab_type": "text"
      },
      "source": [
        "### Table of contents\n",
        "\n",
        "- El lenguaje de programación Python  \n",
        "  - Basico\n",
        "  - Variables\n",
        "  - Estructuras de datos\n",
        "    - Lista  \n",
        "    - String  \n",
        "    - Diccionario \n",
        "    - Otros \n",
        "  - Iteración  \n",
        "  - Funciones  \n",
        "  - Declaraciones condicionales  \n",
        "  - Manejo de errores \n",
        "  - Documentación  \n",
        "  - Incorporados relevantes  \n",
        "    - Funciones misceláneas  \n",
        "    - Expresiones regulares  \n",
        "    - SO  \n",
        "    - JSON ( \n",
        "    - Fecha y hora   \n",
        "    - Serialización  "
      ]
    },
    {
      "cell_type": "markdown",
      "metadata": {
        "id": "vFIMIvsa3swE",
        "colab_type": "text"
      },
      "source": [
        "---"
      ]
    },
    {
      "cell_type": "markdown",
      "metadata": {
        "id": "JbD8c_VU3sxS",
        "colab_type": "text"
      },
      "source": [
        "**¿Como se trabaja en Jupyter Notebook?**: \n",
        "- Se ejecuta la celda presionando **ctrl+enter**\n",
        "- Se editan las celdas haciendo click directamente \n",
        "- Press **b** to insert a new cell"
      ]
    },
    {
      "cell_type": "markdown",
      "metadata": {
        "id": "Tq--QxgJ3sxa",
        "colab_type": "text"
      },
      "source": [
        "---"
      ]
    },
    {
      "cell_type": "markdown",
      "metadata": {
        "id": "405uppHx3sxe",
        "colab_type": "text"
      },
      "source": [
        "Documentar nuestro código es algo esencial para entenderlo más adelante, o dejar que otra persona que no lo desarrollo lo pueda manipular, para ello lo hacemo susando un # , lo cual nos indica que esa linea es documentada y no hará parte de la ejecución de lo que estemos haciendo. "
      ]
    },
    {
      "cell_type": "code",
      "metadata": {
        "id": "LoNPy5Rs3sxo",
        "colab_type": "code",
        "colab": {}
      },
      "source": [
        "# Esto es un comentario"
      ],
      "execution_count": 0,
      "outputs": []
    },
    {
      "cell_type": "code",
      "metadata": {
        "id": "szXh4ZHxHgMT",
        "colab_type": "code",
        "colab": {
          "base_uri": "https://localhost:8080/",
          "height": 132
        },
        "outputId": "908047b0-e216-4f47-f8b7-d61584d8c931"
      },
      "source": [
        "¿que pasa si no coloco el # y ejecuto?"
      ],
      "execution_count": 18,
      "outputs": [
        {
          "output_type": "error",
          "ename": "SyntaxError",
          "evalue": "ignored",
          "traceback": [
            "\u001b[0;36m  File \u001b[0;32m\"<ipython-input-19-6598d571569e>\"\u001b[0;36m, line \u001b[0;32m1\u001b[0m\n\u001b[0;31m    ¿que pasa si no coloco el # y ejecuto?\u001b[0m\n\u001b[0m       ^\u001b[0m\n\u001b[0;31mSyntaxError\u001b[0m\u001b[0;31m:\u001b[0m invalid character in identifier\n"
          ]
        }
      ]
    },
    {
      "cell_type": "markdown",
      "metadata": {
        "id": "L-zcB5aY3sx1",
        "colab_type": "text"
      },
      "source": [
        "### Basicos"
      ]
    },
    {
      "cell_type": "markdown",
      "metadata": {
        "id": "JDeDy6er3sx6",
        "colab_type": "text"
      },
      "source": [
        "Los tipos de datos más usados son:\n",
        " - `int`: Enteros\n",
        " - `float`: Números decimales\n",
        " - `str`: Palabras (información alfanúmerica) \n",
        " - `bool`: Nos da dos estados, verdadero o falso\n",
        " - `None`: Sin valor (similar al null o nulo en otros lenguajes)"
      ]
    },
    {
      "cell_type": "markdown",
      "metadata": {
        "id": "1-18CbKr3syN",
        "colab_type": "text"
      },
      "source": [
        "### Basic arithmetic"
      ]
    },
    {
      "cell_type": "markdown",
      "metadata": {
        "id": "nSvoBKJTH_mP",
        "colab_type": "text"
      },
      "source": [
        "## Resumen basico de operadores\n",
        "\n",
        "| Operación | Descripción   |\n",
        "|------|------|\n",
        "|   a + b  | suma a y b|\n",
        "|   a - b   | resta a menos b |\n",
        "|   a // b    | a dividido entre b (quitando decimales) |\n",
        "|    a * b  |  a multiplicado por b |\n",
        "|    a ** b   | a elevado a b |\n",
        "| a % b     |devuelve el resto de la división a / b (modulus)  |\n",
        "|   a & b   | bool: True si a y b son True |\n",
        "|   a | b   | bool: True si a o b es True |\n",
        "|   a ^ b   | bool: True si solo uno de los dos es True |\n",
        "|  a == b     | True si a y b son iguales |\n",
        "|  a != b    | True si a y b son distintos |\n",
        "|  a is b    | True si a y b son referencias al mismo objeto |\n",
        "| a is not b      | True si a y b son referencias a distintos objetos |\n",
        "| a <= b, a < b     | True si a es menor o igual que b (o solo menor) |\n",
        "| a >= b, a > b      | True si a es mayor o igual que b (o solo mayor) |\n"
      ]
    },
    {
      "cell_type": "code",
      "metadata": {
        "id": "xJHkyyWa3syU",
        "colab_type": "code",
        "colab": {
          "base_uri": "https://localhost:8080/",
          "height": 34
        },
        "outputId": "cd0ae2de-9fc8-48fd-f182-981fecd3924a"
      },
      "source": [
        "1 + 9"
      ],
      "execution_count": 19,
      "outputs": [
        {
          "output_type": "execute_result",
          "data": {
            "text/plain": [
              "10"
            ]
          },
          "metadata": {
            "tags": []
          },
          "execution_count": 19
        },
        {
          "output_type": "stream",
          "text": [
            "ERROR! Session/line number was not unique in database. History logging moved to new session 59\n"
          ],
          "name": "stdout"
        }
      ]
    },
    {
      "cell_type": "code",
      "metadata": {
        "id": "MC8QGqnf3syz",
        "colab_type": "code",
        "colab": {}
      },
      "source": [
        "2 ** 3  # power operator"
      ],
      "execution_count": 0,
      "outputs": []
    },
    {
      "cell_type": "markdown",
      "metadata": {
        "id": "P8YWGUFS3szE",
        "colab_type": "text"
      },
      "source": [
        "### Variables"
      ]
    },
    {
      "cell_type": "markdown",
      "metadata": {
        "id": "mIwmgbMh3szI",
        "colab_type": "text"
      },
      "source": [
        "Assign a value to a symbol:"
      ]
    },
    {
      "cell_type": "code",
      "metadata": {
        "id": "LrGYi3Ic3szN",
        "colab_type": "code",
        "colab": {}
      },
      "source": [
        "name = 'Peter Parker'  # strings use either single or double quotes\n",
        "age = 21\n",
        "height = 5.84\n",
        "married = False"
      ],
      "execution_count": 0,
      "outputs": []
    },
    {
      "cell_type": "code",
      "metadata": {
        "id": "rYwr8KYx3szh",
        "colab_type": "code",
        "colab": {}
      },
      "source": [
        "age / 2"
      ],
      "execution_count": 0,
      "outputs": []
    },
    {
      "cell_type": "code",
      "metadata": {
        "id": "jcTgRaWc3s0d",
        "colab_type": "code",
        "colab": {}
      },
      "source": [
        "age // 2  # only whole part"
      ],
      "execution_count": 0,
      "outputs": []
    },
    {
      "cell_type": "markdown",
      "metadata": {
        "id": "YRXQTcSz3s0m",
        "colab_type": "text"
      },
      "source": [
        "**💪 Exercise**: create a variable called `favorite_number`, which stores your favorite (as an integer) and then compute its square:"
      ]
    },
    {
      "cell_type": "code",
      "metadata": {
        "id": "jwChvlZk3s0o",
        "colab_type": "code",
        "colab": {}
      },
      "source": [
        "favorite_number = 24"
      ],
      "execution_count": 0,
      "outputs": []
    },
    {
      "cell_type": "code",
      "metadata": {
        "id": "Y1-Pz5M53s1L",
        "colab_type": "code",
        "colab": {}
      },
      "source": [
        "favorite_number ** 2"
      ],
      "execution_count": 0,
      "outputs": []
    },
    {
      "cell_type": "markdown",
      "metadata": {
        "id": "BNtl8ru_3s2J",
        "colab_type": "text"
      },
      "source": [
        "**ℹ️ Tip**: always give descriptive names to variables, readability over tersity. A descriptive name makes it easy to work with the variable and allows to programmer to more intuitively estimate what's going to happen."
      ]
    },
    {
      "cell_type": "markdown",
      "metadata": {
        "id": "IMLY404n3s2N",
        "colab_type": "text"
      },
      "source": [
        "**ℹ️ Tip**: make number literals more readable by:\n",
        " - omitting the leading zero (`.24 + .17` instead of `0.25 + 0.17`)\n",
        " - omitting the trailing zero when forcing float conversion (`10.` instead of `10.0`)\n",
        " - separating long numebrs using `_` (`1_240_000` instead of `1240000`)"
      ]
    },
    {
      "cell_type": "markdown",
      "metadata": {
        "id": "Q3TTnZp43s2n",
        "colab_type": "text"
      },
      "source": [
        "---"
      ]
    },
    {
      "cell_type": "markdown",
      "metadata": {
        "id": "7Q_uZ1_53s2p",
        "colab_type": "text"
      },
      "source": [
        "Find out what kind of value a variable holds:"
      ]
    },
    {
      "cell_type": "code",
      "metadata": {
        "id": "Hb_ty-xX3s2s",
        "colab_type": "code",
        "colab": {}
      },
      "source": [
        "type(age)"
      ],
      "execution_count": 0,
      "outputs": []
    },
    {
      "cell_type": "code",
      "metadata": {
        "id": "wtYv_EAQ3s3A",
        "colab_type": "code",
        "colab": {}
      },
      "source": [
        "type(height) is float"
      ],
      "execution_count": 0,
      "outputs": []
    },
    {
      "cell_type": "markdown",
      "metadata": {
        "id": "AgmZZu9M3s3Q",
        "colab_type": "text"
      },
      "source": [
        "---"
      ]
    },
    {
      "cell_type": "markdown",
      "metadata": {
        "id": "N89-D9F03s3S",
        "colab_type": "text"
      },
      "source": [
        "Convert compatible values:"
      ]
    },
    {
      "cell_type": "code",
      "metadata": {
        "id": "qWg2YtDk3s3W",
        "colab_type": "code",
        "colab": {}
      },
      "source": [
        "int(2.8)"
      ],
      "execution_count": 0,
      "outputs": []
    },
    {
      "cell_type": "code",
      "metadata": {
        "id": "ldWuHB-Z3s3g",
        "colab_type": "code",
        "colab": {}
      },
      "source": [
        "int('2')"
      ],
      "execution_count": 0,
      "outputs": []
    },
    {
      "cell_type": "code",
      "metadata": {
        "id": "u1Puu7DF3s3q",
        "colab_type": "code",
        "colab": {}
      },
      "source": [
        "float(2)"
      ],
      "execution_count": 0,
      "outputs": []
    },
    {
      "cell_type": "code",
      "metadata": {
        "id": "S_GLWoFV3s3y",
        "colab_type": "code",
        "colab": {}
      },
      "source": [
        "str(123)"
      ],
      "execution_count": 0,
      "outputs": []
    },
    {
      "cell_type": "markdown",
      "metadata": {
        "id": "SGRuIgno3s38",
        "colab_type": "text"
      },
      "source": [
        "**💪 Exercise**: check the type of before `'7'` and after conversion to `int` and `float`."
      ]
    },
    {
      "cell_type": "code",
      "metadata": {
        "id": "SEqnW8Uv3s3-",
        "colab_type": "code",
        "colab": {}
      },
      "source": [
        ""
      ],
      "execution_count": 0,
      "outputs": []
    },
    {
      "cell_type": "markdown",
      "metadata": {
        "id": "iNRs5_pv3s4G",
        "colab_type": "text"
      },
      "source": [
        "### Data Structures"
      ]
    },
    {
      "cell_type": "markdown",
      "metadata": {
        "id": "LruCyRwS3s4I",
        "colab_type": "text"
      },
      "source": [
        "Data structures are containers for other values."
      ]
    },
    {
      "cell_type": "markdown",
      "metadata": {
        "id": "wr52IsyP3s4K",
        "colab_type": "text"
      },
      "source": [
        "#### List"
      ]
    },
    {
      "cell_type": "markdown",
      "metadata": {
        "id": "nX9Oh-iJ3s4M",
        "colab_type": "text"
      },
      "source": [
        "A list is a sequence of elements."
      ]
    },
    {
      "cell_type": "code",
      "metadata": {
        "id": "Go6VtOcv3s4P",
        "colab_type": "code",
        "colab": {}
      },
      "source": [
        "squares = [0, 1, 4, 9]"
      ],
      "execution_count": 0,
      "outputs": []
    },
    {
      "cell_type": "code",
      "metadata": {
        "id": "jC3nnqkr3s4V",
        "colab_type": "code",
        "colab": {}
      },
      "source": [
        "squares"
      ],
      "execution_count": 0,
      "outputs": []
    },
    {
      "cell_type": "code",
      "metadata": {
        "id": "fWBkM_183s4e",
        "colab_type": "code",
        "colab": {}
      },
      "source": [
        "squares.append(25)  # add one element at the end"
      ],
      "execution_count": 0,
      "outputs": []
    },
    {
      "cell_type": "code",
      "metadata": {
        "id": "Y5Y7KWwf3s45",
        "colab_type": "code",
        "colab": {}
      },
      "source": [
        "squares"
      ],
      "execution_count": 0,
      "outputs": []
    },
    {
      "cell_type": "code",
      "metadata": {
        "id": "HCkV79wf3s4-",
        "colab_type": "code",
        "colab": {}
      },
      "source": [
        "len(squares)  # number of elements"
      ],
      "execution_count": 0,
      "outputs": []
    },
    {
      "cell_type": "code",
      "metadata": {
        "id": "SfKeBdWk3s5G",
        "colab_type": "code",
        "colab": {}
      },
      "source": [
        "squares[0]  # first element, zero-indexed"
      ],
      "execution_count": 0,
      "outputs": []
    },
    {
      "cell_type": "code",
      "metadata": {
        "id": "zktujDJV3s5P",
        "colab_type": "code",
        "colab": {}
      },
      "source": [
        "squares[-1]  # last element, \"wrap-around\""
      ],
      "execution_count": 0,
      "outputs": []
    },
    {
      "cell_type": "code",
      "metadata": {
        "id": "zMEZ8ojN3s5e",
        "colab_type": "code",
        "colab": {}
      },
      "source": [
        "4 in squares  # test membership"
      ],
      "execution_count": 0,
      "outputs": []
    },
    {
      "cell_type": "code",
      "metadata": {
        "id": "8IikwYLX3s5r",
        "colab_type": "code",
        "colab": {}
      },
      "source": [
        "5 in squares  # the list does not contain 5"
      ],
      "execution_count": 0,
      "outputs": []
    },
    {
      "cell_type": "code",
      "metadata": {
        "id": "UHz7JiKb3s51",
        "colab_type": "code",
        "colab": {}
      },
      "source": [
        "squares.index(4)  # get the index of an element"
      ],
      "execution_count": 0,
      "outputs": []
    },
    {
      "cell_type": "code",
      "metadata": {
        "id": "x3KA6Psp3s5_",
        "colab_type": "code",
        "colab": {}
      },
      "source": [
        "squares"
      ],
      "execution_count": 0,
      "outputs": []
    },
    {
      "cell_type": "code",
      "metadata": {
        "id": "V6G-B26l3s6U",
        "colab_type": "code",
        "colab": {}
      },
      "source": [
        "squares[1:]  # slice: from the second element onwards"
      ],
      "execution_count": 0,
      "outputs": []
    },
    {
      "cell_type": "code",
      "metadata": {
        "id": "y7cND1l53s6e",
        "colab_type": "code",
        "colab": {}
      },
      "source": [
        "squares[:-1]  # all but the last element"
      ],
      "execution_count": 0,
      "outputs": []
    },
    {
      "cell_type": "code",
      "metadata": {
        "id": "u85VKvln3s6j",
        "colab_type": "code",
        "colab": {}
      },
      "source": [
        "squares + [49, 'abc', 'xyz']  # concatenate lists"
      ],
      "execution_count": 0,
      "outputs": []
    },
    {
      "cell_type": "markdown",
      "metadata": {
        "id": "_CX6I2Jj3s6p",
        "colab_type": "text"
      },
      "source": [
        "**💪 Exercise**: create another list `cubes` containing the first three cubes. Then create another list `L` by concatenating `squares` and `cubes`. Access the element in the middle of the list:"
      ]
    },
    {
      "cell_type": "code",
      "metadata": {
        "id": "s7osQdBn3s6r",
        "colab_type": "code",
        "colab": {}
      },
      "source": [
        ""
      ],
      "execution_count": 0,
      "outputs": []
    },
    {
      "cell_type": "markdown",
      "metadata": {
        "id": "hDKsIebe3s6x",
        "colab_type": "text"
      },
      "source": [
        "#### String"
      ]
    },
    {
      "cell_type": "markdown",
      "metadata": {
        "id": "X9shwdMs3s6z",
        "colab_type": "text"
      },
      "source": [
        "A string behaves just like a list, except its elements are letters."
      ]
    },
    {
      "cell_type": "markdown",
      "metadata": {
        "id": "vx6Zkrc13s7G",
        "colab_type": "text"
      },
      "source": [
        "**ℹ️ Tip**: compared to other C-like languages, they are not made up of `char`s, and are immutable."
      ]
    },
    {
      "cell_type": "code",
      "metadata": {
        "id": "4IawOuk83s7I",
        "colab_type": "code",
        "colab": {}
      },
      "source": [
        "name"
      ],
      "execution_count": 0,
      "outputs": []
    },
    {
      "cell_type": "code",
      "metadata": {
        "id": "R8sCKh1-3s7R",
        "colab_type": "code",
        "colab": {}
      },
      "source": [
        "len(name)"
      ],
      "execution_count": 0,
      "outputs": []
    },
    {
      "cell_type": "code",
      "metadata": {
        "id": "kBuFxBju3s8J",
        "colab_type": "code",
        "colab": {}
      },
      "source": [
        "name[0]"
      ],
      "execution_count": 0,
      "outputs": []
    },
    {
      "cell_type": "code",
      "metadata": {
        "id": "n2peyYEO3s9L",
        "colab_type": "code",
        "colab": {}
      },
      "source": [
        "name[1:]"
      ],
      "execution_count": 0,
      "outputs": []
    },
    {
      "cell_type": "code",
      "metadata": {
        "id": "0L6aVr2o3s97",
        "colab_type": "code",
        "colab": {}
      },
      "source": [
        "'Hello ' + name"
      ],
      "execution_count": 0,
      "outputs": []
    },
    {
      "cell_type": "code",
      "metadata": {
        "id": "IDretwpt3s-f",
        "colab_type": "code",
        "colab": {}
      },
      "source": [
        "'ha' * 3"
      ],
      "execution_count": 0,
      "outputs": []
    },
    {
      "cell_type": "markdown",
      "metadata": {
        "id": "2qkvsrEz3s-j",
        "colab_type": "text"
      },
      "source": [
        "---"
      ]
    },
    {
      "cell_type": "markdown",
      "metadata": {
        "id": "B1OM1oAV3s-l",
        "colab_type": "text"
      },
      "source": [
        "Some useful built-in functions operating on strings:"
      ]
    },
    {
      "cell_type": "code",
      "metadata": {
        "id": "ymhn9sIH3s-p",
        "colab_type": "code",
        "colab": {}
      },
      "source": [
        "name.split()  # by default, it splits by blanks"
      ],
      "execution_count": 0,
      "outputs": []
    },
    {
      "cell_type": "code",
      "metadata": {
        "id": "lsf6RMwp3s-v",
        "colab_type": "code",
        "colab": {}
      },
      "source": [
        "name.lower()"
      ],
      "execution_count": 0,
      "outputs": []
    },
    {
      "cell_type": "code",
      "metadata": {
        "id": "ToOYwV1f3s_O",
        "colab_type": "code",
        "colab": {}
      },
      "source": [
        "'-'.join(['ab', 'cd', 'yz'])"
      ],
      "execution_count": 0,
      "outputs": []
    },
    {
      "cell_type": "code",
      "metadata": {
        "id": "J85F3ijE3s_W",
        "colab_type": "code",
        "colab": {}
      },
      "source": [
        "f'{name} is {age} years old'  # note the f at beginning"
      ],
      "execution_count": 0,
      "outputs": []
    },
    {
      "cell_type": "code",
      "metadata": {
        "id": "tlIc6bkx3s_c",
        "colab_type": "code",
        "colab": {}
      },
      "source": [
        "'abc abcd'.replace('ab', 'X')"
      ],
      "execution_count": 0,
      "outputs": []
    },
    {
      "cell_type": "code",
      "metadata": {
        "id": "8c4WVOVg3s_i",
        "colab_type": "code",
        "colab": {}
      },
      "source": [
        "'  abc  '.strip()"
      ],
      "execution_count": 0,
      "outputs": []
    },
    {
      "cell_type": "markdown",
      "metadata": {
        "id": "HWOKk_1E3s_n",
        "colab_type": "text"
      },
      "source": [
        "---"
      ]
    },
    {
      "cell_type": "markdown",
      "metadata": {
        "id": "FqNSLIy03s_q",
        "colab_type": "text"
      },
      "source": [
        "Control how many decimals a number is displayed with:"
      ]
    },
    {
      "cell_type": "code",
      "metadata": {
        "id": "i6ElOv0e3s_r",
        "colab_type": "code",
        "colab": {}
      },
      "source": [
        "pi = 3.14159"
      ],
      "execution_count": 0,
      "outputs": []
    },
    {
      "cell_type": "code",
      "metadata": {
        "id": "hT2Xl0da3s_w",
        "colab_type": "code",
        "colab": {}
      },
      "source": [
        "f'π is {pi}'"
      ],
      "execution_count": 0,
      "outputs": []
    },
    {
      "cell_type": "code",
      "metadata": {
        "id": "eVgGxCK-3s_2",
        "colab_type": "code",
        "colab": {}
      },
      "source": [
        "f'π as a whole number {pi:.0f}'  # no decimals"
      ],
      "execution_count": 0,
      "outputs": []
    },
    {
      "cell_type": "code",
      "metadata": {
        "id": "fs__fSi23s_-",
        "colab_type": "code",
        "colab": {}
      },
      "source": [
        "f'first decimals of π {pi:.3f}'"
      ],
      "execution_count": 0,
      "outputs": []
    },
    {
      "cell_type": "markdown",
      "metadata": {
        "id": "DoWBlKrt3tAC",
        "colab_type": "text"
      },
      "source": [
        "Format sub-unitary (and not only) numbers as percentages:"
      ]
    },
    {
      "cell_type": "code",
      "metadata": {
        "id": "D9-outBK3tAD",
        "colab_type": "code",
        "colab": {}
      },
      "source": [
        "per = 0.705  # 70.5%\n",
        "f'as a percentage {per:.1%}'"
      ],
      "execution_count": 0,
      "outputs": []
    },
    {
      "cell_type": "code",
      "metadata": {
        "id": "s_hj37AN3tAG",
        "colab_type": "code",
        "colab": {}
      },
      "source": [
        "f'as a percentage {per:.4%}'"
      ],
      "execution_count": 0,
      "outputs": []
    },
    {
      "cell_type": "markdown",
      "metadata": {
        "id": "s2g2gGan3tAM",
        "colab_type": "text"
      },
      "source": [
        "---"
      ]
    },
    {
      "cell_type": "markdown",
      "metadata": {
        "id": "D_RdS8ul3tAN",
        "colab_type": "text"
      },
      "source": [
        "**💪 Exercise**: create a string `favorite_flavor` which contains your favorite ice cream flavor and then another string which containing the sentence \"My favorites are: vanilla and 24.00\" using `favorite_flavor` and `favorite_number` (shown with two decimals):"
      ]
    },
    {
      "cell_type": "code",
      "metadata": {
        "id": "PgwsHVFS3tAO",
        "colab_type": "code",
        "colab": {}
      },
      "source": [
        ""
      ],
      "execution_count": 0,
      "outputs": []
    },
    {
      "cell_type": "markdown",
      "metadata": {
        "id": "kYXpN2cD3tAV",
        "colab_type": "text"
      },
      "source": [
        "**ℹ️ Tip**: Python strings can store any* unicode character, making working with symbols, different alphabets, or even emojis easy. Quotation marks can be included in a string by alternating the types of marks (e.g.: `\"Trader Joe's vegetables\"`), or by escaping it with a backslash (e.g.: `'Trader Joe\\'s vegetables'`)."
      ]
    },
    {
      "cell_type": "markdown",
      "metadata": {
        "id": "2INjCOOQ3tAX",
        "colab_type": "text"
      },
      "source": [
        "#### Dictionary"
      ]
    },
    {
      "cell_type": "markdown",
      "metadata": {
        "id": "OxPNOj5a3tAY",
        "colab_type": "text"
      },
      "source": [
        "A dictionary behaves like a list where the keys are not numbers."
      ]
    },
    {
      "cell_type": "markdown",
      "metadata": {
        "id": "-KY9I1D73tAZ",
        "colab_type": "text"
      },
      "source": [
        "**ℹ️ Tip**: has the time complexity of a hashmap, but through some [very clever engineering](https://mail.python.org/pipermail/python-dev/2012-December/123028.html), its elements are ordered."
      ]
    },
    {
      "cell_type": "code",
      "metadata": {
        "id": "Qccoi2UV3tAn",
        "colab_type": "code",
        "colab": {}
      },
      "source": [
        "superhero_ages = {\n",
        "    'Ironman':   36,\n",
        "    'Hulk':      38,\n",
        "    'Thor':      'varies',  # does not have to be homogenous\n",
        "}"
      ],
      "execution_count": 0,
      "outputs": []
    },
    {
      "cell_type": "code",
      "metadata": {
        "id": "GaHs_e163tAt",
        "colab_type": "code",
        "colab": {}
      },
      "source": [
        "len(superhero_ages)"
      ],
      "execution_count": 0,
      "outputs": []
    },
    {
      "cell_type": "code",
      "metadata": {
        "id": "e-CCzING3tAy",
        "colab_type": "code",
        "colab": {}
      },
      "source": [
        "superhero_ages['Ironman']"
      ],
      "execution_count": 0,
      "outputs": []
    },
    {
      "cell_type": "code",
      "metadata": {
        "id": "YTL5bsVx3tA6",
        "colab_type": "code",
        "colab": {}
      },
      "source": [
        "superhero_ages['Spiderman'] = 21  # add an element"
      ],
      "execution_count": 0,
      "outputs": []
    },
    {
      "cell_type": "code",
      "metadata": {
        "id": "A_dfQ5hi3tBD",
        "colab_type": "code",
        "colab": {}
      },
      "source": [
        "superhero_ages"
      ],
      "execution_count": 0,
      "outputs": []
    },
    {
      "cell_type": "code",
      "metadata": {
        "id": "nPkiQchq3tBR",
        "colab_type": "code",
        "colab": {}
      },
      "source": [
        "del superhero_ages['Hulk']  # remove an element"
      ],
      "execution_count": 0,
      "outputs": []
    },
    {
      "cell_type": "code",
      "metadata": {
        "id": "gz_LJSrJ3tBV",
        "colab_type": "code",
        "colab": {}
      },
      "source": [
        "superhero_ages"
      ],
      "execution_count": 0,
      "outputs": []
    },
    {
      "cell_type": "code",
      "metadata": {
        "id": "vrcd1j7K3tBb",
        "colab_type": "code",
        "colab": {}
      },
      "source": [
        "'Deadpool' in superhero_ages  # whether the key is in the dictionary"
      ],
      "execution_count": 0,
      "outputs": []
    },
    {
      "cell_type": "code",
      "metadata": {
        "id": "dfJ11bZc3tBs",
        "colab_type": "code",
        "colab": {}
      },
      "source": [
        "'Thor' in superhero_ages"
      ],
      "execution_count": 0,
      "outputs": []
    },
    {
      "cell_type": "code",
      "metadata": {
        "id": "s8VDNe8M3tB0",
        "colab_type": "code",
        "colab": {}
      },
      "source": [
        "21 in superhero_ages"
      ],
      "execution_count": 0,
      "outputs": []
    },
    {
      "cell_type": "markdown",
      "metadata": {
        "id": "gwl8xurs3tB7",
        "colab_type": "text"
      },
      "source": [
        "**💪 Exercise**: create a dictionary which contains the words `\"cardinal\"` and `\"gold\"` as keys and their translation in your mother tongue as their values (or their hex color values if your mother tongue is english):"
      ]
    },
    {
      "cell_type": "code",
      "metadata": {
        "id": "VNGBpfkb3tCG",
        "colab_type": "code",
        "colab": {}
      },
      "source": [
        ""
      ],
      "execution_count": 0,
      "outputs": []
    },
    {
      "cell_type": "markdown",
      "metadata": {
        "id": "EEG8oATR3tCM",
        "colab_type": "text"
      },
      "source": [
        "---"
      ]
    },
    {
      "cell_type": "markdown",
      "metadata": {
        "id": "cHu9-xMI3tCN",
        "colab_type": "text"
      },
      "source": [
        "#### Other Data Structures"
      ]
    },
    {
      "cell_type": "markdown",
      "metadata": {
        "id": "i8HsTdnM3tCO",
        "colab_type": "text"
      },
      "source": [
        "Tuples are similar to lists, but they are meant for heterogenous data."
      ]
    },
    {
      "cell_type": "code",
      "metadata": {
        "id": "o9iVweWb3tCQ",
        "colab_type": "code",
        "colab": {}
      },
      "source": [
        "info = ('Los Angeles', 21, 'vanilla')  # information about a person"
      ],
      "execution_count": 0,
      "outputs": []
    },
    {
      "cell_type": "code",
      "metadata": {
        "id": "JZKDpSNQ3tCU",
        "colab_type": "code",
        "colab": {}
      },
      "source": [
        "info[0]"
      ],
      "execution_count": 0,
      "outputs": []
    },
    {
      "cell_type": "markdown",
      "metadata": {
        "id": "x2Rgk03H3tCY",
        "colab_type": "text"
      },
      "source": [
        "**ℹ️ Tip**: you can think of tuples as lightweight classes. If interested, you can also look into [named tuples](https://docs.python.org/3/library/collections.html#collections.namedtuple) and [data classes](https://realpython.com/python-data-classes/)."
      ]
    },
    {
      "cell_type": "markdown",
      "metadata": {
        "id": "SNi4BtLi3tCY",
        "colab_type": "text"
      },
      "source": [
        "---"
      ]
    },
    {
      "cell_type": "markdown",
      "metadata": {
        "id": "ydCvdkJ93tCZ",
        "colab_type": "text"
      },
      "source": [
        "Sets are similar to lists, but they are unordered* and may contain no duplicates. Their advantage is that checking for membership takes constant time."
      ]
    },
    {
      "cell_type": "code",
      "metadata": {
        "id": "XOlJWuqh3tCb",
        "colab_type": "code",
        "colab": {}
      },
      "source": [
        "d = {'a': 1, 'b': 2}"
      ],
      "execution_count": 0,
      "outputs": []
    },
    {
      "cell_type": "code",
      "metadata": {
        "id": "wb45RIr13tCk",
        "colab_type": "code",
        "colab": {}
      },
      "source": [
        "s = {2, 1, 4}"
      ],
      "execution_count": 0,
      "outputs": []
    },
    {
      "cell_type": "code",
      "metadata": {
        "id": "k5Ob4IGz3tC5",
        "colab_type": "code",
        "colab": {}
      },
      "source": [
        "2 in s"
      ],
      "execution_count": 0,
      "outputs": []
    },
    {
      "cell_type": "markdown",
      "metadata": {
        "id": "-6Lj7vY93tDA",
        "colab_type": "text"
      },
      "source": [
        "Converting a list into a set yields its unique elements:"
      ]
    },
    {
      "cell_type": "code",
      "metadata": {
        "id": "C80LgNnq3tDC",
        "colab_type": "code",
        "colab": {}
      },
      "source": [
        "set([1, 2, 1, 1, 3])"
      ],
      "execution_count": 0,
      "outputs": []
    },
    {
      "cell_type": "markdown",
      "metadata": {
        "id": "YywsyI8X3tDG",
        "colab_type": "text"
      },
      "source": [
        "**ℹ️ Tip**: checking if an element is contained in a collection is trivial when there are 5 elements to compare against, but when there are thousands or millions of them, and you need to do many such queries, it is essential to be able to do it quickly."
      ]
    },
    {
      "cell_type": "markdown",
      "metadata": {
        "id": "w9QmhwVv3tDH",
        "colab_type": "text"
      },
      "source": [
        "#### Iteration"
      ]
    },
    {
      "cell_type": "markdown",
      "metadata": {
        "id": "mq8dRUFV3tDH",
        "colab_type": "text"
      },
      "source": [
        "Going through each element of a collection is called an interation."
      ]
    },
    {
      "cell_type": "code",
      "metadata": {
        "id": "zdq0vJB-3tDJ",
        "colab_type": "code",
        "colab": {}
      },
      "source": [
        "squares"
      ],
      "execution_count": 0,
      "outputs": []
    },
    {
      "cell_type": "code",
      "metadata": {
        "id": "37GvGFeS3tDM",
        "colab_type": "code",
        "colab": {}
      },
      "source": [
        "# list iteration\n",
        "for sq in squares:\n",
        "    print(sq)"
      ],
      "execution_count": 0,
      "outputs": []
    },
    {
      "cell_type": "code",
      "metadata": {
        "id": "sO6lcOAh3tDO",
        "colab_type": "code",
        "colab": {}
      },
      "source": [
        "for key in superhero_ages:\n",
        "    print(key)"
      ],
      "execution_count": 0,
      "outputs": []
    },
    {
      "cell_type": "code",
      "metadata": {
        "id": "1AS8FJIK3tDQ",
        "colab_type": "code",
        "colab": {}
      },
      "source": [
        "for val in superhero_ages.values():\n",
        "    print(val)"
      ],
      "execution_count": 0,
      "outputs": []
    },
    {
      "cell_type": "code",
      "metadata": {
        "id": "OBKPu_xq3tDV",
        "colab_type": "code",
        "colab": {}
      },
      "source": [
        "# dict iteration\n",
        "for name, age in superhero_ages.items():\n",
        "    print(name, age)"
      ],
      "execution_count": 0,
      "outputs": []
    },
    {
      "cell_type": "markdown",
      "metadata": {
        "id": "nOvWoh6f3tDY",
        "colab_type": "text"
      },
      "source": [
        "---"
      ]
    },
    {
      "cell_type": "markdown",
      "metadata": {
        "id": "zMXA9TaF3tDZ",
        "colab_type": "text"
      },
      "source": [
        "Generate sequential numbers:"
      ]
    },
    {
      "cell_type": "code",
      "metadata": {
        "id": "wGhwX9st3tDZ",
        "colab_type": "code",
        "colab": {}
      },
      "source": [
        "for i in range(10):\n",
        "    print(i)"
      ],
      "execution_count": 0,
      "outputs": []
    },
    {
      "cell_type": "markdown",
      "metadata": {
        "id": "pAuXCtU23tDb",
        "colab_type": "text"
      },
      "source": [
        "Optionally, takes `start`, `stop` and `step` arguments:"
      ]
    },
    {
      "cell_type": "code",
      "metadata": {
        "id": "1oxfENbF3tDc",
        "colab_type": "code",
        "colab": {}
      },
      "source": [
        "for i in range(4, 12, 2):  # start from 4, add 2 each time, stop when reaching 12\n",
        "    print(i)"
      ],
      "execution_count": 0,
      "outputs": []
    },
    {
      "cell_type": "markdown",
      "metadata": {
        "id": "oo3N3Ta63tDe",
        "colab_type": "text"
      },
      "source": [
        "**ℹ️ Tip**: this is the pythonic way for C-like laguages' `for(i = 0; i < n; ++i)` idiom"
      ]
    },
    {
      "cell_type": "markdown",
      "metadata": {
        "id": "N52BqYpD3tDi",
        "colab_type": "text"
      },
      "source": [
        "---"
      ]
    },
    {
      "cell_type": "markdown",
      "metadata": {
        "id": "NjZ0ailG3tDk",
        "colab_type": "text"
      },
      "source": [
        "Iteration-related functions:"
      ]
    },
    {
      "cell_type": "code",
      "metadata": {
        "id": "FqCiI1503tDl",
        "colab_type": "code",
        "colab": {}
      },
      "source": [
        "colors = ['red', 'green', 'blue', 'black']"
      ],
      "execution_count": 0,
      "outputs": []
    },
    {
      "cell_type": "code",
      "metadata": {
        "id": "sPWisY0p3tDp",
        "colab_type": "code",
        "colab": {}
      },
      "source": [
        "for col in colors:\n",
        "    print(col)"
      ],
      "execution_count": 0,
      "outputs": []
    },
    {
      "cell_type": "code",
      "metadata": {
        "id": "XUiavUNk3tDx",
        "colab_type": "code",
        "colab": {}
      },
      "source": [
        "for col in reversed(colors):  # from last to first\n",
        "    print(col)"
      ],
      "execution_count": 0,
      "outputs": []
    },
    {
      "cell_type": "code",
      "metadata": {
        "id": "m515vu-V3tD4",
        "colab_type": "code",
        "colab": {}
      },
      "source": [
        "for i, col in enumerate(colors):  # also give the index of each element\n",
        "    print(i, col)"
      ],
      "execution_count": 0,
      "outputs": []
    },
    {
      "cell_type": "code",
      "metadata": {
        "id": "ackqkqSk3tD-",
        "colab_type": "code",
        "colab": {}
      },
      "source": [
        "for i, col in reversed(list(enumerate(colors))):\n",
        "    print(i, col)"
      ],
      "execution_count": 0,
      "outputs": []
    },
    {
      "cell_type": "code",
      "metadata": {
        "id": "_5ezFaul3tEC",
        "colab_type": "code",
        "colab": {}
      },
      "source": [
        "for i, col in enumerate(reversed(colors)):\n",
        "    print(i, col)"
      ],
      "execution_count": 0,
      "outputs": []
    },
    {
      "cell_type": "code",
      "metadata": {
        "id": "DgLGEend3tEK",
        "colab_type": "code",
        "colab": {}
      },
      "source": [
        "for sq, col in zip(squares, colors):  # pair up elements of two lists (up to the shortest one's length)\n",
        "    print(sq, col)"
      ],
      "execution_count": 0,
      "outputs": []
    },
    {
      "cell_type": "code",
      "metadata": {
        "id": "f26MecUH3tEN",
        "colab_type": "code",
        "colab": {}
      },
      "source": [
        "squares  # just as a reminder"
      ],
      "execution_count": 0,
      "outputs": []
    },
    {
      "cell_type": "markdown",
      "metadata": {
        "id": "akzeCpK33tEP",
        "colab_type": "text"
      },
      "source": [
        "---"
      ]
    },
    {
      "cell_type": "code",
      "metadata": {
        "id": "ueZR3-ia3tEQ",
        "colab_type": "code",
        "colab": {}
      },
      "source": [
        "# `while` is not used as often\n",
        "k = 0\n",
        "while k <= 10:\n",
        "    k += 1  # idiom, k++ does not exist (because it makes implementing operator overload much easier)"
      ],
      "execution_count": 0,
      "outputs": []
    },
    {
      "cell_type": "code",
      "metadata": {
        "id": "P1Fntwf03tES",
        "colab_type": "code",
        "colab": {}
      },
      "source": [
        "k"
      ],
      "execution_count": 0,
      "outputs": []
    },
    {
      "cell_type": "markdown",
      "metadata": {
        "id": "OzeNd_ac3tEX",
        "colab_type": "text"
      },
      "source": [
        "**💪 Exercise**: print, one by one, the numbers from `100` to `110`, squared:"
      ]
    },
    {
      "cell_type": "code",
      "metadata": {
        "id": "Vj5r1Qk63tEY",
        "colab_type": "code",
        "colab": {}
      },
      "source": [
        ""
      ],
      "execution_count": 0,
      "outputs": []
    },
    {
      "cell_type": "markdown",
      "metadata": {
        "id": "aCdRL8QK3tEd",
        "colab_type": "text"
      },
      "source": [
        "---"
      ]
    },
    {
      "cell_type": "markdown",
      "metadata": {
        "id": "Lhc2loBQ3tE1",
        "colab_type": "text"
      },
      "source": [
        "Multiple ways of creating a collection based on another's elements:"
      ]
    },
    {
      "cell_type": "code",
      "metadata": {
        "id": "2etDjg0I3tE5",
        "colab_type": "code",
        "colab": {}
      },
      "source": [
        "colors"
      ],
      "execution_count": 0,
      "outputs": []
    },
    {
      "cell_type": "code",
      "metadata": {
        "id": "qD8hio_q3tE9",
        "colab_type": "code",
        "colab": {}
      },
      "source": [
        "color_lengths = []\n",
        "\n",
        "for col in colors:\n",
        "    l = len(col)\n",
        "    color_lengths.append(l)"
      ],
      "execution_count": 0,
      "outputs": []
    },
    {
      "cell_type": "code",
      "metadata": {
        "id": "RgctjlXh3tFB",
        "colab_type": "code",
        "colab": {}
      },
      "source": [
        "color_lengths"
      ],
      "execution_count": 0,
      "outputs": []
    },
    {
      "cell_type": "code",
      "metadata": {
        "id": "n4HITjQT3tFL",
        "colab_type": "code",
        "colab": {}
      },
      "source": [
        "[len(col) for col in colors]  # list comprehension, equivalent but shorter"
      ],
      "execution_count": 0,
      "outputs": []
    },
    {
      "cell_type": "markdown",
      "metadata": {
        "id": "uGJ3BIoQ3tFU",
        "colab_type": "text"
      },
      "source": [
        "In the next subsection we'll learn an even shorter way, using `map`"
      ]
    },
    {
      "cell_type": "code",
      "metadata": {
        "id": "vr7LurTf3tFV",
        "colab_type": "code",
        "colab": {}
      },
      "source": [
        "{col: len(col) for col in colors}  # dict comprehension"
      ],
      "execution_count": 0,
      "outputs": []
    },
    {
      "cell_type": "markdown",
      "metadata": {
        "id": "AkCOn6Bj3tFZ",
        "colab_type": "text"
      },
      "source": [
        "**💪 Exercise**: create the list `first_letters` which contains the first letter of each `color`:"
      ]
    },
    {
      "cell_type": "code",
      "metadata": {
        "id": "mbw34tXK3tFZ",
        "colab_type": "code",
        "colab": {}
      },
      "source": [
        ""
      ],
      "execution_count": 0,
      "outputs": []
    },
    {
      "cell_type": "markdown",
      "metadata": {
        "id": "ZLnLrUuO3tFb",
        "colab_type": "text"
      },
      "source": [
        "### Functions"
      ]
    },
    {
      "cell_type": "markdown",
      "metadata": {
        "id": "kdRZfuDV3tFb",
        "colab_type": "text"
      },
      "source": [
        "A _function_ is a block of code which only runs when called. Data can be given as input and results can be returned."
      ]
    },
    {
      "cell_type": "code",
      "metadata": {
        "id": "9zOLDy213tFc",
        "colab_type": "code",
        "colab": {}
      },
      "source": [
        "def double(n):\n",
        "    # takes an argument and returns it doubled\n",
        "    return n * 2"
      ],
      "execution_count": 0,
      "outputs": []
    },
    {
      "cell_type": "code",
      "metadata": {
        "id": "X-hXtrnQ3tFd",
        "colab_type": "code",
        "colab": {}
      },
      "source": [
        "double = lambda n: n * 2  # equivalent but shorter way to write simple functions"
      ],
      "execution_count": 0,
      "outputs": []
    },
    {
      "cell_type": "code",
      "metadata": {
        "id": "D0SNRSVo3tFh",
        "colab_type": "code",
        "colab": {}
      },
      "source": [
        "double(5)"
      ],
      "execution_count": 0,
      "outputs": []
    },
    {
      "cell_type": "markdown",
      "metadata": {
        "id": "f7kii-zH3tFk",
        "colab_type": "text"
      },
      "source": [
        "Duck-typing allows the function to work on any kind of argument that supports multiplication:"
      ]
    },
    {
      "cell_type": "code",
      "metadata": {
        "id": "ZAWyxJK93tFn",
        "colab_type": "code",
        "colab": {}
      },
      "source": [
        "double(1.2)"
      ],
      "execution_count": 0,
      "outputs": []
    },
    {
      "cell_type": "code",
      "metadata": {
        "id": "8PA1-Xhj3tFt",
        "colab_type": "code",
        "colab": {}
      },
      "source": [
        "double('ha')"
      ],
      "execution_count": 0,
      "outputs": []
    },
    {
      "cell_type": "code",
      "metadata": {
        "id": "kpsMMXTS3tF0",
        "colab_type": "code",
        "colab": {}
      },
      "source": [
        "double([1, 2, 3])"
      ],
      "execution_count": 0,
      "outputs": []
    },
    {
      "cell_type": "markdown",
      "metadata": {
        "id": "bIKaI_v33tF2",
        "colab_type": "text"
      },
      "source": [
        "**ℹ️ Tip**: it is best practice to name functions as verbs, since they perform an action."
      ]
    },
    {
      "cell_type": "markdown",
      "metadata": {
        "id": "F-EDu8393tF3",
        "colab_type": "text"
      },
      "source": [
        "**ℹ️ Tip**: a very important thing to understand is that function arguments are neither call-by-value nor call-by-reference. Read more about [argument behavior](https://jeffknupp.com/blog/2012/11/13/is-python-callbyvalue-or-callbyreference-neither/) and [copies](https://docs.python.org/3.7/library/copy.html)"
      ]
    },
    {
      "cell_type": "markdown",
      "metadata": {
        "id": "ESm3sWOO3tF3",
        "colab_type": "text"
      },
      "source": [
        "---"
      ]
    },
    {
      "cell_type": "markdown",
      "metadata": {
        "id": "h3wcqB8H3tF6",
        "colab_type": "text"
      },
      "source": [
        "Functions can take anything as arguments, even other functions.\n",
        "\n",
        "One such special function is `map`, which takes two arguments, a function and a collection, and it applies the function to each element of the collection."
      ]
    },
    {
      "cell_type": "code",
      "metadata": {
        "id": "TkMgHYVQ3tF7",
        "colab_type": "code",
        "colab": {}
      },
      "source": [
        "map(len, colors)  # get the length of each color, equivalent to definitions above"
      ],
      "execution_count": 0,
      "outputs": []
    },
    {
      "cell_type": "markdown",
      "metadata": {
        "id": "MDjowgk33tGB",
        "colab_type": "text"
      },
      "source": [
        "In order to preserve memory and processing time, `map` is designed to use lazy-evaluation, meaning that it actually returns a `generator` object, which yields one element at a time, upon being called:"
      ]
    },
    {
      "cell_type": "code",
      "metadata": {
        "id": "IW0py9xN3tGD",
        "colab_type": "code",
        "colab": {}
      },
      "source": [
        "result = map(len, colors)\n",
        "for l in result:\n",
        "    print(l)"
      ],
      "execution_count": 0,
      "outputs": []
    },
    {
      "cell_type": "markdown",
      "metadata": {
        "id": "XslJwLGn3tGI",
        "colab_type": "text"
      },
      "source": [
        "Calling it again correctly yields no elements, as they have all been consumed:"
      ]
    },
    {
      "cell_type": "code",
      "metadata": {
        "id": "CdGQcHOA3tGI",
        "colab_type": "code",
        "colab": {}
      },
      "source": [
        "for l in result:\n",
        "    print(l)"
      ],
      "execution_count": 0,
      "outputs": []
    },
    {
      "cell_type": "markdown",
      "metadata": {
        "id": "mAuVLNTD3tGN",
        "colab_type": "text"
      },
      "source": [
        "Another way to force the evaluation of the entire generator is converting it into a list:"
      ]
    },
    {
      "cell_type": "code",
      "metadata": {
        "id": "M7ZxLq583tGO",
        "colab_type": "code",
        "colab": {}
      },
      "source": [
        "list(map(double, squares))"
      ],
      "execution_count": 0,
      "outputs": []
    },
    {
      "cell_type": "code",
      "metadata": {
        "id": "580OGTfw3tGT",
        "colab_type": "code",
        "colab": {}
      },
      "source": [
        "squares  # just to remember what the original list looked right"
      ],
      "execution_count": 0,
      "outputs": []
    },
    {
      "cell_type": "markdown",
      "metadata": {
        "id": "R6ZHldFl3tGV",
        "colab_type": "text"
      },
      "source": [
        "**ℹ️ Tip**: Such techniques to do impact performance when the list is made up of only 5 elements, but when there are thousands or millions of elements, it would be expensive to wait to create the whole list in the beginning and to then only consume elements one by one. Or we might not even need more than the first couple of elements. \n",
        "This applies not only when the length of the list is very large, but also when coming up with each of them is computationally expensive. We will not go in depth, but look into [iterators](https://www.programiz.com/python-programming/iterator) and [generators](https://www.programiz.com/python-programming/generator) to learn more about them."
      ]
    },
    {
      "cell_type": "markdown",
      "metadata": {
        "id": "xV6KqAtk3tGW",
        "colab_type": "text"
      },
      "source": [
        "---"
      ]
    },
    {
      "cell_type": "markdown",
      "metadata": {
        "id": "KqLQVPP23tGb",
        "colab_type": "text"
      },
      "source": [
        "A function can have default arguments:"
      ]
    },
    {
      "cell_type": "code",
      "metadata": {
        "id": "6PVt2toR3tGd",
        "colab_type": "code",
        "colab": {}
      },
      "source": [
        "def repeat(s, times=3):\n",
        "    # by default, it repeats 3 times\n",
        "    return s * times"
      ],
      "execution_count": 0,
      "outputs": []
    },
    {
      "cell_type": "code",
      "metadata": {
        "id": "nRqgbzZ-3tGg",
        "colab_type": "code",
        "colab": {}
      },
      "source": [
        "repeat('ha ')"
      ],
      "execution_count": 0,
      "outputs": []
    },
    {
      "cell_type": "code",
      "metadata": {
        "id": "YZL49klt3tGk",
        "colab_type": "code",
        "colab": {}
      },
      "source": [
        "repeat('ha ', 5)"
      ],
      "execution_count": 0,
      "outputs": []
    },
    {
      "cell_type": "code",
      "metadata": {
        "id": "gIau4N0Y3tGp",
        "colab_type": "code",
        "colab": {}
      },
      "source": [
        "repeat('ha ', times=5)  # arguments can be named"
      ],
      "execution_count": 0,
      "outputs": []
    },
    {
      "cell_type": "code",
      "metadata": {
        "id": "ZyqSwCBn3tGu",
        "colab_type": "code",
        "colab": {}
      },
      "source": [
        "def repeat_extra(s):\n",
        "    # returns multiple values\n",
        "    return len(s), s * 3"
      ],
      "execution_count": 0,
      "outputs": []
    },
    {
      "cell_type": "code",
      "metadata": {
        "id": "uRKrf3gR3tG8",
        "colab_type": "code",
        "colab": {}
      },
      "source": [
        "repeat_extra('ha')"
      ],
      "execution_count": 0,
      "outputs": []
    },
    {
      "cell_type": "code",
      "metadata": {
        "id": "QxanB_WP3tG-",
        "colab_type": "code",
        "colab": {}
      },
      "source": [
        "result = repeat_extra('ha')\n",
        "length   = result[0]\n",
        "repeated = result[1]"
      ],
      "execution_count": 0,
      "outputs": []
    },
    {
      "cell_type": "code",
      "metadata": {
        "id": "Y5-bxlkB3tHB",
        "colab_type": "code",
        "colab": {}
      },
      "source": [
        "(length, repeated) = repeat_extra('ha')  # shorter way of destructuring the result"
      ],
      "execution_count": 0,
      "outputs": []
    },
    {
      "cell_type": "code",
      "metadata": {
        "id": "Oy1XgR6d3tHX",
        "colab_type": "code",
        "colab": {}
      },
      "source": [
        "length"
      ],
      "execution_count": 0,
      "outputs": []
    },
    {
      "cell_type": "code",
      "metadata": {
        "id": "v27BNBYS3tHa",
        "colab_type": "code",
        "colab": {}
      },
      "source": [
        "repeated"
      ],
      "execution_count": 0,
      "outputs": []
    },
    {
      "cell_type": "code",
      "metadata": {
        "id": "2TCfF3iV3tHd",
        "colab_type": "code",
        "colab": {}
      },
      "source": [
        "a, b, c = [1, 2, 3]  # works everywhere"
      ],
      "execution_count": 0,
      "outputs": []
    },
    {
      "cell_type": "code",
      "metadata": {
        "id": "aBRQ9-Z23tHg",
        "colab_type": "code",
        "colab": {}
      },
      "source": [
        "a"
      ],
      "execution_count": 0,
      "outputs": []
    },
    {
      "cell_type": "code",
      "metadata": {
        "id": "q9zPUGoT3tHm",
        "colab_type": "code",
        "colab": {}
      },
      "source": [
        "[a, b, c] = [1, 2, 3, 4]  # gives an error upon mismatch of length"
      ],
      "execution_count": 0,
      "outputs": []
    },
    {
      "cell_type": "markdown",
      "metadata": {
        "id": "rflI23Th3tHr",
        "colab_type": "text"
      },
      "source": [
        "**💪 Exercise**: create a `yell` function that takes a string. \n",
        "It returns the string in all caps and adds an exclamation mark at the end."
      ]
    },
    {
      "cell_type": "code",
      "metadata": {
        "id": "H_bPIJYW3tHs",
        "colab_type": "code",
        "colab": {}
      },
      "source": [
        ""
      ],
      "execution_count": 0,
      "outputs": []
    },
    {
      "cell_type": "markdown",
      "metadata": {
        "id": "uLyXmHbO3tHx",
        "colab_type": "text"
      },
      "source": [
        "### Conditional Statements"
      ]
    },
    {
      "cell_type": "markdown",
      "metadata": {
        "id": "W1K-mJ7S3tHy",
        "colab_type": "text"
      },
      "source": [
        "For control flow"
      ]
    },
    {
      "cell_type": "code",
      "metadata": {
        "id": "I2V5tvx73tHy",
        "colab_type": "code",
        "colab": {}
      },
      "source": [
        "def is_even(n):\n",
        "    # tell whether the argument is divisible by two\n",
        "    return (n % 2 == 0)"
      ],
      "execution_count": 0,
      "outputs": []
    },
    {
      "cell_type": "code",
      "metadata": {
        "id": "OuJz7E1u3tH1",
        "colab_type": "code",
        "colab": {}
      },
      "source": [
        "if is_even(2):\n",
        "    print('it works!')\n",
        "else:\n",
        "    print(\"it's broken\")"
      ],
      "execution_count": 0,
      "outputs": []
    },
    {
      "cell_type": "markdown",
      "metadata": {
        "id": "_ktEoXR23tH3",
        "colab_type": "text"
      },
      "source": [
        "Multiple tests can be sequenced using the `if-elif-else` construct:"
      ]
    },
    {
      "cell_type": "code",
      "metadata": {
        "id": "KU8mc_-h3tH3",
        "colab_type": "code",
        "colab": {}
      },
      "source": [
        "x = 13\n",
        "if x % 3 == 0:\n",
        "    print('divisible by three')\n",
        "elif x % 5 == 0:\n",
        "    print('divisible by five')\n",
        "else:\n",
        "    print('divisible by neither')"
      ],
      "execution_count": 0,
      "outputs": []
    },
    {
      "cell_type": "markdown",
      "metadata": {
        "id": "-e5U90_u3tH5",
        "colab_type": "text"
      },
      "source": [
        "You can also do inline evaluations (similarly to the ternary operator `: ?` in C-like languages):"
      ]
    },
    {
      "cell_type": "code",
      "metadata": {
        "id": "MPgZFj9O3tH5",
        "colab_type": "code",
        "colab": {}
      },
      "source": [
        "size = 'big' if 2**10 > 100 else 'small'"
      ],
      "execution_count": 0,
      "outputs": []
    },
    {
      "cell_type": "code",
      "metadata": {
        "id": "_dOpNJek3tIA",
        "colab_type": "code",
        "colab": {}
      },
      "source": [
        "size"
      ],
      "execution_count": 0,
      "outputs": []
    },
    {
      "cell_type": "markdown",
      "metadata": {
        "id": "6okYnJi-3tIF",
        "colab_type": "text"
      },
      "source": [
        "---"
      ]
    },
    {
      "cell_type": "markdown",
      "metadata": {
        "id": "JlDvtr4S3tIG",
        "colab_type": "text"
      },
      "source": [
        "Some values are truthy, some are falsy. So it is pythonic to check for empty list by writing `if l` instead of `if l is nto []`:"
      ]
    },
    {
      "cell_type": "code",
      "metadata": {
        "id": "sYpgypUE3tIH",
        "colab_type": "code",
        "colab": {}
      },
      "source": [
        "if True:\n",
        "    print('truthy')"
      ],
      "execution_count": 0,
      "outputs": []
    },
    {
      "cell_type": "code",
      "metadata": {
        "id": "9k3npzbj3tIN",
        "colab_type": "code",
        "colab": {}
      },
      "source": [
        "if 1:\n",
        "    print('truthy')"
      ],
      "execution_count": 0,
      "outputs": []
    },
    {
      "cell_type": "code",
      "metadata": {
        "id": "QoGPtzPD3tIV",
        "colab_type": "code",
        "colab": {}
      },
      "source": [
        "if 0:\n",
        "    print('truthy')"
      ],
      "execution_count": 0,
      "outputs": []
    },
    {
      "cell_type": "code",
      "metadata": {
        "id": "NDmyNVUI3tIl",
        "colab_type": "code",
        "colab": {}
      },
      "source": [
        "if 1.0:\n",
        "    print('truthy')"
      ],
      "execution_count": 0,
      "outputs": []
    },
    {
      "cell_type": "code",
      "metadata": {
        "id": "CPw8fWGg3tIo",
        "colab_type": "code",
        "colab": {}
      },
      "source": [
        "if []:\n",
        "    print('truthy')"
      ],
      "execution_count": 0,
      "outputs": []
    },
    {
      "cell_type": "code",
      "metadata": {
        "id": "hIZoKWHR3tIs",
        "colab_type": "code",
        "colab": {}
      },
      "source": [
        "if '':\n",
        "    print('truthy')"
      ],
      "execution_count": 0,
      "outputs": []
    },
    {
      "cell_type": "code",
      "metadata": {
        "id": "aftsGEUR3tIy",
        "colab_type": "code",
        "colab": {}
      },
      "source": [
        "if None:\n",
        "    print('truthy')"
      ],
      "execution_count": 0,
      "outputs": []
    },
    {
      "cell_type": "markdown",
      "metadata": {
        "id": "UCmiLMPl3tI3",
        "colab_type": "text"
      },
      "source": [
        "---"
      ]
    },
    {
      "cell_type": "markdown",
      "metadata": {
        "id": "70AHG1gt3tI5",
        "colab_type": "text"
      },
      "source": [
        "`break` exits the loop:"
      ]
    },
    {
      "cell_type": "code",
      "metadata": {
        "id": "6Th8xmV03tI6",
        "colab_type": "code",
        "colab": {}
      },
      "source": [
        "for x in range(4):\n",
        "    print(x)"
      ],
      "execution_count": 0,
      "outputs": []
    },
    {
      "cell_type": "code",
      "metadata": {
        "id": "C52qAfAX3tI9",
        "colab_type": "code",
        "colab": {}
      },
      "source": [
        "for x in range(4):\n",
        "    if x == 2:\n",
        "        break\n",
        "    print(x)"
      ],
      "execution_count": 0,
      "outputs": []
    },
    {
      "cell_type": "markdown",
      "metadata": {
        "id": "qhv11GQe3tJC",
        "colab_type": "text"
      },
      "source": [
        "`continue` skips the current iterration:"
      ]
    },
    {
      "cell_type": "code",
      "metadata": {
        "id": "3czEHwGJ3tJC",
        "colab_type": "code",
        "colab": {}
      },
      "source": [
        "for x in range(4):\n",
        "    if x == 2:\n",
        "        continue\n",
        "    print(x)"
      ],
      "execution_count": 0,
      "outputs": []
    },
    {
      "cell_type": "markdown",
      "metadata": {
        "id": "f0IAMhwW3tJF",
        "colab_type": "text"
      },
      "source": [
        "---"
      ]
    },
    {
      "cell_type": "markdown",
      "metadata": {
        "id": "ax3-KLYe3tJG",
        "colab_type": "text"
      },
      "source": [
        "Just like with mapping, there are multiple ways to create a list based on another's elements, while applying some conditions."
      ]
    },
    {
      "cell_type": "code",
      "metadata": {
        "id": "CumcaomW3tJH",
        "colab_type": "code",
        "colab": {}
      },
      "source": [
        "small_squares = []\n",
        "for sq in squares:\n",
        "    if sq < 5:\n",
        "        small_squares.append(sq)"
      ],
      "execution_count": 0,
      "outputs": []
    },
    {
      "cell_type": "code",
      "metadata": {
        "id": "n0NA9w-G3tJV",
        "colab_type": "code",
        "colab": {}
      },
      "source": [
        "small_squares"
      ],
      "execution_count": 0,
      "outputs": []
    },
    {
      "cell_type": "code",
      "metadata": {
        "id": "mzrgkky33tJY",
        "colab_type": "code",
        "colab": {}
      },
      "source": [
        "[sq for sq in squares if sq < 5]  # works in list comprehension as well"
      ],
      "execution_count": 0,
      "outputs": []
    },
    {
      "cell_type": "code",
      "metadata": {
        "id": "2EGKqXe63tJb",
        "colab_type": "code",
        "colab": {}
      },
      "source": [
        "list(filter(is_even, squares))  # filter is another higher-order-function, which returns just those elements that pass the predicate"
      ],
      "execution_count": 0,
      "outputs": []
    },
    {
      "cell_type": "markdown",
      "metadata": {
        "id": "Tc7V9Ipp3tJg",
        "colab_type": "text"
      },
      "source": [
        "**ℹ️ Tip**: an `else` can also be attached to a `for` or `while` loop:"
      ]
    },
    {
      "cell_type": "code",
      "metadata": {
        "id": "4tCM3c-s3tJl",
        "colab_type": "code",
        "colab": {}
      },
      "source": [
        "target = 10  # change it! make it something that is and then something that is not in the list\n",
        "\n",
        "for x in [2, 5, 1, 4, 2]:\n",
        "    if x == target:\n",
        "        break\n",
        "\n",
        "else:  # no break\n",
        "    print('target not in the list')"
      ],
      "execution_count": 0,
      "outputs": []
    },
    {
      "cell_type": "markdown",
      "metadata": {
        "id": "b15DexSx3tJo",
        "colab_type": "text"
      },
      "source": [
        "---"
      ]
    },
    {
      "cell_type": "markdown",
      "metadata": {
        "id": "ErMF7ngZ3tJp",
        "colab_type": "text"
      },
      "source": [
        "**💪 Exercise**: print the numbers from `1` to `25`, but for each multiple of 3 print `fizz` and for each  multiple of 5 print `buzz`"
      ]
    },
    {
      "cell_type": "code",
      "metadata": {
        "id": "_NHqaX373tJq",
        "colab_type": "code",
        "colab": {}
      },
      "source": [
        ""
      ],
      "execution_count": 0,
      "outputs": []
    },
    {
      "cell_type": "markdown",
      "metadata": {
        "id": "S6_Tq0Fu3tJs",
        "colab_type": "text"
      },
      "source": [
        "**👾 Trivia**: if you could solve the above exercise, congratulations! [You are better](https://softwareengineering.stackexchange.com/questions/15623/fizzbuzz-really) than 99% of applicants or \"a significant portion\" of programmers!"
      ]
    },
    {
      "cell_type": "markdown",
      "metadata": {
        "id": "mbQyl9xl3tJt",
        "colab_type": "text"
      },
      "source": [
        "---"
      ]
    },
    {
      "cell_type": "markdown",
      "metadata": {
        "id": "TJDy7TjP3tJt",
        "colab_type": "text"
      },
      "source": [
        "**💪 Exercise**: update the `yell` function to add the exclamation mark at the end only if an optional boolean `exclaim` argument is given."
      ]
    },
    {
      "cell_type": "code",
      "metadata": {
        "id": "G4CXVcB23tJu",
        "colab_type": "code",
        "colab": {}
      },
      "source": [
        ""
      ],
      "execution_count": 0,
      "outputs": []
    },
    {
      "cell_type": "markdown",
      "metadata": {
        "id": "6vpyK7Zv3tJ0",
        "colab_type": "text"
      },
      "source": [
        "**ℹ️ Tip**: writing guards for early-exit before processing takes place reduces indentation levels and makes the code readable:\n",
        "```python\n",
        "if check_1:\n",
        "    # some pre-processing\n",
        "    if check_2:\n",
        "        # some processing\n",
        "        return all_good\n",
        "    else:\n",
        "        return failed_check_2\n",
        "else:\n",
        "    return failed_check_1\n",
        "```\n",
        "\n",
        "Equivalent implementation with fewer levels of indentation:\n",
        "```python\n",
        "if not check_1:\n",
        "    return failed_check_1\n",
        "# some pre-processing\n",
        "if not check_2:\n",
        "    return failed_check_2\n",
        "# some processing\n",
        "return all_good\n",
        "```"
      ]
    },
    {
      "cell_type": "markdown",
      "metadata": {
        "id": "NJavWpjd3tJ1",
        "colab_type": "text"
      },
      "source": [
        "### Error Handling"
      ]
    },
    {
      "cell_type": "code",
      "metadata": {
        "id": "VvvznBsv3tJ2",
        "colab_type": "code",
        "colab": {}
      },
      "source": [
        "l = [1, 2, 3]"
      ],
      "execution_count": 0,
      "outputs": []
    },
    {
      "cell_type": "code",
      "metadata": {
        "id": "5YL_PkpE3tKz",
        "colab_type": "code",
        "colab": {}
      },
      "source": [
        "len(l)"
      ],
      "execution_count": 0,
      "outputs": []
    },
    {
      "cell_type": "code",
      "metadata": {
        "id": "FkX0Pxr73tK_",
        "colab_type": "code",
        "colab": {}
      },
      "source": [
        "l[10]  # the list does not have that many elements, thus an error is raised"
      ],
      "execution_count": 0,
      "outputs": []
    },
    {
      "cell_type": "code",
      "metadata": {
        "id": "kV5h0CLP3tLB",
        "colab_type": "code",
        "colab": {}
      },
      "source": [
        "try:\n",
        "    my_result = l[10]\n",
        "except:\n",
        "    print('an error occurred')"
      ],
      "execution_count": 0,
      "outputs": []
    },
    {
      "cell_type": "markdown",
      "metadata": {
        "id": "zzyzTukJ3tLI",
        "colab_type": "text"
      },
      "source": [
        "Multiple `except` clauses, allow handling only some kinds of errors, which are \"expected\", while still being able to get alerts for unexpected ones:"
      ]
    },
    {
      "cell_type": "code",
      "metadata": {
        "id": "VekGAJSj3tLJ",
        "colab_type": "code",
        "colab": {}
      },
      "source": [
        "try:\n",
        "    lizt[10]\n",
        "    \n",
        "except IndexError:\n",
        "    print('bad index')\n",
        "    \n",
        "except Exception as e:\n",
        "    print('a different error occured:', str(e))"
      ],
      "execution_count": 0,
      "outputs": []
    },
    {
      "cell_type": "markdown",
      "metadata": {
        "id": "FJD0Hk0k3tLP",
        "colab_type": "text"
      },
      "source": [
        "### Documentation"
      ]
    },
    {
      "cell_type": "markdown",
      "metadata": {
        "id": "5uNC70zl3tLQ",
        "colab_type": "text"
      },
      "source": [
        "_Type hints_ tell the user what the function is expected to receive and to output. They also aid the pre-compiler (slightly) in optimizing code. But ultimately are just that, hints, not hard rules."
      ]
    },
    {
      "cell_type": "code",
      "metadata": {
        "id": "81tEL20O3tLQ",
        "colab_type": "code",
        "colab": {}
      },
      "source": [
        "def is_even(n: int) -> bool:\n",
        "    return n % 2 == 0"
      ],
      "execution_count": 0,
      "outputs": []
    },
    {
      "cell_type": "markdown",
      "metadata": {
        "id": "hr0IKlKT3tLS",
        "colab_type": "text"
      },
      "source": [
        "**ℹ️ Tip**: it is best practice to prefix boolean variables with `is_`, `are_`, etc."
      ]
    },
    {
      "cell_type": "code",
      "metadata": {
        "id": "kpnzanHJ3tLT",
        "colab_type": "code",
        "colab": {}
      },
      "source": [
        "def is_even(n):\n",
        "    \"\"\"\n",
        "    This multi-line comment explains what the function does.\n",
        "    This function returns whether the integer passed as argument is divisible by two.\n",
        "    \"\"\"\n",
        "    return n % 2 == 0"
      ],
      "execution_count": 0,
      "outputs": []
    },
    {
      "cell_type": "markdown",
      "metadata": {
        "id": "QixEDaoS3tLV",
        "colab_type": "text"
      },
      "source": [
        "Short _unit tests_ show example of usage, succintly describing the function's behavior:"
      ]
    },
    {
      "cell_type": "code",
      "metadata": {
        "id": "CmOUfcBi3tLV",
        "colab_type": "code",
        "colab": {}
      },
      "source": [
        "def is_even(n):\n",
        "    \"\"\"\n",
        "    The examples below show usage and expected output:\n",
        "    \n",
        "    >>> is_even(2)\n",
        "    True\n",
        "\n",
        "    >>> is_even(5)\n",
        "    False\n",
        "    \n",
        "    >>> is_even(1)\n",
        "    False\n",
        "    \"\"\"\n",
        "    return n % 2 == 0"
      ],
      "execution_count": 0,
      "outputs": []
    },
    {
      "cell_type": "markdown",
      "metadata": {
        "id": "5kPWAV4o3tLa",
        "colab_type": "text"
      },
      "source": [
        "The unit tests can also be tested, ensuring the implementation respects the desired outcome:"
      ]
    },
    {
      "cell_type": "code",
      "metadata": {
        "id": "rQcun_B93tLg",
        "colab_type": "code",
        "colab": {}
      },
      "source": [
        "import doctest\n",
        "doctest.testmod()"
      ],
      "execution_count": 0,
      "outputs": []
    },
    {
      "cell_type": "markdown",
      "metadata": {
        "id": "c15TIXu53tLj",
        "colab_type": "text"
      },
      "source": [
        "**💪 Exercise**: correct the failing tests in `is_even` (above) and run the test suite again."
      ]
    },
    {
      "cell_type": "markdown",
      "metadata": {
        "id": "2Xdd1Sj73tLk",
        "colab_type": "text"
      },
      "source": [
        "**ℹ️ Tip**: it is good practice to include a short description of what your function does. For more complex ones, add type information and examples of usage and expected outcome as well. In larger projects, this helps others (and yourself after a period of time) more quickly understand what the code does. We spend about ten times more time reading rather than writing code, so putting effort into making it more readable is sure to be turn out valuable."
      ]
    },
    {
      "cell_type": "markdown",
      "metadata": {
        "id": "chuBVVja3tLk",
        "colab_type": "text"
      },
      "source": [
        "---"
      ]
    },
    {
      "cell_type": "markdown",
      "metadata": {
        "id": "bIInvDbb3tLm",
        "colab_type": "text"
      },
      "source": [
        "**💪 Exercise**: create a function that returns the minimum and maximum of the numeric values in the `superhero_ages` dictionary."
      ]
    },
    {
      "cell_type": "code",
      "metadata": {
        "id": "5PQ7-gcw3tL9",
        "colab_type": "code",
        "colab": {}
      },
      "source": [
        ""
      ],
      "execution_count": 0,
      "outputs": []
    },
    {
      "cell_type": "markdown",
      "metadata": {
        "id": "HCDaJztj3tMQ",
        "colab_type": "text"
      },
      "source": [
        "### Relevant Built-in Functions"
      ]
    },
    {
      "cell_type": "markdown",
      "metadata": {
        "id": "qeozf8Md3tMT",
        "colab_type": "text"
      },
      "source": [
        "Sort a list (works on any data type that the order operator, can optionally be given a `key` expression):"
      ]
    },
    {
      "cell_type": "code",
      "metadata": {
        "id": "d-g-OYOQ3tMW",
        "colab_type": "code",
        "colab": {}
      },
      "source": [
        "sorted([9, 1, 4])  # not in-place"
      ],
      "execution_count": 0,
      "outputs": []
    },
    {
      "cell_type": "markdown",
      "metadata": {
        "id": "s4EryvXY3tMd",
        "colab_type": "text"
      },
      "source": [
        "Read the contents of a text file:"
      ]
    },
    {
      "cell_type": "code",
      "metadata": {
        "id": "py6FWw-U3tMd",
        "colab_type": "code",
        "colab": {}
      },
      "source": [
        "with open('example_files/plain.txt') as f:\n",
        "    print('file contents:', f.read())"
      ],
      "execution_count": 0,
      "outputs": []
    },
    {
      "cell_type": "markdown",
      "metadata": {
        "id": "68BZyoz93tMg",
        "colab_type": "text"
      },
      "source": [
        "Aggregation functions:"
      ]
    },
    {
      "cell_type": "code",
      "metadata": {
        "id": "804BggLE3tMh",
        "colab_type": "code",
        "colab": {}
      },
      "source": [
        "any([True, True, False])  # returns True if at least one of the elements is True"
      ],
      "execution_count": 0,
      "outputs": []
    },
    {
      "cell_type": "code",
      "metadata": {
        "id": "Iqu-vpXW3tMi",
        "colab_type": "code",
        "colab": {}
      },
      "source": [
        "all([True, True, False])  # returns True if every element is True"
      ],
      "execution_count": 0,
      "outputs": []
    },
    {
      "cell_type": "code",
      "metadata": {
        "id": "DHjMRS-v3tMm",
        "colab_type": "code",
        "colab": {}
      },
      "source": [
        "sum([1, 2, 3])  # works on any data type that implements the addition operation"
      ],
      "execution_count": 0,
      "outputs": []
    },
    {
      "cell_type": "code",
      "metadata": {
        "id": "sJ8WiY153tMn",
        "colab_type": "code",
        "colab": {}
      },
      "source": [
        "max([1, 5, 2])"
      ],
      "execution_count": 0,
      "outputs": []
    },
    {
      "cell_type": "markdown",
      "metadata": {
        "id": "agPd-XEk3tMo",
        "colab_type": "text"
      },
      "source": [
        "**ℹ️ Tip**: due to its polymorphy, `sum` can be used to concatenate multiple lists into a single one, by making it start with the empty list:"
      ]
    },
    {
      "cell_type": "code",
      "metadata": {
        "id": "Yod9fRII3tMo",
        "colab_type": "code",
        "colab": {}
      },
      "source": [
        "sum([\n",
        "    [1, 2, 3],\n",
        "    [4, 5],\n",
        "    [6, 7],\n",
        "], [])  # start from []"
      ],
      "execution_count": 0,
      "outputs": []
    },
    {
      "cell_type": "markdown",
      "metadata": {
        "id": "NbNDMKDM3tMq",
        "colab_type": "text"
      },
      "source": [
        "In fact, `any`, `all`, and `sum` are all special cases of [reduce](https://docs.python.org/3/library/functools.html#functools.reduce) (or `foldr` in other functional languages). Another useful tool, specifically if dealing with higher order functions is [partial](https://docs.python.org/3/library/functools.html#functools.partial). More useful functions are found in the [itertools](https://docs.python.org/3/library/itertools.html) module."
      ]
    },
    {
      "cell_type": "markdown",
      "metadata": {
        "id": "BiFvQQg43tMr",
        "colab_type": "text"
      },
      "source": [
        "### Relevant Built-in Packages"
      ]
    },
    {
      "cell_type": "markdown",
      "metadata": {
        "id": "Ze3wQDzg3tMs",
        "colab_type": "text"
      },
      "source": [
        "Beyond the basic functionality that is always available, some specialized functionality resides in _packages_ or modules, which need to be `import`ed before use. Usually, you call the function from the package by prefixing with the package name and a dot."
      ]
    },
    {
      "cell_type": "markdown",
      "metadata": {
        "id": "IdS7tpCH3tMs",
        "colab_type": "text"
      },
      "source": [
        "---"
      ]
    },
    {
      "cell_type": "markdown",
      "metadata": {
        "id": "QoZRETwR3tMs",
        "colab_type": "text"
      },
      "source": [
        "Work with information in structured text using regular expressions:"
      ]
    },
    {
      "cell_type": "code",
      "metadata": {
        "id": "GVgk_Iaz3tMt",
        "colab_type": "code",
        "colab": {}
      },
      "source": [
        "import re"
      ],
      "execution_count": 0,
      "outputs": []
    },
    {
      "cell_type": "markdown",
      "metadata": {
        "id": "4Bgjzmy33tMv",
        "colab_type": "text"
      },
      "source": [
        "Create rules for replacing patterns:"
      ]
    },
    {
      "cell_type": "code",
      "metadata": {
        "id": "OUR670dL3tMv",
        "colab_type": "code",
        "colab": {}
      },
      "source": [
        "re.sub(\n",
        "    pattern='\\d{5}',  # matches any five digits\n",
        "    repl='[removed]',\n",
        "    string='Hi, this is funny_bunny_94 and my zip code is 90007',\n",
        ")"
      ],
      "execution_count": 0,
      "outputs": []
    },
    {
      "cell_type": "markdown",
      "metadata": {
        "id": "3vurRtVv3tMw",
        "colab_type": "text"
      },
      "source": [
        "Check if a certain pattern is present:\n",
        "\n",
        "A rudimentary email pattern for didactical purposes. Matches one or more alphanumeric characters, followed by `@`, followed by at least three letters and ending in either `.com` or `.edu`."
      ]
    },
    {
      "cell_type": "code",
      "metadata": {
        "id": "EmRs4AA03tMx",
        "colab_type": "code",
        "colab": {}
      },
      "source": [
        "if re.match('\\w+@[a-z]{3,}\\.(com|edu)', 'name94@example.com'):\n",
        "    print('matched')"
      ],
      "execution_count": 0,
      "outputs": []
    },
    {
      "cell_type": "markdown",
      "metadata": {
        "id": "lohUlo5q3tM0",
        "colab_type": "text"
      },
      "source": [
        "Capture specific portions of the pattern using _named groups_:"
      ]
    },
    {
      "cell_type": "code",
      "metadata": {
        "id": "DHNPlPLr3tM3",
        "colab_type": "code",
        "colab": {}
      },
      "source": [
        "match = re.match('(?P<username>\\w+)@(?P<domain>[a-z]{3,})\\.(com|edu)', \n",
        "                 'tommy@usc.edu')"
      ],
      "execution_count": 0,
      "outputs": []
    },
    {
      "cell_type": "code",
      "metadata": {
        "id": "dHORIgm03tM4",
        "colab_type": "code",
        "colab": {}
      },
      "source": [
        "match['username']"
      ],
      "execution_count": 0,
      "outputs": []
    },
    {
      "cell_type": "code",
      "metadata": {
        "id": "Mf1quj_U3tM5",
        "colab_type": "code",
        "colab": {}
      },
      "source": [
        "match['domain']"
      ],
      "execution_count": 0,
      "outputs": []
    },
    {
      "cell_type": "markdown",
      "metadata": {
        "id": "_EDGyaVD3tM8",
        "colab_type": "text"
      },
      "source": [
        "---"
      ]
    },
    {
      "cell_type": "markdown",
      "metadata": {
        "id": "GVm4pZWy3tM8",
        "colab_type": "text"
      },
      "source": [
        "Sometimes we need to interact with the file system"
      ]
    },
    {
      "cell_type": "code",
      "metadata": {
        "id": "ocGRhe_I3tM9",
        "colab_type": "code",
        "colab": {}
      },
      "source": [
        "import os  # library for OS-specific functions"
      ],
      "execution_count": 0,
      "outputs": []
    },
    {
      "cell_type": "code",
      "metadata": {
        "id": "QH4w4g-K3tM-",
        "colab_type": "code",
        "colab": {}
      },
      "source": [
        "os.makedirs('example_files', exist_ok=True)  # create a file (if it doesn't exit)"
      ],
      "execution_count": 0,
      "outputs": []
    },
    {
      "cell_type": "code",
      "metadata": {
        "id": "aKaWkKLC3tNA",
        "colab_type": "code",
        "colab": {}
      },
      "source": [
        "from pathlib import Path  # a new library which makes dealing with folders a breeze"
      ],
      "execution_count": 0,
      "outputs": []
    },
    {
      "cell_type": "code",
      "metadata": {
        "id": "5f9pVKl03tNC",
        "colab_type": "code",
        "colab": {}
      },
      "source": [
        "current_folder = Path('.')"
      ],
      "execution_count": 0,
      "outputs": []
    },
    {
      "cell_type": "code",
      "metadata": {
        "id": "sxzAGbWb3tND",
        "colab_type": "code",
        "colab": {}
      },
      "source": [
        "# print only files in the current folder\n",
        "for entry in current_folder.iterdir():\n",
        "    if not entry.is_dir():\n",
        "        print(entry)"
      ],
      "execution_count": 0,
      "outputs": []
    },
    {
      "cell_type": "code",
      "metadata": {
        "id": "dDQy4_4Z3tNF",
        "colab_type": "code",
        "colab": {}
      },
      "source": [
        "current_folder / 'example_files'  # traverse using the / operator"
      ],
      "execution_count": 0,
      "outputs": []
    },
    {
      "cell_type": "markdown",
      "metadata": {
        "id": "EjnyxNO83tNM",
        "colab_type": "text"
      },
      "source": [
        "---"
      ]
    },
    {
      "cell_type": "markdown",
      "metadata": {
        "id": "vBLx2Bs73tNN",
        "colab_type": "text"
      },
      "source": [
        "Besides `csv` (explored in depth in the next workshop), `JSON` (JavaScript Object Notation) is another very popular data format"
      ]
    },
    {
      "cell_type": "code",
      "metadata": {
        "id": "edyGRc283tNN",
        "colab_type": "code",
        "colab": {}
      },
      "source": [
        "import json"
      ],
      "execution_count": 0,
      "outputs": []
    },
    {
      "cell_type": "code",
      "metadata": {
        "id": "zBJL6wxe3tNP",
        "colab_type": "code",
        "colab": {}
      },
      "source": [
        "with open('example_files/objects.json') as f:\n",
        "    print(json.load(f))"
      ],
      "execution_count": 0,
      "outputs": []
    },
    {
      "cell_type": "markdown",
      "metadata": {
        "id": "ACqbHg-X3tNS",
        "colab_type": "text"
      },
      "source": [
        "---"
      ]
    },
    {
      "cell_type": "markdown",
      "metadata": {
        "id": "S-V0uXK93tNT",
        "colab_type": "text"
      },
      "source": [
        "Working with dates and times can be very messy, but thankfully, there nice ways to accomplish this"
      ]
    },
    {
      "cell_type": "code",
      "metadata": {
        "id": "hDWPK-573tNT",
        "colab_type": "code",
        "colab": {}
      },
      "source": [
        "from datetime import datetime"
      ],
      "execution_count": 0,
      "outputs": []
    },
    {
      "cell_type": "code",
      "metadata": {
        "id": "aWAAZPi63tNV",
        "colab_type": "code",
        "colab": {}
      },
      "source": [
        "datetime.now()"
      ],
      "execution_count": 0,
      "outputs": []
    },
    {
      "cell_type": "code",
      "metadata": {
        "id": "CkEsXtUf3tNX",
        "colab_type": "code",
        "colab": {}
      },
      "source": [
        "datetime(year=2018, month=2, day=28)"
      ],
      "execution_count": 0,
      "outputs": []
    },
    {
      "cell_type": "code",
      "metadata": {
        "id": "rH3Vqo8-3tNY",
        "colab_type": "code",
        "colab": {}
      },
      "source": [
        "# not built-in but related, and very useful\n",
        "from dateparser import parse as parse_date"
      ],
      "execution_count": 0,
      "outputs": []
    },
    {
      "cell_type": "code",
      "metadata": {
        "id": "x0_PQeVG3tNa",
        "colab_type": "code",
        "colab": {}
      },
      "source": [
        "parse_date('1 day and 2 hours ago')"
      ],
      "execution_count": 0,
      "outputs": []
    },
    {
      "cell_type": "code",
      "metadata": {
        "id": "jcu81eK33tNb",
        "colab_type": "code",
        "colab": {}
      },
      "source": [
        "parse_date('28 feb')"
      ],
      "execution_count": 0,
      "outputs": []
    },
    {
      "cell_type": "code",
      "metadata": {
        "id": "q1ThFjbf3tNi",
        "colab_type": "code",
        "colab": {}
      },
      "source": [
        "parse_date('29 jan 2000')"
      ],
      "execution_count": 0,
      "outputs": []
    },
    {
      "cell_type": "markdown",
      "metadata": {
        "id": "J6MFQbJZ3tNl",
        "colab_type": "text"
      },
      "source": [
        "---"
      ]
    },
    {
      "cell_type": "markdown",
      "metadata": {
        "id": "o9F0zikT3tNm",
        "colab_type": "text"
      },
      "source": [
        "Serialization gives a method to store (and transfer) variables that cannot be easily represented by traditional file formats"
      ]
    },
    {
      "cell_type": "code",
      "metadata": {
        "id": "rOZtrzF_3tNn",
        "colab_type": "code",
        "colab": {}
      },
      "source": [
        "import pickle  # because you store it away... programmer humor 😅"
      ],
      "execution_count": 0,
      "outputs": []
    },
    {
      "cell_type": "code",
      "metadata": {
        "id": "5ZcI8rEt3tNp",
        "colab_type": "code",
        "colab": {}
      },
      "source": [
        "serialized = pickle.dumps(superhero_ages)  # get a binary representation of the dictionary"
      ],
      "execution_count": 0,
      "outputs": []
    },
    {
      "cell_type": "code",
      "metadata": {
        "id": "SpXAtVCD3tNq",
        "colab_type": "code",
        "colab": {}
      },
      "source": [
        "serialized  # you can save this in as a binary file"
      ],
      "execution_count": 0,
      "outputs": []
    },
    {
      "cell_type": "code",
      "metadata": {
        "id": "-6tNQ2nb3tNs",
        "colab_type": "code",
        "colab": {}
      },
      "source": [
        "pickle.loads(serialized)  # load the binary representation back in memory"
      ],
      "execution_count": 0,
      "outputs": []
    },
    {
      "cell_type": "markdown",
      "metadata": {
        "id": "FCiv6RBf3tNx",
        "colab_type": "text"
      },
      "source": [
        "## Topics left uncovered\n",
        "\n",
        "This workshop is not meant to exhaustively cover every functionality of Python. If you are curious and want to learn more, you can either learn more about the topics briefly covered today, or explore other basic topics that were not touched upon in this workshop:\n",
        "\n",
        "- classes and inheritance\n",
        "- `main` and executing\n",
        "- modules and importing\n",
        "- user input\n",
        "- iterators\n",
        "- decorators\n",
        "- asynchronicity\n",
        "- immutability\n",
        "- debugging\n",
        "- code style"
      ]
    },
    {
      "cell_type": "markdown",
      "metadata": {
        "id": "LCQ7c_JR3tN0",
        "colab_type": "text"
      },
      "source": [
        "## Further reading\n",
        "These are some of the resources that cover the important information and do so efficiently:\n",
        "\n",
        " - Python: \n",
        "   - [PDF cheatsheets](https://ehmatthes.github.io/pcc/cheatsheets/README.html)\n",
        "   - [online cheatsheets](https://www.pythonsheets.com)\n",
        "   - [interactive tutorial](https://www.codecademy.com/learn/learn-python-3)\n",
        "   - [official tutorial](https://docs.python.org/3/tutorial/)\n",
        " - Regex: [official reference](https://docs.python.org/3/library/re.html)\n",
        " - Date formatting: [reference](http://strftime.org)\n",
        " - Number formatting: [reference](https://docs.python.org/3/library/string.html#formatspec)\n",
        " - IDE: [PyCharm](https://www.jetbrains.com/pycharm/) (free with .edu email)\n",
        " - Code Style: discussed in the [appendix](appendix.ipynb)"
      ]
    }
  ]
}