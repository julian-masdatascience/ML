{
  "nbformat": 4,
  "nbformat_minor": 0,
  "metadata": {
    "kernelspec": {
      "display_name": "Python 3",
      "language": "python",
      "name": "python3"
    },
    "language_info": {
      "codemirror_mode": {
        "name": "ipython",
        "version": 3
      },
      "file_extension": ".py",
      "mimetype": "text/x-python",
      "name": "python",
      "nbconvert_exporter": "python",
      "pygments_lexer": "ipython3",
      "version": "3.7.0"
    },
    "colab": {
      "name": "1a-python.ipynb",
      "provenance": []
    }
  },
  "cells": [
    {
      "cell_type": "markdown",
      "metadata": {
        "id": "rPxYUyQXCgaN",
        "colab_type": "text"
      },
      "source": [
        "#BIENVENIDOS AL MUNDO PYTHON\n",
        "![texto alternativo](https://encrypted-tbn0.gstatic.com/images?q=tbn%3AANd9GcQY1uddlUtoHBR2P7B2gDqXaLESQAV3SZKHIoyb2GpeibFCcsDS)"
      ]
    },
    {
      "cell_type": "markdown",
      "metadata": {
        "id": "5iob866zChoa",
        "colab_type": "text"
      },
      "source": [
        "# Introducción al lenguaje\n",
        "<br>\n",
        "Python es un lenguaje dinámico, interpretado (compilado por bytecode). No hay declaraciones de tipo de variables, parámetros, funciones o métodos en el código fuente. Esto hace que el código sea corto y flexible. Python rastrea los tipos de todos los valores en tiempo de ejecución.\n",
        "<br>\n",
        "Una excelente manera de ver cómo funciona el código Python es ejecutar el intérprete de Python y escribir el código directamente en él. "
      ]
    },
    {
      "cell_type": "code",
      "metadata": {
        "id": "oGW2RXsUDUkE",
        "colab_type": "code",
        "colab": {}
      },
      "source": [
        "# defino una variable\n",
        "variable = 10"
      ],
      "execution_count": 0,
      "outputs": []
    },
    {
      "cell_type": "code",
      "metadata": {
        "id": "ByQkSDesDZFJ",
        "colab_type": "code",
        "colab": {
          "base_uri": "https://localhost:8080/",
          "height": 34
        },
        "outputId": "f8134305-4734-4439-d6a9-874d3814e081"
      },
      "source": [
        "# miro su valor\n",
        "variable"
      ],
      "execution_count": 3,
      "outputs": [
        {
          "output_type": "execute_result",
          "data": {
            "text/plain": [
              "10"
            ]
          },
          "metadata": {
            "tags": []
          },
          "execution_count": 3
        }
      ]
    },
    {
      "cell_type": "code",
      "metadata": {
        "id": "_8unZP3vDfUx",
        "colab_type": "code",
        "colab": {
          "base_uri": "https://localhost:8080/",
          "height": 34
        },
        "outputId": "0f5443ea-5973-450a-c895-7ec2afe3b87c"
      },
      "source": [
        "# la puedo modificar o sumar en linea\n",
        "variable+5"
      ],
      "execution_count": 4,
      "outputs": [
        {
          "output_type": "execute_result",
          "data": {
            "text/plain": [
              "15"
            ]
          },
          "metadata": {
            "tags": []
          },
          "execution_count": 4
        }
      ]
    },
    {
      "cell_type": "code",
      "metadata": {
        "id": "mJ3hERywDk23",
        "colab_type": "code",
        "colab": {
          "base_uri": "https://localhost:8080/",
          "height": 34
        },
        "outputId": "2532fcd1-9792-4792-8ed6-b4d509ee530b"
      },
      "source": [
        "# No solo números, puede ser letras tambien\n",
        "letras = \"Julian\"\n",
        "letras"
      ],
      "execution_count": 6,
      "outputs": [
        {
          "output_type": "execute_result",
          "data": {
            "text/plain": [
              "'Julian'"
            ]
          },
          "metadata": {
            "tags": []
          },
          "execution_count": 6
        }
      ]
    },
    {
      "cell_type": "code",
      "metadata": {
        "id": "NCROekZ6Du29",
        "colab_type": "code",
        "colab": {
          "base_uri": "https://localhost:8080/",
          "height": 34
        },
        "outputId": "695c5f41-8a6f-4009-fc3d-5c3b7757a95c"
      },
      "source": [
        "# Existen funciones como len que miden el tamaño de las variables \n",
        "len(letras)"
      ],
      "execution_count": 7,
      "outputs": [
        {
          "output_type": "execute_result",
          "data": {
            "text/plain": [
              "6"
            ]
          },
          "metadata": {
            "tags": []
          },
          "execution_count": 7
        }
      ]
    },
    {
      "cell_type": "code",
      "metadata": {
        "id": "BEq4EPATEGyK",
        "colab_type": "code",
        "colab": {
          "base_uri": "https://localhost:8080/",
          "height": 167
        },
        "outputId": "6a71ef3f-82e3-446a-dea8-3be14174e8b9"
      },
      "source": [
        "# Cuidado a veces salen errores como este, pero no se preocupen es normal\n",
        "letras +\" \"+ len(letras)"
      ],
      "execution_count": 13,
      "outputs": [
        {
          "output_type": "error",
          "ename": "TypeError",
          "evalue": "ignored",
          "traceback": [
            "\u001b[0;31m---------------------------------------------------------------------------\u001b[0m",
            "\u001b[0;31mTypeError\u001b[0m                                 Traceback (most recent call last)",
            "\u001b[0;32m<ipython-input-13-25ef2b8550c9>\u001b[0m in \u001b[0;36m<module>\u001b[0;34m()\u001b[0m\n\u001b[0;32m----> 1\u001b[0;31m \u001b[0mletras\u001b[0m \u001b[0;34m+\u001b[0m\u001b[0;34m\" \"\u001b[0m\u001b[0;34m+\u001b[0m \u001b[0mlen\u001b[0m\u001b[0;34m(\u001b[0m\u001b[0mletras\u001b[0m\u001b[0;34m)\u001b[0m\u001b[0;34m\u001b[0m\u001b[0;34m\u001b[0m\u001b[0m\n\u001b[0m",
            "\u001b[0;31mTypeError\u001b[0m: must be str, not int"
          ]
        }
      ]
    },
    {
      "cell_type": "code",
      "metadata": {
        "id": "n1dS_Hr8EeoX",
        "colab_type": "code",
        "colab": {
          "base_uri": "https://localhost:8080/",
          "height": 34
        },
        "outputId": "795275a1-0000-4ef9-e071-4be9756d8391"
      },
      "source": [
        "# miremos los tipos de datos que existen\n",
        "type(letras)"
      ],
      "execution_count": 14,
      "outputs": [
        {
          "output_type": "execute_result",
          "data": {
            "text/plain": [
              "str"
            ]
          },
          "metadata": {
            "tags": []
          },
          "execution_count": 14
        }
      ]
    },
    {
      "cell_type": "code",
      "metadata": {
        "id": "ERZgsNJIEgTU",
        "colab_type": "code",
        "colab": {
          "base_uri": "https://localhost:8080/",
          "height": 34
        },
        "outputId": "1ce4276b-eb11-49a4-c712-d45b2a3d163d"
      },
      "source": [
        "# miremos ahora el tamaño que es. \n",
        "type(len(letras))"
      ],
      "execution_count": 15,
      "outputs": [
        {
          "output_type": "execute_result",
          "data": {
            "text/plain": [
              "int"
            ]
          },
          "metadata": {
            "tags": []
          },
          "execution_count": 15
        }
      ]
    },
    {
      "cell_type": "code",
      "metadata": {
        "id": "0QXhh8xAD3xZ",
        "colab_type": "code",
        "colab": {
          "base_uri": "https://localhost:8080/",
          "height": 34
        },
        "outputId": "31939583-8d0f-492b-f5a6-0a12f97a706a"
      },
      "source": [
        "# Puedo nuevamente unir valores\n",
        "letras +\" \"+ str(len(letras))"
      ],
      "execution_count": 16,
      "outputs": [
        {
          "output_type": "execute_result",
          "data": {
            "text/plain": [
              "'Julian 6'"
            ]
          },
          "metadata": {
            "tags": []
          },
          "execution_count": 16
        }
      ]
    },
    {
      "cell_type": "code",
      "metadata": {
        "id": "deolMfAzE383",
        "colab_type": "code",
        "colab": {
          "base_uri": "https://localhost:8080/",
          "height": 105
        },
        "outputId": "d4de645e-6fce-45b4-88c0-2622d711f254"
      },
      "source": [
        "# Tambien se ´puede consultar que significan las funciones, como la de longitud\n",
        "help(len)"
      ],
      "execution_count": 18,
      "outputs": [
        {
          "output_type": "stream",
          "text": [
            "Help on built-in function len in module builtins:\n",
            "\n",
            "len(obj, /)\n",
            "    Return the number of items in a container.\n",
            "\n"
          ],
          "name": "stdout"
        }
      ]
    },
    {
      "cell_type": "markdown",
      "metadata": {
        "id": "P-cKud28Chrh",
        "colab_type": "text"
      },
      "source": [
        "## Ahorá si miremos como funcional"
      ]
    },
    {
      "cell_type": "markdown",
      "metadata": {
        "id": "Ii5QR1XU3svd",
        "colab_type": "text"
      },
      "source": [
        "# 1. Elementos basicos\n",
        "\n",
        "\n"
      ]
    },
    {
      "cell_type": "markdown",
      "metadata": {
        "id": "L4ZlWPUC3svr",
        "colab_type": "text"
      },
      "source": [
        "Si bien Python es el lenguaje de programación para este taller, Jupyter es el entorno interactivo en el que operaremos durante todas nuestras clases.\n",
        "<br>\n",
        "Este primer  taller analiza los conceptos básicos de lenguaje y los paquetes integrados."
      ]
    },
    {
      "cell_type": "markdown",
      "metadata": {
        "id": "aykAK3L63svu",
        "colab_type": "text"
      },
      "source": [
        "## 1a. Python"
      ]
    },
    {
      "cell_type": "markdown",
      "metadata": {
        "id": "Owakj2Xm3sv4",
        "colab_type": "text"
      },
      "source": [
        "Por que Python\n",
        "\n",
        "- **Alta demanda**: Prolífiero no solo en Data Science, sino también en desarrollo web y otras áreas (Es 5ta tecnología más popular y  la de más rápido crecimiento: [Stack Overflow 2019] (https://insights.stackoverflow.com/ encuesta / 2019 # tecnologías más populares))\n",
        "- **Divertido**: fácil de entender y expresivo, no innecesariamente detallado (segundo lenguaje de programación más querido: [StackOverflow 2019] (https://insights.stackoverflow.com/survey/2019#most-loved-dreaded-and -querido))\n",
        "- **Comunidad fuerte**: Siempre hay paquetes de alta calidad y tutoriales ([IEEE 2019] (https://spectrum.ieee.org/computing/software/the-top-programming-languages-2019) lo nombró la mejor idioma de programación)\n",
        "\n",
        "<img src = \"https://i.imgur.com/HqeQKP8.png\" width = 400> </img>\n",
        "<img src = \"https://i.imgur.com/K5iCwvH.png\" width = 450> </img>"
      ]
    },
    {
      "cell_type": "markdown",
      "metadata": {
        "id": "p6S_1D5L3sv7",
        "colab_type": "text"
      },
      "source": [
        "### Table of contents\n",
        "\n",
        "- El lenguaje de programación Python  \n",
        "  - Basico\n",
        "  - Variables\n",
        "  - Estructuras de datos\n",
        "    - Lista  \n",
        "    - String  \n",
        "    - Diccionario \n",
        "    - Otros \n",
        "  - Iteración  \n",
        "  - Funciones  \n",
        "  - Declaraciones condicionales  \n",
        "  - Manejo de errores \n",
        "  - Documentación  \n",
        "  - Incorporados relevantes  \n",
        "    - Funciones misceláneas  \n",
        "    - Expresiones regulares  \n",
        "    - SO  \n",
        "    - JSON ( \n",
        "    - Fecha y hora   \n",
        "    - Serialización  "
      ]
    },
    {
      "cell_type": "markdown",
      "metadata": {
        "id": "vFIMIvsa3swE",
        "colab_type": "text"
      },
      "source": [
        "---"
      ]
    },
    {
      "cell_type": "markdown",
      "metadata": {
        "id": "JbD8c_VU3sxS",
        "colab_type": "text"
      },
      "source": [
        "**¿Como se trabaja en Jupyter Notebook?**: \n",
        "- Se ejecuta la celda presionando **ctrl+enter**\n",
        "- Se editan las celdas haciendo click directamente \n",
        "- Press **b** to insert a new cell"
      ]
    },
    {
      "cell_type": "markdown",
      "metadata": {
        "id": "Tq--QxgJ3sxa",
        "colab_type": "text"
      },
      "source": [
        "---"
      ]
    },
    {
      "cell_type": "markdown",
      "metadata": {
        "id": "405uppHx3sxe",
        "colab_type": "text"
      },
      "source": [
        "Documentar nuestro código es algo esencial para entenderlo más adelante, o dejar que otra persona que no lo desarrollo lo pueda manipular, para ello lo hacemo susando un # , lo cual nos indica que esa linea es documentada y no hará parte de la ejecución de lo que estemos haciendo. "
      ]
    },
    {
      "cell_type": "code",
      "metadata": {
        "id": "LoNPy5Rs3sxo",
        "colab_type": "code",
        "colab": {}
      },
      "source": [
        "# Esto es un comentario"
      ],
      "execution_count": 0,
      "outputs": []
    },
    {
      "cell_type": "code",
      "metadata": {
        "id": "szXh4ZHxHgMT",
        "colab_type": "code",
        "colab": {
          "base_uri": "https://localhost:8080/",
          "height": 132
        },
        "outputId": "908047b0-e216-4f47-f8b7-d61584d8c931"
      },
      "source": [
        "¿que pasa si no coloco el # y ejecuto?"
      ],
      "execution_count": 18,
      "outputs": [
        {
          "output_type": "error",
          "ename": "SyntaxError",
          "evalue": "ignored",
          "traceback": [
            "\u001b[0;36m  File \u001b[0;32m\"<ipython-input-19-6598d571569e>\"\u001b[0;36m, line \u001b[0;32m1\u001b[0m\n\u001b[0;31m    ¿que pasa si no coloco el # y ejecuto?\u001b[0m\n\u001b[0m       ^\u001b[0m\n\u001b[0;31mSyntaxError\u001b[0m\u001b[0;31m:\u001b[0m invalid character in identifier\n"
          ]
        }
      ]
    },
    {
      "cell_type": "markdown",
      "metadata": {
        "id": "L-zcB5aY3sx1",
        "colab_type": "text"
      },
      "source": [
        "### Basicos"
      ]
    },
    {
      "cell_type": "markdown",
      "metadata": {
        "id": "JDeDy6er3sx6",
        "colab_type": "text"
      },
      "source": [
        "Los tipos de datos más usados son:\n",
        " - `int`: Enteros\n",
        " - `float`: Números decimales\n",
        " - `str`: Palabras (información alfanúmerica) \n",
        " - `bool`: Nos da dos estados, verdadero o falso\n",
        " - `None`: Sin valor (similar al null o nulo en otros lenguajes)"
      ]
    },
    {
      "cell_type": "markdown",
      "metadata": {
        "id": "1-18CbKr3syN",
        "colab_type": "text"
      },
      "source": [
        "### Basic arithmetic"
      ]
    },
    {
      "cell_type": "markdown",
      "metadata": {
        "id": "nSvoBKJTH_mP",
        "colab_type": "text"
      },
      "source": [
        "## Resumen basico de operadores\n",
        "\n",
        "| Operación | Descripción   |\n",
        "|------|------|\n",
        "|   a + b  | suma a y b|\n",
        "|   a - b   | resta a menos b |\n",
        "|   a // b    | a dividido entre b (quitando decimales) |\n",
        "|    a * b  |  a multiplicado por b |\n",
        "|    a ** b   | a elevado a b |\n",
        "| a % b     |devuelve el resto de la división a / b (modulus)  |\n",
        "|   a & b   | bool: True si a y b son True |\n",
        "|   a | b   | bool: True si a o b es True |\n",
        "|   a ^ b   | bool: True si solo uno de los dos es True |\n",
        "|  a == b     | True si a y b son iguales |\n",
        "|  a != b    | True si a y b son distintos |\n",
        "|  a is b    | True si a y b son referencias al mismo objeto |\n",
        "| a is not b      | True si a y b son referencias a distintos objetos |\n",
        "| a <= b, a < b     | True si a es menor o igual que b (o solo menor) |\n",
        "| a >= b, a > b      | True si a es mayor o igual que b (o solo mayor) |\n"
      ]
    },
    {
      "cell_type": "code",
      "metadata": {
        "id": "xJHkyyWa3syU",
        "colab_type": "code",
        "colab": {
          "base_uri": "https://localhost:8080/",
          "height": 34
        },
        "outputId": "b1de9767-5cb8-4d4a-ffea-6e57fbd900c5"
      },
      "source": [
        "1+9 # suma"
      ],
      "execution_count": 20,
      "outputs": [
        {
          "output_type": "execute_result",
          "data": {
            "text/plain": [
              "10"
            ]
          },
          "metadata": {
            "tags": []
          },
          "execution_count": 20
        }
      ]
    },
    {
      "cell_type": "code",
      "metadata": {
        "id": "MC8QGqnf3syz",
        "colab_type": "code",
        "colab": {
          "base_uri": "https://localhost:8080/",
          "height": 34
        },
        "outputId": "aa0942c5-a70a-4403-c1d3-0cef0444ea2d"
      },
      "source": [
        "2**3  # Potencia"
      ],
      "execution_count": 21,
      "outputs": [
        {
          "output_type": "execute_result",
          "data": {
            "text/plain": [
              "8"
            ]
          },
          "metadata": {
            "tags": []
          },
          "execution_count": 21
        }
      ]
    },
    {
      "cell_type": "markdown",
      "metadata": {
        "id": "P8YWGUFS3szE",
        "colab_type": "text"
      },
      "source": [
        "### Variables"
      ]
    },
    {
      "cell_type": "markdown",
      "metadata": {
        "id": "mIwmgbMh3szI",
        "colab_type": "text"
      },
      "source": [
        "Se asignan las variables con =\n"
      ]
    },
    {
      "cell_type": "code",
      "metadata": {
        "id": "LrGYi3Ic3szN",
        "colab_type": "code",
        "colab": {}
      },
      "source": [
        "nombre = 'Peter Parker'  # las palabras son con apostre o comilla\n",
        "edad = 21\n",
        "altura = 1.84\n",
        "casado = False"
      ],
      "execution_count": 0,
      "outputs": []
    },
    {
      "cell_type": "code",
      "metadata": {
        "id": "rYwr8KYx3szh",
        "colab_type": "code",
        "colab": {
          "base_uri": "https://localhost:8080/",
          "height": 34
        },
        "outputId": "5c449ed8-13bc-46a1-f208-10c5db05b5e7"
      },
      "source": [
        "edad / 2"
      ],
      "execution_count": 23,
      "outputs": [
        {
          "output_type": "execute_result",
          "data": {
            "text/plain": [
              "10.5"
            ]
          },
          "metadata": {
            "tags": []
          },
          "execution_count": 23
        }
      ]
    },
    {
      "cell_type": "code",
      "metadata": {
        "id": "jcTgRaWc3s0d",
        "colab_type": "code",
        "colab": {
          "base_uri": "https://localhost:8080/",
          "height": 34
        },
        "outputId": "fbab2b1a-634d-488b-953e-f22befed0a8d"
      },
      "source": [
        "edad // 2  # Sin decimales"
      ],
      "execution_count": 24,
      "outputs": [
        {
          "output_type": "execute_result",
          "data": {
            "text/plain": [
              "10"
            ]
          },
          "metadata": {
            "tags": []
          },
          "execution_count": 24
        }
      ]
    },
    {
      "cell_type": "markdown",
      "metadata": {
        "id": "YRXQTcSz3s0m",
        "colab_type": "text"
      },
      "source": [
        "**💪 Ejercicio Rapido**: Crear una variable llamada `numero_favorito`,  el cúal será un número que será elevado al cuadrado\n"
      ]
    },
    {
      "cell_type": "code",
      "metadata": {
        "id": "jwChvlZk3s0o",
        "colab_type": "code",
        "colab": {}
      },
      "source": [
        ""
      ],
      "execution_count": 0,
      "outputs": []
    },
    {
      "cell_type": "markdown",
      "metadata": {
        "id": "BNtl8ru_3s2J",
        "colab_type": "text"
      },
      "source": [
        "**ℹ️ Tip**: Siempre defina nombres descriptivos a las variables. Un nombre descriptivo facilita el trabajo con la variable y permite estimar más intuitivamente lo que sucederá."
      ]
    },
    {
      "cell_type": "markdown",
      "metadata": {
        "id": "Q3TTnZp43s2n",
        "colab_type": "text"
      },
      "source": [
        "---"
      ]
    },
    {
      "cell_type": "markdown",
      "metadata": {
        "id": "7Q_uZ1_53s2p",
        "colab_type": "text"
      },
      "source": [
        "### Ahora Identifica el tipo de datos que utilizas:\n"
      ]
    },
    {
      "cell_type": "code",
      "metadata": {
        "id": "Hb_ty-xX3s2s",
        "colab_type": "code",
        "colab": {
          "base_uri": "https://localhost:8080/",
          "height": 34
        },
        "outputId": "68c4695f-a34a-40c4-98b8-bea79d22572e"
      },
      "source": [
        "type(edad)"
      ],
      "execution_count": 30,
      "outputs": [
        {
          "output_type": "execute_result",
          "data": {
            "text/plain": [
              "int"
            ]
          },
          "metadata": {
            "tags": []
          },
          "execution_count": 30
        }
      ]
    },
    {
      "cell_type": "code",
      "metadata": {
        "id": "wtYv_EAQ3s3A",
        "colab_type": "code",
        "colab": {
          "base_uri": "https://localhost:8080/",
          "height": 34
        },
        "outputId": "a9d30458-b14e-4057-a990-dfde545a3056"
      },
      "source": [
        "# Verifiquemos ahora con altura \n",
        "type(altura) "
      ],
      "execution_count": 32,
      "outputs": [
        {
          "output_type": "execute_result",
          "data": {
            "text/plain": [
              "float"
            ]
          },
          "metadata": {
            "tags": []
          },
          "execution_count": 32
        }
      ]
    },
    {
      "cell_type": "markdown",
      "metadata": {
        "id": "AgmZZu9M3s3Q",
        "colab_type": "text"
      },
      "source": [
        "---"
      ]
    },
    {
      "cell_type": "markdown",
      "metadata": {
        "id": "N89-D9F03s3S",
        "colab_type": "text"
      },
      "source": [
        "### Convertir valores entre los tipos de datos"
      ]
    },
    {
      "cell_type": "code",
      "metadata": {
        "id": "qWg2YtDk3s3W",
        "colab_type": "code",
        "colab": {}
      },
      "source": [
        "# Decimal a Entero\n",
        "int(2.8)"
      ],
      "execution_count": 0,
      "outputs": []
    },
    {
      "cell_type": "code",
      "metadata": {
        "id": "ldWuHB-Z3s3g",
        "colab_type": "code",
        "colab": {}
      },
      "source": [
        "# Alfanumerico a Entero\n",
        "int('2')"
      ],
      "execution_count": 0,
      "outputs": []
    },
    {
      "cell_type": "code",
      "metadata": {
        "id": "u1Puu7DF3s3q",
        "colab_type": "code",
        "colab": {}
      },
      "source": [
        "# Entero a Decima\n",
        "float(2)"
      ],
      "execution_count": 0,
      "outputs": []
    },
    {
      "cell_type": "code",
      "metadata": {
        "id": "S_GLWoFV3s3y",
        "colab_type": "code",
        "colab": {}
      },
      "source": [
        "# Entero a Alfanumerico\n",
        "str(123)"
      ],
      "execution_count": 0,
      "outputs": []
    },
    {
      "cell_type": "markdown",
      "metadata": {
        "id": "SGRuIgno3s38",
        "colab_type": "text"
      },
      "source": [
        "**💪 Ejercicio Rapido**: Verifique el tipo de datos de `'7'` y luego conviertalo a entero y decimal.\n"
      ]
    },
    {
      "cell_type": "code",
      "metadata": {
        "id": "SEqnW8Uv3s3-",
        "colab_type": "code",
        "colab": {}
      },
      "source": [
        ""
      ],
      "execution_count": 0,
      "outputs": []
    },
    {
      "cell_type": "markdown",
      "metadata": {
        "id": "iNRs5_pv3s4G",
        "colab_type": "text"
      },
      "source": [
        "### Estructurá de Datos"
      ]
    },
    {
      "cell_type": "markdown",
      "metadata": {
        "id": "LruCyRwS3s4I",
        "colab_type": "text"
      },
      "source": [
        "Estructuras de datos en Python :\n",
        "\n"
      ]
    },
    {
      "cell_type": "markdown",
      "metadata": {
        "id": "wr52IsyP3s4K",
        "colab_type": "text"
      },
      "source": [
        "#### List"
      ]
    },
    {
      "cell_type": "markdown",
      "metadata": {
        "id": "nX9Oh-iJ3s4M",
        "colab_type": "text"
      },
      "source": [
        "La lista nos permite guardar una lista de elementos en un solo objeto. "
      ]
    },
    {
      "cell_type": "code",
      "metadata": {
        "id": "Go6VtOcv3s4P",
        "colab_type": "code",
        "colab": {}
      },
      "source": [
        "cuadrados = [0, 1, 4, 9]"
      ],
      "execution_count": 0,
      "outputs": []
    },
    {
      "cell_type": "code",
      "metadata": {
        "id": "jC3nnqkr3s4V",
        "colab_type": "code",
        "colab": {
          "base_uri": "https://localhost:8080/",
          "height": 34
        },
        "outputId": "992093ec-ef85-43e8-e59d-271122b0034f"
      },
      "source": [
        "cuadrados"
      ],
      "execution_count": 34,
      "outputs": [
        {
          "output_type": "execute_result",
          "data": {
            "text/plain": [
              "[0, 1, 4, 9]"
            ]
          },
          "metadata": {
            "tags": []
          },
          "execution_count": 34
        }
      ]
    },
    {
      "cell_type": "code",
      "metadata": {
        "id": "fWBkM_183s4e",
        "colab_type": "code",
        "colab": {}
      },
      "source": [
        "cuadrados.append(25)  # Agrega un elemento al final de cuadrados"
      ],
      "execution_count": 0,
      "outputs": []
    },
    {
      "cell_type": "code",
      "metadata": {
        "id": "Y5Y7KWwf3s45",
        "colab_type": "code",
        "colab": {
          "base_uri": "https://localhost:8080/",
          "height": 34
        },
        "outputId": "fb8187c9-7119-473e-9787-d363e80d2d4b"
      },
      "source": [
        "cuadrados"
      ],
      "execution_count": 36,
      "outputs": [
        {
          "output_type": "execute_result",
          "data": {
            "text/plain": [
              "[0, 1, 4, 9, 25]"
            ]
          },
          "metadata": {
            "tags": []
          },
          "execution_count": 36
        }
      ]
    },
    {
      "cell_type": "code",
      "metadata": {
        "id": "HCkV79wf3s4-",
        "colab_type": "code",
        "colab": {
          "base_uri": "https://localhost:8080/",
          "height": 34
        },
        "outputId": "eb5ed910-1b8d-43a8-b91d-bc7e01106699"
      },
      "source": [
        "len(cuadrados)  # nos permite establecer el número de elementos del objeto "
      ],
      "execution_count": 38,
      "outputs": [
        {
          "output_type": "execute_result",
          "data": {
            "text/plain": [
              "5"
            ]
          },
          "metadata": {
            "tags": []
          },
          "execution_count": 38
        }
      ]
    },
    {
      "cell_type": "code",
      "metadata": {
        "id": "SfKeBdWk3s5G",
        "colab_type": "code",
        "colab": {
          "base_uri": "https://localhost:8080/",
          "height": 34
        },
        "outputId": "f0e091bf-9334-4c73-90b2-3a3ad5951de4"
      },
      "source": [
        "cuadrados[0]  # Se accede al primer elemento. El índice de acceso inicia en 0"
      ],
      "execution_count": 39,
      "outputs": [
        {
          "output_type": "execute_result",
          "data": {
            "text/plain": [
              "0"
            ]
          },
          "metadata": {
            "tags": []
          },
          "execution_count": 39
        }
      ]
    },
    {
      "cell_type": "code",
      "metadata": {
        "id": "zktujDJV3s5P",
        "colab_type": "code",
        "colab": {
          "base_uri": "https://localhost:8080/",
          "height": 34
        },
        "outputId": "dadeae97-ba29-4f5a-c4d4-f1459e186dd7"
      },
      "source": [
        "cuadrados[-1]  # Se obtiene el último elemento"
      ],
      "execution_count": 40,
      "outputs": [
        {
          "output_type": "execute_result",
          "data": {
            "text/plain": [
              "25"
            ]
          },
          "metadata": {
            "tags": []
          },
          "execution_count": 40
        }
      ]
    },
    {
      "cell_type": "code",
      "metadata": {
        "id": "zMEZ8ojN3s5e",
        "colab_type": "code",
        "colab": {
          "base_uri": "https://localhost:8080/",
          "height": 34
        },
        "outputId": "1ac81805-6d3c-4cda-eb52-b4b0342a476d"
      },
      "source": [
        "4 in cuadrados  # se realiza una prueba del valor si existe en el objeto "
      ],
      "execution_count": 41,
      "outputs": [
        {
          "output_type": "execute_result",
          "data": {
            "text/plain": [
              "True"
            ]
          },
          "metadata": {
            "tags": []
          },
          "execution_count": 41
        }
      ]
    },
    {
      "cell_type": "code",
      "metadata": {
        "id": "8IikwYLX3s5r",
        "colab_type": "code",
        "colab": {
          "base_uri": "https://localhost:8080/",
          "height": 34
        },
        "outputId": "4d73cc8c-31b6-4ebb-d8cd-8dc8bdd2eea9"
      },
      "source": [
        "5 in cuadrados  # ahora un valor que no contiene"
      ],
      "execution_count": 43,
      "outputs": [
        {
          "output_type": "execute_result",
          "data": {
            "text/plain": [
              "False"
            ]
          },
          "metadata": {
            "tags": []
          },
          "execution_count": 43
        }
      ]
    },
    {
      "cell_type": "code",
      "metadata": {
        "id": "UHz7JiKb3s51",
        "colab_type": "code",
        "colab": {
          "base_uri": "https://localhost:8080/",
          "height": 34
        },
        "outputId": "c2bcd87b-55cf-4028-acfb-94002d7dea8e"
      },
      "source": [
        "cuadrados.index(25)  # Obtiene la posición del elemento"
      ],
      "execution_count": 52,
      "outputs": [
        {
          "output_type": "execute_result",
          "data": {
            "text/plain": [
              "4"
            ]
          },
          "metadata": {
            "tags": []
          },
          "execution_count": 52
        }
      ]
    },
    {
      "cell_type": "code",
      "metadata": {
        "id": "x3KA6Psp3s5_",
        "colab_type": "code",
        "colab": {
          "base_uri": "https://localhost:8080/",
          "height": 34
        },
        "outputId": "0a65adad-47a1-4e95-e4a7-2ff18f3268c5"
      },
      "source": [
        "cuadrados"
      ],
      "execution_count": 45,
      "outputs": [
        {
          "output_type": "execute_result",
          "data": {
            "text/plain": [
              "[0, 1, 4, 9, 25]"
            ]
          },
          "metadata": {
            "tags": []
          },
          "execution_count": 45
        }
      ]
    },
    {
      "cell_type": "code",
      "metadata": {
        "id": "V6G-B26l3s6U",
        "colab_type": "code",
        "colab": {
          "base_uri": "https://localhost:8080/",
          "height": 34
        },
        "outputId": "977c8e09-d00b-4fd0-e737-1d724fa78941"
      },
      "source": [
        "cuadrados[1:]  # : es un comodin. En este caso significa que se obtiene del segundo elemento en adelante"
      ],
      "execution_count": 53,
      "outputs": [
        {
          "output_type": "execute_result",
          "data": {
            "text/plain": [
              "[1, 4, 9, 25]"
            ]
          },
          "metadata": {
            "tags": []
          },
          "execution_count": 53
        }
      ]
    },
    {
      "cell_type": "code",
      "metadata": {
        "id": "y7cND1l53s6e",
        "colab_type": "code",
        "colab": {
          "base_uri": "https://localhost:8080/",
          "height": 34
        },
        "outputId": "880f7303-fbf4-4fb0-f3b5-c48b412050cc"
      },
      "source": [
        "cuadrados[:-1]  # Todos menos el último"
      ],
      "execution_count": 54,
      "outputs": [
        {
          "output_type": "execute_result",
          "data": {
            "text/plain": [
              "[0, 1, 4, 9]"
            ]
          },
          "metadata": {
            "tags": []
          },
          "execution_count": 54
        }
      ]
    },
    {
      "cell_type": "code",
      "metadata": {
        "id": "u85VKvln3s6j",
        "colab_type": "code",
        "colab": {
          "base_uri": "https://localhost:8080/",
          "height": 34
        },
        "outputId": "6e78ac17-1cd6-4f52-fef1-ed36e4bcd09f"
      },
      "source": [
        "cuadrados + [49, 'abc', 'xyz']  # Se puede concatenar listas"
      ],
      "execution_count": 55,
      "outputs": [
        {
          "output_type": "execute_result",
          "data": {
            "text/plain": [
              "[0, 1, 4, 9, 25, 49, 'abc', 'xyz']"
            ]
          },
          "metadata": {
            "tags": []
          },
          "execution_count": 55
        }
      ]
    },
    {
      "cell_type": "markdown",
      "metadata": {
        "id": "_CX6I2Jj3s6p",
        "colab_type": "text"
      },
      "source": [
        "**💪 Ejercicio Rapido**: cree otra lista de `cubos` que contenga los primeros tres elementos, valores cubicos. Luego cree otra lista `L` concatenando 'cuadrados' y 'cubos'. Acceda al elemento en el medio de la lista:\n"
      ]
    },
    {
      "cell_type": "code",
      "metadata": {
        "id": "s7osQdBn3s6r",
        "colab_type": "code",
        "colab": {}
      },
      "source": [
        ""
      ],
      "execution_count": 0,
      "outputs": []
    },
    {
      "cell_type": "markdown",
      "metadata": {
        "id": "hDKsIebe3s6x",
        "colab_type": "text"
      },
      "source": [
        "#### String"
      ]
    },
    {
      "cell_type": "markdown",
      "metadata": {
        "id": "X9shwdMs3s6z",
        "colab_type": "text"
      },
      "source": [
        "Un String se comporta como una lista, excepto que sus elementos son letras y números (alfanumerico)."
      ]
    },
    {
      "cell_type": "markdown",
      "metadata": {
        "id": "vx6Zkrc13s7G",
        "colab_type": "text"
      },
      "source": [
        "**ℹ️ Tip**: compared to other C-like languages, they are not made up of `char`s, and are immutable."
      ]
    },
    {
      "cell_type": "code",
      "metadata": {
        "id": "4IawOuk83s7I",
        "colab_type": "code",
        "colab": {
          "base_uri": "https://localhost:8080/",
          "height": 34
        },
        "outputId": "2c98eed7-abc8-4883-9ba4-68b42fcd7b28"
      },
      "source": [
        "nombre"
      ],
      "execution_count": 56,
      "outputs": [
        {
          "output_type": "execute_result",
          "data": {
            "text/plain": [
              "'Peter Parker'"
            ]
          },
          "metadata": {
            "tags": []
          },
          "execution_count": 56
        }
      ]
    },
    {
      "cell_type": "code",
      "metadata": {
        "id": "R8sCKh1-3s7R",
        "colab_type": "code",
        "colab": {
          "base_uri": "https://localhost:8080/",
          "height": 34
        },
        "outputId": "1dd1225a-32c5-4c6e-d88c-6e84be857160"
      },
      "source": [
        "len(nombre)"
      ],
      "execution_count": 57,
      "outputs": [
        {
          "output_type": "execute_result",
          "data": {
            "text/plain": [
              "12"
            ]
          },
          "metadata": {
            "tags": []
          },
          "execution_count": 57
        }
      ]
    },
    {
      "cell_type": "code",
      "metadata": {
        "id": "kBuFxBju3s8J",
        "colab_type": "code",
        "colab": {
          "base_uri": "https://localhost:8080/",
          "height": 34
        },
        "outputId": "447f0679-b37d-463b-be8a-782e54c7c90f"
      },
      "source": [
        "nombre[0]"
      ],
      "execution_count": 58,
      "outputs": [
        {
          "output_type": "execute_result",
          "data": {
            "text/plain": [
              "'P'"
            ]
          },
          "metadata": {
            "tags": []
          },
          "execution_count": 58
        }
      ]
    },
    {
      "cell_type": "code",
      "metadata": {
        "id": "n2peyYEO3s9L",
        "colab_type": "code",
        "colab": {
          "base_uri": "https://localhost:8080/",
          "height": 34
        },
        "outputId": "c1d9189f-8d3f-4b62-a94e-189345e52e00"
      },
      "source": [
        "nombre[1:]"
      ],
      "execution_count": 59,
      "outputs": [
        {
          "output_type": "execute_result",
          "data": {
            "text/plain": [
              "'eter Parker'"
            ]
          },
          "metadata": {
            "tags": []
          },
          "execution_count": 59
        }
      ]
    },
    {
      "cell_type": "code",
      "metadata": {
        "id": "0L6aVr2o3s97",
        "colab_type": "code",
        "colab": {
          "base_uri": "https://localhost:8080/",
          "height": 34
        },
        "outputId": "8370892f-717c-416e-dc74-bf9defb35158"
      },
      "source": [
        "'Hola ' + nombre"
      ],
      "execution_count": 60,
      "outputs": [
        {
          "output_type": "execute_result",
          "data": {
            "text/plain": [
              "'Hola Peter Parker'"
            ]
          },
          "metadata": {
            "tags": []
          },
          "execution_count": 60
        }
      ]
    },
    {
      "cell_type": "code",
      "metadata": {
        "id": "IDretwpt3s-f",
        "colab_type": "code",
        "colab": {
          "base_uri": "https://localhost:8080/",
          "height": 34
        },
        "outputId": "0aee9322-dd26-463d-a513-fa51d0a64566"
      },
      "source": [
        "'ja' * 3"
      ],
      "execution_count": 62,
      "outputs": [
        {
          "output_type": "execute_result",
          "data": {
            "text/plain": [
              "'jajaja'"
            ]
          },
          "metadata": {
            "tags": []
          },
          "execution_count": 62
        }
      ]
    },
    {
      "cell_type": "markdown",
      "metadata": {
        "id": "2qkvsrEz3s-j",
        "colab_type": "text"
      },
      "source": [
        "---"
      ]
    },
    {
      "cell_type": "markdown",
      "metadata": {
        "id": "B1OM1oAV3s-l",
        "colab_type": "text"
      },
      "source": [
        "Algunas funciones integradas útiles que funcionan en String:\n"
      ]
    },
    {
      "cell_type": "code",
      "metadata": {
        "id": "ymhn9sIH3s-p",
        "colab_type": "code",
        "colab": {
          "base_uri": "https://localhost:8080/",
          "height": 34
        },
        "outputId": "c4124deb-40f4-4783-9105-10dba20330af"
      },
      "source": [
        "nombre.split()  # Se separa por blancos (en su defecto)"
      ],
      "execution_count": 63,
      "outputs": [
        {
          "output_type": "execute_result",
          "data": {
            "text/plain": [
              "['Peter', 'Parker']"
            ]
          },
          "metadata": {
            "tags": []
          },
          "execution_count": 63
        }
      ]
    },
    {
      "cell_type": "code",
      "metadata": {
        "id": "lsf6RMwp3s-v",
        "colab_type": "code",
        "colab": {
          "base_uri": "https://localhost:8080/",
          "height": 34
        },
        "outputId": "ae131540-a0e8-49a8-a0ee-3bbdc63a786d"
      },
      "source": [
        "nombre.lower()"
      ],
      "execution_count": 64,
      "outputs": [
        {
          "output_type": "execute_result",
          "data": {
            "text/plain": [
              "'peter parker'"
            ]
          },
          "metadata": {
            "tags": []
          },
          "execution_count": 64
        }
      ]
    },
    {
      "cell_type": "code",
      "metadata": {
        "id": "ToOYwV1f3s_O",
        "colab_type": "code",
        "colab": {
          "base_uri": "https://localhost:8080/",
          "height": 34
        },
        "outputId": "62cf777e-14ad-41c8-bd4b-56a66fafa158"
      },
      "source": [
        "'-'.join(['ab', 'cd', 'yz'])"
      ],
      "execution_count": 65,
      "outputs": [
        {
          "output_type": "execute_result",
          "data": {
            "text/plain": [
              "'ab-cd-yz'"
            ]
          },
          "metadata": {
            "tags": []
          },
          "execution_count": 65
        }
      ]
    },
    {
      "cell_type": "code",
      "metadata": {
        "id": "J85F3ijE3s_W",
        "colab_type": "code",
        "colab": {
          "base_uri": "https://localhost:8080/",
          "height": 34
        },
        "outputId": "7ae26b99-1231-4b3a-e49f-2621c11dee34"
      },
      "source": [
        "f'{nombre} tiene {edad} años de edad'  # Mire la f en el inicio"
      ],
      "execution_count": 67,
      "outputs": [
        {
          "output_type": "execute_result",
          "data": {
            "text/plain": [
              "'Peter Parker tiene 21 años de edad'"
            ]
          },
          "metadata": {
            "tags": []
          },
          "execution_count": 67
        }
      ]
    },
    {
      "cell_type": "code",
      "metadata": {
        "id": "tlIc6bkx3s_c",
        "colab_type": "code",
        "colab": {
          "base_uri": "https://localhost:8080/",
          "height": 34
        },
        "outputId": "1e1d054f-1616-4bd0-eeb4-1ddbccee66c6"
      },
      "source": [
        "'abc abcd'.replace('ab', 'X')"
      ],
      "execution_count": 68,
      "outputs": [
        {
          "output_type": "execute_result",
          "data": {
            "text/plain": [
              "'Xc Xcd'"
            ]
          },
          "metadata": {
            "tags": []
          },
          "execution_count": 68
        }
      ]
    },
    {
      "cell_type": "code",
      "metadata": {
        "id": "8c4WVOVg3s_i",
        "colab_type": "code",
        "colab": {
          "base_uri": "https://localhost:8080/",
          "height": 34
        },
        "outputId": "fad7bb14-a167-456e-89b6-70252427a3f3"
      },
      "source": [
        "'  abc  '.strip()"
      ],
      "execution_count": 69,
      "outputs": [
        {
          "output_type": "execute_result",
          "data": {
            "text/plain": [
              "'abc'"
            ]
          },
          "metadata": {
            "tags": []
          },
          "execution_count": 69
        }
      ]
    },
    {
      "cell_type": "markdown",
      "metadata": {
        "id": "HWOKk_1E3s_n",
        "colab_type": "text"
      },
      "source": [
        "---"
      ]
    },
    {
      "cell_type": "markdown",
      "metadata": {
        "id": "FqNSLIy03s_q",
        "colab_type": "text"
      },
      "source": [
        "Controle cuantos decimales se visualizan:\n"
      ]
    },
    {
      "cell_type": "code",
      "metadata": {
        "id": "i6ElOv0e3s_r",
        "colab_type": "code",
        "colab": {}
      },
      "source": [
        "pi = 3.14159"
      ],
      "execution_count": 0,
      "outputs": []
    },
    {
      "cell_type": "code",
      "metadata": {
        "id": "hT2Xl0da3s_w",
        "colab_type": "code",
        "colab": {
          "base_uri": "https://localhost:8080/",
          "height": 34
        },
        "outputId": "635e26fb-6749-4e41-cc32-4a77d7c3e790"
      },
      "source": [
        "f'π is {pi}'"
      ],
      "execution_count": 71,
      "outputs": [
        {
          "output_type": "execute_result",
          "data": {
            "text/plain": [
              "'π is 3.14159'"
            ]
          },
          "metadata": {
            "tags": []
          },
          "execution_count": 71
        }
      ]
    },
    {
      "cell_type": "code",
      "metadata": {
        "id": "eVgGxCK-3s_2",
        "colab_type": "code",
        "colab": {
          "base_uri": "https://localhost:8080/",
          "height": 34
        },
        "outputId": "128c3444-002c-4e2a-eeeb-8ed5780d6d27"
      },
      "source": [
        "f'π as a whole number {pi:.0f}'  # sin decimales"
      ],
      "execution_count": 72,
      "outputs": [
        {
          "output_type": "execute_result",
          "data": {
            "text/plain": [
              "'π as a whole number 3'"
            ]
          },
          "metadata": {
            "tags": []
          },
          "execution_count": 72
        }
      ]
    },
    {
      "cell_type": "code",
      "metadata": {
        "id": "fs__fSi23s_-",
        "colab_type": "code",
        "colab": {
          "base_uri": "https://localhost:8080/",
          "height": 34
        },
        "outputId": "c1ab3ac8-dd02-453c-e131-5f462626300e"
      },
      "source": [
        "f'first decimals of π {pi:.3f}'"
      ],
      "execution_count": 73,
      "outputs": [
        {
          "output_type": "execute_result",
          "data": {
            "text/plain": [
              "'first decimals of π 3.142'"
            ]
          },
          "metadata": {
            "tags": []
          },
          "execution_count": 73
        }
      ]
    },
    {
      "cell_type": "markdown",
      "metadata": {
        "id": "s2g2gGan3tAM",
        "colab_type": "text"
      },
      "source": [
        "---"
      ]
    },
    {
      "cell_type": "markdown",
      "metadata": {
        "id": "D_RdS8ul3tAN",
        "colab_type": "text"
      },
      "source": [
        "**💪 Ejercicio Rapido**: cree un String `sabor_favorito` que contenga su sabor de helado favorito y luego otra cadena que contenga la frase\" Mis favoritos son: vainilla y 24.00 \"usando` sabor_favorito` y `favorito_número` (se muestra con dos decimales):\n",
        "\n"
      ]
    },
    {
      "cell_type": "code",
      "metadata": {
        "id": "PgwsHVFS3tAO",
        "colab_type": "code",
        "colab": {}
      },
      "source": [
        ""
      ],
      "execution_count": 0,
      "outputs": []
    },
    {
      "cell_type": "markdown",
      "metadata": {
        "id": "2INjCOOQ3tAX",
        "colab_type": "text"
      },
      "source": [
        "#### Dictionary"
      ]
    },
    {
      "cell_type": "markdown",
      "metadata": {
        "id": "OxPNOj5a3tAY",
        "colab_type": "text"
      },
      "source": [
        "Un diccionario se comporta como una lista donde las teclas no son números."
      ]
    },
    {
      "cell_type": "markdown",
      "metadata": {
        "id": "-KY9I1D73tAZ",
        "colab_type": "text"
      },
      "source": [
        "**ℹ️ Tip**: has the time complexity of a hashmap, but through some [very clever engineering](https://mail.python.org/pipermail/python-dev/2012-December/123028.html), its elements are ordered."
      ]
    },
    {
      "cell_type": "code",
      "metadata": {
        "id": "Qccoi2UV3tAn",
        "colab_type": "code",
        "colab": {}
      },
      "source": [
        "super_heroes_edades = {\n",
        "    'Ironman':   36,\n",
        "    'Hulk':      38,\n",
        "    'Thor':      'ni idea',  # no es necesario que sea homogeneo\n",
        "}"
      ],
      "execution_count": 0,
      "outputs": []
    },
    {
      "cell_type": "code",
      "metadata": {
        "id": "GaHs_e163tAt",
        "colab_type": "code",
        "colab": {
          "base_uri": "https://localhost:8080/",
          "height": 34
        },
        "outputId": "9451e39d-1ad8-40ac-939c-faf66c2d8163"
      },
      "source": [
        "len(super_heroes_edades)"
      ],
      "execution_count": 77,
      "outputs": [
        {
          "output_type": "execute_result",
          "data": {
            "text/plain": [
              "3"
            ]
          },
          "metadata": {
            "tags": []
          },
          "execution_count": 77
        }
      ]
    },
    {
      "cell_type": "code",
      "metadata": {
        "id": "e-CCzING3tAy",
        "colab_type": "code",
        "colab": {
          "base_uri": "https://localhost:8080/",
          "height": 34
        },
        "outputId": "7989c4de-333d-4982-f038-b8ba28c03ff3"
      },
      "source": [
        "super_heroes_edades['Ironman']"
      ],
      "execution_count": 78,
      "outputs": [
        {
          "output_type": "execute_result",
          "data": {
            "text/plain": [
              "36"
            ]
          },
          "metadata": {
            "tags": []
          },
          "execution_count": 78
        }
      ]
    },
    {
      "cell_type": "code",
      "metadata": {
        "id": "YTL5bsVx3tA6",
        "colab_type": "code",
        "colab": {}
      },
      "source": [
        "super_heroes_edades['Spiderman'] = 21  # se agrego spiderman"
      ],
      "execution_count": 0,
      "outputs": []
    },
    {
      "cell_type": "code",
      "metadata": {
        "id": "A_dfQ5hi3tBD",
        "colab_type": "code",
        "colab": {
          "base_uri": "https://localhost:8080/",
          "height": 34
        },
        "outputId": "4e482314-16de-465b-8dd1-c07c0dbc40e0"
      },
      "source": [
        "super_heroes_edades"
      ],
      "execution_count": 85,
      "outputs": [
        {
          "output_type": "execute_result",
          "data": {
            "text/plain": [
              "{'Hulk': 38, 'Ironman': 36, 'Spiderman': 21, 'Thor': 'ni idea'}"
            ]
          },
          "metadata": {
            "tags": []
          },
          "execution_count": 85
        }
      ]
    },
    {
      "cell_type": "code",
      "metadata": {
        "id": "nPkiQchq3tBR",
        "colab_type": "code",
        "colab": {}
      },
      "source": [
        "del super_heroes_edades['Hulk']  # remuevo a Hulk"
      ],
      "execution_count": 0,
      "outputs": []
    },
    {
      "cell_type": "code",
      "metadata": {
        "id": "gz_LJSrJ3tBV",
        "colab_type": "code",
        "colab": {
          "base_uri": "https://localhost:8080/",
          "height": 34
        },
        "outputId": "36c63429-b3ef-4770-deac-4018b53d884b"
      },
      "source": [
        "super_heroes_edades"
      ],
      "execution_count": 88,
      "outputs": [
        {
          "output_type": "execute_result",
          "data": {
            "text/plain": [
              "{'Ironman': 36, 'Spiderman': 21, 'Thor': 'ni idea'}"
            ]
          },
          "metadata": {
            "tags": []
          },
          "execution_count": 88
        }
      ]
    },
    {
      "cell_type": "code",
      "metadata": {
        "id": "vrcd1j7K3tBb",
        "colab_type": "code",
        "colab": {
          "base_uri": "https://localhost:8080/",
          "height": 34
        },
        "outputId": "65e5df98-e5a0-493d-e060-4cc7dd595dbe"
      },
      "source": [
        "'Deadpool' in super_heroes_edades  # verifico si existe"
      ],
      "execution_count": 90,
      "outputs": [
        {
          "output_type": "execute_result",
          "data": {
            "text/plain": [
              "False"
            ]
          },
          "metadata": {
            "tags": []
          },
          "execution_count": 90
        }
      ]
    },
    {
      "cell_type": "code",
      "metadata": {
        "id": "dfJ11bZc3tBs",
        "colab_type": "code",
        "colab": {
          "base_uri": "https://localhost:8080/",
          "height": 34
        },
        "outputId": "79ecc432-d688-44b7-f23b-4b1d80f4a1b7"
      },
      "source": [
        "'Thor' in super_heroes_edades"
      ],
      "execution_count": 91,
      "outputs": [
        {
          "output_type": "execute_result",
          "data": {
            "text/plain": [
              "True"
            ]
          },
          "metadata": {
            "tags": []
          },
          "execution_count": 91
        }
      ]
    },
    {
      "cell_type": "code",
      "metadata": {
        "id": "s8VDNe8M3tB0",
        "colab_type": "code",
        "colab": {
          "base_uri": "https://localhost:8080/",
          "height": 34
        },
        "outputId": "a752b405-cf3e-44ad-86b4-f58fd55bcf39"
      },
      "source": [
        "21 in super_heroes_edades"
      ],
      "execution_count": 92,
      "outputs": [
        {
          "output_type": "execute_result",
          "data": {
            "text/plain": [
              "False"
            ]
          },
          "metadata": {
            "tags": []
          },
          "execution_count": 92
        }
      ]
    },
    {
      "cell_type": "code",
      "metadata": {
        "id": "I_GaW2N3jT4A",
        "colab_type": "code",
        "colab": {
          "base_uri": "https://localhost:8080/",
          "height": 34
        },
        "outputId": "7d844ac7-1e7f-4ba7-96b2-e3cf42367928"
      },
      "source": [
        "'ni idea' in super_heroes_edades"
      ],
      "execution_count": 94,
      "outputs": [
        {
          "output_type": "execute_result",
          "data": {
            "text/plain": [
              "False"
            ]
          },
          "metadata": {
            "tags": []
          },
          "execution_count": 94
        }
      ]
    },
    {
      "cell_type": "markdown",
      "metadata": {
        "id": "gwl8xurs3tB7",
        "colab_type": "text"
      },
      "source": [
        "**💪 Ejercicio Rapido**: cree un diccionario que contenga las palabras `\" cardinal\"` y `\"gold\"` como claves y su traducción en ingles. Agregue 7 palabras más propuestas por usted.\n"
      ]
    },
    {
      "cell_type": "code",
      "metadata": {
        "id": "VNGBpfkb3tCG",
        "colab_type": "code",
        "colab": {}
      },
      "source": [
        ""
      ],
      "execution_count": 0,
      "outputs": []
    },
    {
      "cell_type": "markdown",
      "metadata": {
        "id": "EEG8oATR3tCM",
        "colab_type": "text"
      },
      "source": [
        "---"
      ]
    },
    {
      "cell_type": "markdown",
      "metadata": {
        "id": "cHu9-xMI3tCN",
        "colab_type": "text"
      },
      "source": [
        "#### Otras Estructuras"
      ]
    },
    {
      "cell_type": "markdown",
      "metadata": {
        "id": "i8HsTdnM3tCO",
        "colab_type": "text"
      },
      "source": [
        "Las tuplas son similares a las listas, pero están destinadas a datos heterogéneos."
      ]
    },
    {
      "cell_type": "code",
      "metadata": {
        "id": "o9iVweWb3tCQ",
        "colab_type": "code",
        "colab": {}
      },
      "source": [
        "info = ('Los Angeles', 21, 'vainilla')  # -información sobre una persona"
      ],
      "execution_count": 0,
      "outputs": []
    },
    {
      "cell_type": "code",
      "metadata": {
        "id": "JZKDpSNQ3tCU",
        "colab_type": "code",
        "colab": {
          "base_uri": "https://localhost:8080/",
          "height": 34
        },
        "outputId": "7ab31968-bd58-4892-f41e-48a5480173ae"
      },
      "source": [
        "info[0]"
      ],
      "execution_count": 97,
      "outputs": [
        {
          "output_type": "execute_result",
          "data": {
            "text/plain": [
              "'Los Angeles'"
            ]
          },
          "metadata": {
            "tags": []
          },
          "execution_count": 97
        }
      ]
    },
    {
      "cell_type": "markdown",
      "metadata": {
        "id": "SNi4BtLi3tCY",
        "colab_type": "text"
      },
      "source": [
        "---"
      ]
    },
    {
      "cell_type": "markdown",
      "metadata": {
        "id": "w9QmhwVv3tDH",
        "colab_type": "text"
      },
      "source": [
        "#### Iteraciones o procesos en ciclos"
      ]
    },
    {
      "cell_type": "markdown",
      "metadata": {
        "id": "mq8dRUFV3tDH",
        "colab_type": "text"
      },
      "source": [
        "Pasar por cada elemento de una colección se llama interacción."
      ]
    },
    {
      "cell_type": "code",
      "metadata": {
        "id": "zdq0vJB-3tDJ",
        "colab_type": "code",
        "colab": {}
      },
      "source": [
        "cuadrados"
      ],
      "execution_count": 0,
      "outputs": []
    },
    {
      "cell_type": "code",
      "metadata": {
        "id": "37GvGFeS3tDM",
        "colab_type": "code",
        "colab": {
          "base_uri": "https://localhost:8080/",
          "height": 105
        },
        "outputId": "214c7b8c-9bca-4bcb-917e-d646044e31f0"
      },
      "source": [
        "# Iterando en una lista\n",
        "for sq in cuadrados:\n",
        "    print(sq)"
      ],
      "execution_count": 98,
      "outputs": [
        {
          "output_type": "stream",
          "text": [
            "0\n",
            "1\n",
            "4\n",
            "9\n",
            "25\n"
          ],
          "name": "stdout"
        }
      ]
    },
    {
      "cell_type": "code",
      "metadata": {
        "id": "sO6lcOAh3tDO",
        "colab_type": "code",
        "colab": {
          "base_uri": "https://localhost:8080/",
          "height": 70
        },
        "outputId": "ccc6f08d-a4a7-4938-caf5-86ff8056965e"
      },
      "source": [
        "for key in super_heroes_edades:\n",
        "    print(key)"
      ],
      "execution_count": 99,
      "outputs": [
        {
          "output_type": "stream",
          "text": [
            "Ironman\n",
            "Thor\n",
            "Spiderman\n"
          ],
          "name": "stdout"
        }
      ]
    },
    {
      "cell_type": "code",
      "metadata": {
        "id": "1AS8FJIK3tDQ",
        "colab_type": "code",
        "colab": {
          "base_uri": "https://localhost:8080/",
          "height": 70
        },
        "outputId": "e3c6f087-4d41-4c02-ff4b-fa96522fdec2"
      },
      "source": [
        "for val in super_heroes_edades.values():\n",
        "    print(val)"
      ],
      "execution_count": 100,
      "outputs": [
        {
          "output_type": "stream",
          "text": [
            "36\n",
            "ni idea\n",
            "21\n"
          ],
          "name": "stdout"
        }
      ]
    },
    {
      "cell_type": "code",
      "metadata": {
        "id": "OBKPu_xq3tDV",
        "colab_type": "code",
        "colab": {
          "base_uri": "https://localhost:8080/",
          "height": 70
        },
        "outputId": "cb11976e-c674-4704-c71d-28eb1e042371"
      },
      "source": [
        "# Iterando en un diccionario\n",
        "for name, age in super_heroes_edades.items():\n",
        "    print(name, age)"
      ],
      "execution_count": 101,
      "outputs": [
        {
          "output_type": "stream",
          "text": [
            "Ironman 36\n",
            "Thor ni idea\n",
            "Spiderman 21\n"
          ],
          "name": "stdout"
        }
      ]
    },
    {
      "cell_type": "markdown",
      "metadata": {
        "id": "nOvWoh6f3tDY",
        "colab_type": "text"
      },
      "source": [
        "---"
      ]
    },
    {
      "cell_type": "markdown",
      "metadata": {
        "id": "zMXA9TaF3tDZ",
        "colab_type": "text"
      },
      "source": [
        "Generación de números secuenciales"
      ]
    },
    {
      "cell_type": "code",
      "metadata": {
        "id": "wGhwX9st3tDZ",
        "colab_type": "code",
        "colab": {
          "base_uri": "https://localhost:8080/",
          "height": 194
        },
        "outputId": "52176a46-176c-4ea2-dcd1-a1189f8179f6"
      },
      "source": [
        "for i in range(10):\n",
        "    print(i)"
      ],
      "execution_count": 102,
      "outputs": [
        {
          "output_type": "stream",
          "text": [
            "0\n",
            "1\n",
            "2\n",
            "3\n",
            "4\n",
            "5\n",
            "6\n",
            "7\n",
            "8\n",
            "9\n"
          ],
          "name": "stdout"
        }
      ]
    },
    {
      "cell_type": "markdown",
      "metadata": {
        "id": "pAuXCtU23tDb",
        "colab_type": "text"
      },
      "source": [
        "Opcional se puede utilizar la función rango para tener un inicio , fin y saltos en los argumentos:"
      ]
    },
    {
      "cell_type": "code",
      "metadata": {
        "id": "1oxfENbF3tDc",
        "colab_type": "code",
        "colab": {}
      },
      "source": [
        "for i in range(4, 12, 2):  # inicio 4, fin 12, y cada paso es de a dos    print(i)"
      ],
      "execution_count": 0,
      "outputs": []
    },
    {
      "cell_type": "markdown",
      "metadata": {
        "id": "N52BqYpD3tDi",
        "colab_type": "text"
      },
      "source": [
        "---"
      ]
    },
    {
      "cell_type": "markdown",
      "metadata": {
        "id": "NjZ0ailG3tDk",
        "colab_type": "text"
      },
      "source": [
        "Iteraciones:"
      ]
    },
    {
      "cell_type": "code",
      "metadata": {
        "id": "FqCiI1503tDl",
        "colab_type": "code",
        "colab": {}
      },
      "source": [
        "colores = ['rojo', 'verde', 'azul', 'negro']"
      ],
      "execution_count": 0,
      "outputs": []
    },
    {
      "cell_type": "code",
      "metadata": {
        "id": "sPWisY0p3tDp",
        "colab_type": "code",
        "colab": {
          "base_uri": "https://localhost:8080/",
          "height": 87
        },
        "outputId": "4c007525-7f7f-40e0-9ab8-940a912a75f6"
      },
      "source": [
        "for col in colores:\n",
        "    print(col)"
      ],
      "execution_count": 104,
      "outputs": [
        {
          "output_type": "stream",
          "text": [
            "rojo\n",
            "verde\n",
            "azul\n",
            "negro\n"
          ],
          "name": "stdout"
        }
      ]
    },
    {
      "cell_type": "code",
      "metadata": {
        "id": "XUiavUNk3tDx",
        "colab_type": "code",
        "colab": {
          "base_uri": "https://localhost:8080/",
          "height": 87
        },
        "outputId": "27cdc5b4-235b-4f31-9100-217e431af650"
      },
      "source": [
        "for col in reversed(colores):  # en orden inverso\n",
        "    print(col)"
      ],
      "execution_count": 105,
      "outputs": [
        {
          "output_type": "stream",
          "text": [
            "negro\n",
            "azul\n",
            "verde\n",
            "rojo\n"
          ],
          "name": "stdout"
        }
      ]
    },
    {
      "cell_type": "code",
      "metadata": {
        "id": "m515vu-V3tD4",
        "colab_type": "code",
        "colab": {
          "base_uri": "https://localhost:8080/",
          "height": 87
        },
        "outputId": "e6bde354-8784-4fde-b003-116a69224e05"
      },
      "source": [
        "for i, col in enumerate(colores):  # enumerarlos\n",
        "    print(i, col)"
      ],
      "execution_count": 106,
      "outputs": [
        {
          "output_type": "stream",
          "text": [
            "0 rojo\n",
            "1 verde\n",
            "2 azul\n",
            "3 negro\n"
          ],
          "name": "stdout"
        }
      ]
    },
    {
      "cell_type": "code",
      "metadata": {
        "id": "ackqkqSk3tD-",
        "colab_type": "code",
        "colab": {
          "base_uri": "https://localhost:8080/",
          "height": 87
        },
        "outputId": "b84caf6b-e12d-4bd3-ba22-2a5fdf78a231"
      },
      "source": [
        "for i, col in reversed(list(enumerate(colores))):\n",
        "    print(i, col)"
      ],
      "execution_count": 107,
      "outputs": [
        {
          "output_type": "stream",
          "text": [
            "3 negro\n",
            "2 azul\n",
            "1 verde\n",
            "0 rojo\n"
          ],
          "name": "stdout"
        }
      ]
    },
    {
      "cell_type": "code",
      "metadata": {
        "id": "_5ezFaul3tEC",
        "colab_type": "code",
        "colab": {
          "base_uri": "https://localhost:8080/",
          "height": 87
        },
        "outputId": "cff08c47-a8ee-4b04-efde-ccdbd7ebfc22"
      },
      "source": [
        "for i, col in enumerate(reversed(colores)):\n",
        "    print(i, col)"
      ],
      "execution_count": 108,
      "outputs": [
        {
          "output_type": "stream",
          "text": [
            "0 negro\n",
            "1 azul\n",
            "2 verde\n",
            "3 rojo\n"
          ],
          "name": "stdout"
        }
      ]
    },
    {
      "cell_type": "markdown",
      "metadata": {
        "id": "akzeCpK33tEP",
        "colab_type": "text"
      },
      "source": [
        "---"
      ]
    },
    {
      "cell_type": "code",
      "metadata": {
        "id": "ueZR3-ia3tEQ",
        "colab_type": "code",
        "colab": {
          "base_uri": "https://localhost:8080/",
          "height": 212
        },
        "outputId": "d612ed03-9271-4cf7-d97e-b67c97abd353"
      },
      "source": [
        "# `while` aunque no es usado amenudo es mejor conocerlo\n",
        "k = 0\n",
        "while k <= 10:\n",
        "    print(k)\n",
        "    k += 1  # significa que incrementa de a 1\n",
        "    "
      ],
      "execution_count": 112,
      "outputs": [
        {
          "output_type": "stream",
          "text": [
            "0\n",
            "1\n",
            "2\n",
            "3\n",
            "4\n",
            "5\n",
            "6\n",
            "7\n",
            "8\n",
            "9\n",
            "10\n"
          ],
          "name": "stdout"
        }
      ]
    },
    {
      "cell_type": "markdown",
      "metadata": {
        "id": "OzeNd_ac3tEX",
        "colab_type": "text"
      },
      "source": [
        "**💪 Ejercicio Rapido**: imprima, uno por uno, los números de `100` a` 110`, al cuadrado:"
      ]
    },
    {
      "cell_type": "code",
      "metadata": {
        "id": "Vj5r1Qk63tEY",
        "colab_type": "code",
        "colab": {}
      },
      "source": [
        ""
      ],
      "execution_count": 0,
      "outputs": []
    },
    {
      "cell_type": "markdown",
      "metadata": {
        "id": "aCdRL8QK3tEd",
        "colab_type": "text"
      },
      "source": [
        "---"
      ]
    },
    {
      "cell_type": "markdown",
      "metadata": {
        "id": "ZLnLrUuO3tFb",
        "colab_type": "text"
      },
      "source": [
        "### Funciones"
      ]
    },
    {
      "cell_type": "markdown",
      "metadata": {
        "id": "kdRZfuDV3tFb",
        "colab_type": "text"
      },
      "source": [
        "Una _función_ es un bloque de código que solo se ejecuta cuando se llama. Los datos se pueden proporcionar como entrada y los resultados se pueden devolver."
      ]
    },
    {
      "cell_type": "code",
      "metadata": {
        "id": "9zOLDy213tFc",
        "colab_type": "code",
        "colab": {}
      },
      "source": [
        "def double(n):\n",
        "    #Toma un argumento y lo duplica\n",
        "    return n * 2"
      ],
      "execution_count": 0,
      "outputs": []
    },
    {
      "cell_type": "code",
      "metadata": {
        "id": "-rB-fMZ1rUGV",
        "colab_type": "code",
        "colab": {
          "base_uri": "https://localhost:8080/",
          "height": 34
        },
        "outputId": "630df209-f596-4417-e541-b531d76ba77c"
      },
      "source": [
        "double(5)"
      ],
      "execution_count": 116,
      "outputs": [
        {
          "output_type": "execute_result",
          "data": {
            "text/plain": [
              "10"
            ]
          },
          "metadata": {
            "tags": []
          },
          "execution_count": 116
        }
      ]
    },
    {
      "cell_type": "markdown",
      "metadata": {
        "id": "f7kii-zH3tFk",
        "colab_type": "text"
      },
      "source": [
        "La función soporta diferentes tipos de datos"
      ]
    },
    {
      "cell_type": "code",
      "metadata": {
        "id": "ZAWyxJK93tFn",
        "colab_type": "code",
        "colab": {
          "base_uri": "https://localhost:8080/",
          "height": 34
        },
        "outputId": "9122cd16-a5d7-44fb-80f4-e9e004ea29df"
      },
      "source": [
        "double(1.2)"
      ],
      "execution_count": 120,
      "outputs": [
        {
          "output_type": "execute_result",
          "data": {
            "text/plain": [
              "2.4"
            ]
          },
          "metadata": {
            "tags": []
          },
          "execution_count": 120
        }
      ]
    },
    {
      "cell_type": "code",
      "metadata": {
        "id": "8PA1-Xhj3tFt",
        "colab_type": "code",
        "colab": {
          "base_uri": "https://localhost:8080/",
          "height": 34
        },
        "outputId": "e76c182e-7969-42ed-b4e9-fb64bb2289e7"
      },
      "source": [
        "double('ha')"
      ],
      "execution_count": 121,
      "outputs": [
        {
          "output_type": "execute_result",
          "data": {
            "text/plain": [
              "'haha'"
            ]
          },
          "metadata": {
            "tags": []
          },
          "execution_count": 121
        }
      ]
    },
    {
      "cell_type": "code",
      "metadata": {
        "id": "kpsMMXTS3tF0",
        "colab_type": "code",
        "colab": {
          "base_uri": "https://localhost:8080/",
          "height": 34
        },
        "outputId": "4b869d6b-282b-433f-dac9-29ba21e2712a"
      },
      "source": [
        "double([1, 2, 3])"
      ],
      "execution_count": 122,
      "outputs": [
        {
          "output_type": "execute_result",
          "data": {
            "text/plain": [
              "[1, 2, 3, 1, 2, 3]"
            ]
          },
          "metadata": {
            "tags": []
          },
          "execution_count": 122
        }
      ]
    },
    {
      "cell_type": "markdown",
      "metadata": {
        "id": "ESm3sWOO3tF3",
        "colab_type": "text"
      },
      "source": [
        "---"
      ]
    },
    {
      "cell_type": "markdown",
      "metadata": {
        "id": "h3wcqB8H3tF6",
        "colab_type": "text"
      },
      "source": [
        "Las funciones pueden tomar cualquier objeto como argumentos, incluso otras funciones.\n",
        "\n",
        "Una de estas funciones especiales es `map`, que toma dos argumentos, una función y una colección, y aplica la función a cada elemento de la colección."
      ]
    },
    {
      "cell_type": "markdown",
      "metadata": {
        "id": "KqLQVPP23tGb",
        "colab_type": "text"
      },
      "source": [
        "Una función se puede definir con un valor por defecto en sus argumentos"
      ]
    },
    {
      "cell_type": "code",
      "metadata": {
        "id": "6PVt2toR3tGd",
        "colab_type": "code",
        "colab": {}
      },
      "source": [
        "def repetir(s, times=3):\n",
        "    # by default, it repeats 3 times\n",
        "    return s * times"
      ],
      "execution_count": 0,
      "outputs": []
    },
    {
      "cell_type": "code",
      "metadata": {
        "id": "nRqgbzZ-3tGg",
        "colab_type": "code",
        "colab": {
          "base_uri": "https://localhost:8080/",
          "height": 34
        },
        "outputId": "2d430376-b982-4e41-84c9-79f6be5d1441"
      },
      "source": [
        "repetir('ha ')"
      ],
      "execution_count": 130,
      "outputs": [
        {
          "output_type": "execute_result",
          "data": {
            "text/plain": [
              "'ha ha ha '"
            ]
          },
          "metadata": {
            "tags": []
          },
          "execution_count": 130
        }
      ]
    },
    {
      "cell_type": "code",
      "metadata": {
        "id": "YZL49klt3tGk",
        "colab_type": "code",
        "colab": {
          "base_uri": "https://localhost:8080/",
          "height": 34
        },
        "outputId": "296c25cb-10db-4677-d6b3-ba98b4700b70"
      },
      "source": [
        "repetir('ha ', 5)"
      ],
      "execution_count": 131,
      "outputs": [
        {
          "output_type": "execute_result",
          "data": {
            "text/plain": [
              "'ha ha ha ha ha '"
            ]
          },
          "metadata": {
            "tags": []
          },
          "execution_count": 131
        }
      ]
    },
    {
      "cell_type": "code",
      "metadata": {
        "id": "gIau4N0Y3tGp",
        "colab_type": "code",
        "colab": {
          "base_uri": "https://localhost:8080/",
          "height": 34
        },
        "outputId": "f012d66e-06ec-4790-81d2-eaba1925b81b"
      },
      "source": [
        "repetir('ha ', times=5)  # Se puede invocar al argumento"
      ],
      "execution_count": 132,
      "outputs": [
        {
          "output_type": "execute_result",
          "data": {
            "text/plain": [
              "'ha ha ha ha ha '"
            ]
          },
          "metadata": {
            "tags": []
          },
          "execution_count": 132
        }
      ]
    },
    {
      "cell_type": "markdown",
      "metadata": {
        "id": "rflI23Th3tHr",
        "colab_type": "text"
      },
      "source": [
        "**💪 Exercicio Rapido**: crea una función `GRITAR` que toma una String.\n",
        "Devuelve el String en mayúsculas y agrega un signo de exclamación al final."
      ]
    },
    {
      "cell_type": "code",
      "metadata": {
        "id": "H_bPIJYW3tHs",
        "colab_type": "code",
        "colab": {}
      },
      "source": [
        ""
      ],
      "execution_count": 0,
      "outputs": []
    },
    {
      "cell_type": "markdown",
      "metadata": {
        "id": "uLyXmHbO3tHx",
        "colab_type": "text"
      },
      "source": [
        "### Condicionales"
      ]
    },
    {
      "cell_type": "markdown",
      "metadata": {
        "id": "_ktEoXR23tH3",
        "colab_type": "text"
      },
      "source": [
        "Verificamos tres condiciones en la ejecución:"
      ]
    },
    {
      "cell_type": "code",
      "metadata": {
        "id": "KU8mc_-h3tH3",
        "colab_type": "code",
        "colab": {
          "base_uri": "https://localhost:8080/",
          "height": 34
        },
        "outputId": "b873e808-5de2-4079-c42f-b5371e2d0ca4"
      },
      "source": [
        "x = 13\n",
        "if x % 3 == 0:\n",
        "    print('divisible por 3')\n",
        "elif x % 5 == 0:\n",
        "    print('divisible por 5')\n",
        "else:\n",
        "    print('divisible por ninguno')"
      ],
      "execution_count": 135,
      "outputs": [
        {
          "output_type": "stream",
          "text": [
            "divisible por ninguno\n"
          ],
          "name": "stdout"
        }
      ]
    },
    {
      "cell_type": "markdown",
      "metadata": {
        "id": "6okYnJi-3tIF",
        "colab_type": "text"
      },
      "source": [
        "---"
      ]
    },
    {
      "cell_type": "markdown",
      "metadata": {
        "id": "JlDvtr4S3tIG",
        "colab_type": "text"
      },
      "source": [
        "Algunos valores son verdaderos, algunos son falsos. Por lo tanto, es fundamental verificar la lista vacía escribiendo `if l` en lugar de` if l is nto [] `:"
      ]
    },
    {
      "cell_type": "code",
      "metadata": {
        "id": "sYpgypUE3tIH",
        "colab_type": "code",
        "colab": {
          "base_uri": "https://localhost:8080/",
          "height": 34
        },
        "outputId": "43769f49-8f45-4985-b834-9dfd72784f2c"
      },
      "source": [
        "if True:\n",
        "    print('verdadero')"
      ],
      "execution_count": 136,
      "outputs": [
        {
          "output_type": "stream",
          "text": [
            "verdadero\n"
          ],
          "name": "stdout"
        }
      ]
    },
    {
      "cell_type": "code",
      "metadata": {
        "id": "9k3npzbj3tIN",
        "colab_type": "code",
        "colab": {
          "base_uri": "https://localhost:8080/",
          "height": 34
        },
        "outputId": "9adee7c0-4cca-4b45-c3eb-3acacd0a8996"
      },
      "source": [
        "if 1:\n",
        "    print('verdadero')"
      ],
      "execution_count": 137,
      "outputs": [
        {
          "output_type": "stream",
          "text": [
            "verdadero\n"
          ],
          "name": "stdout"
        }
      ]
    },
    {
      "cell_type": "code",
      "metadata": {
        "id": "QoGPtzPD3tIV",
        "colab_type": "code",
        "colab": {}
      },
      "source": [
        "if 0:\n",
        "    print('verdadero')"
      ],
      "execution_count": 0,
      "outputs": []
    },
    {
      "cell_type": "code",
      "metadata": {
        "id": "NDmyNVUI3tIl",
        "colab_type": "code",
        "colab": {
          "base_uri": "https://localhost:8080/",
          "height": 34
        },
        "outputId": "bc526452-ebbc-4679-e9e2-b991b8f53cd4"
      },
      "source": [
        "if 1.0:\n",
        "    print('verdadero')"
      ],
      "execution_count": 139,
      "outputs": [
        {
          "output_type": "stream",
          "text": [
            "verdadero\n"
          ],
          "name": "stdout"
        }
      ]
    },
    {
      "cell_type": "code",
      "metadata": {
        "id": "CPw8fWGg3tIo",
        "colab_type": "code",
        "colab": {}
      },
      "source": [
        "if []:\n",
        "    print('verdadero')"
      ],
      "execution_count": 0,
      "outputs": []
    },
    {
      "cell_type": "code",
      "metadata": {
        "id": "hIZoKWHR3tIs",
        "colab_type": "code",
        "colab": {}
      },
      "source": [
        "if '':\n",
        "    print('truthy')"
      ],
      "execution_count": 0,
      "outputs": []
    },
    {
      "cell_type": "code",
      "metadata": {
        "id": "aftsGEUR3tIy",
        "colab_type": "code",
        "colab": {}
      },
      "source": [
        "if None:\n",
        "    print('verdadero')"
      ],
      "execution_count": 0,
      "outputs": []
    },
    {
      "cell_type": "markdown",
      "metadata": {
        "id": "UCmiLMPl3tI3",
        "colab_type": "text"
      },
      "source": [
        "---"
      ]
    },
    {
      "cell_type": "markdown",
      "metadata": {
        "id": "70AHG1gt3tI5",
        "colab_type": "text"
      },
      "source": [
        "`break` sale de la iteración:\n"
      ]
    },
    {
      "cell_type": "code",
      "metadata": {
        "id": "6Th8xmV03tI6",
        "colab_type": "code",
        "colab": {}
      },
      "source": [
        "for x in range(4):\n",
        "    print(x)"
      ],
      "execution_count": 0,
      "outputs": []
    },
    {
      "cell_type": "code",
      "metadata": {
        "id": "C52qAfAX3tI9",
        "colab_type": "code",
        "colab": {}
      },
      "source": [
        "for x in range(4):\n",
        "    if x == 2:\n",
        "        break\n",
        "    print(x)"
      ],
      "execution_count": 0,
      "outputs": []
    },
    {
      "cell_type": "markdown",
      "metadata": {
        "id": "ax3-KLYe3tJG",
        "colab_type": "text"
      },
      "source": [
        "Al igual que con el mapeo, hay varias formas de crear una lista basada en los elementos de otro, mientras se aplican algunas condiciones."
      ]
    },
    {
      "cell_type": "code",
      "metadata": {
        "id": "CumcaomW3tJH",
        "colab_type": "code",
        "colab": {}
      },
      "source": [
        "peq_cuadrados = []\n",
        "for sq in cuadrados:\n",
        "    if sq < 5:\n",
        "        peq_cuadrados.append(sq)"
      ],
      "execution_count": 0,
      "outputs": []
    },
    {
      "cell_type": "code",
      "metadata": {
        "id": "n0NA9w-G3tJV",
        "colab_type": "code",
        "colab": {
          "base_uri": "https://localhost:8080/",
          "height": 34
        },
        "outputId": "8dbc14a7-ba13-41bb-99a9-683d7cf749b0"
      },
      "source": [
        "peq_cuadrados"
      ],
      "execution_count": 144,
      "outputs": [
        {
          "output_type": "execute_result",
          "data": {
            "text/plain": [
              "[0, 1, 4]"
            ]
          },
          "metadata": {
            "tags": []
          },
          "execution_count": 144
        }
      ]
    },
    {
      "cell_type": "markdown",
      "metadata": {
        "id": "Tc7V9Ipp3tJg",
        "colab_type": "text"
      },
      "source": [
        "**ℹ️ Tip**: an `else` can also be attached to a `for` or `while` loop:"
      ]
    },
    {
      "cell_type": "code",
      "metadata": {
        "id": "4tCM3c-s3tJl",
        "colab_type": "code",
        "colab": {
          "base_uri": "https://localhost:8080/",
          "height": 34
        },
        "outputId": "9dc9b786-3403-4e7c-a973-404e4d28c955"
      },
      "source": [
        "target = 10  # Verifica que no está en la lista\n",
        "\n",
        "for x in [2, 5, 1, 4, 2]:\n",
        "    if x == target:\n",
        "        break\n",
        "\n",
        "else:  # no break\n",
        "    print('target no esta en la lista')"
      ],
      "execution_count": 145,
      "outputs": [
        {
          "output_type": "stream",
          "text": [
            "target not in the list\n"
          ],
          "name": "stdout"
        }
      ]
    },
    {
      "cell_type": "markdown",
      "metadata": {
        "id": "b15DexSx3tJo",
        "colab_type": "text"
      },
      "source": [
        "---"
      ]
    },
    {
      "cell_type": "markdown",
      "metadata": {
        "id": "ErMF7ngZ3tJp",
        "colab_type": "text"
      },
      "source": [
        "**💪 Exercicio Rapido**: imprime los números del `1` al` 25`, pero para cada múltiplo de 3 imprime `fizz` y para cada múltiplo de 5 imprime` buzz`"
      ]
    },
    {
      "cell_type": "markdown",
      "metadata": {
        "id": "mbQyl9xl3tJt",
        "colab_type": "text"
      },
      "source": [
        "---"
      ]
    },
    {
      "cell_type": "markdown",
      "metadata": {
        "id": "6vpyK7Zv3tJ0",
        "colab_type": "text"
      },
      "source": [
        "**ℹ️ Tip**: Forma de identar en Python:\n",
        "```python\n",
        "if check_1:\n",
        "    # Paso 1\n",
        "    if check_2:\n",
        "        # Paso 2\n",
        "        return all_good\n",
        "    else:\n",
        "        return failed_check_2\n",
        "else:\n",
        "    return failed_check_1\n"
      ]
    },
    {
      "cell_type": "markdown",
      "metadata": {
        "id": "FCiv6RBf3tNx",
        "colab_type": "text"
      },
      "source": [
        "## Siguiente capitulo\n",
        "\n",
        "Uso de librerias, graficos y carga de archivos!"
      ]
    }
  ]
}