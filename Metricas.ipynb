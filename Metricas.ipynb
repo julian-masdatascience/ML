{
  "nbformat": 4,
  "nbformat_minor": 0,
  "metadata": {
    "colab": {
      "name": "Metricas.ipynb",
      "provenance": [],
      "authorship_tag": "ABX9TyMv7JB1C0h1QjnFPZ4rcpFk",
      "include_colab_link": true
    },
    "kernelspec": {
      "name": "python3",
      "display_name": "Python 3"
    }
  },
  "cells": [
    {
      "cell_type": "markdown",
      "metadata": {
        "id": "view-in-github",
        "colab_type": "text"
      },
      "source": [
        "<a href=\"https://colab.research.google.com/github/julian-masdatascience/ML/blob/master/Metricas.ipynb\" target=\"_parent\"><img src=\"https://colab.research.google.com/assets/colab-badge.svg\" alt=\"Open In Colab\"/></a>"
      ]
    },
    {
      "cell_type": "markdown",
      "metadata": {
        "id": "UwjKzNIMCrYT",
        "colab_type": "text"
      },
      "source": [
        "## Metrics from the confusion matrix Precision "
      ]
    },
    {
      "cell_type": "markdown",
      "metadata": {
        "id": "eCpW05eiDAJh",
        "colab_type": "text"
      },
      "source": [
        "Metrics for classification\n",
        "In Chapter 1, you evaluated the performance of your k-NN classifier based on its accuracy. However, as Andy discussed, accuracy is not always an informative metric. In this exercise, you will dive more deeply into evaluating the performance of binary classifiers by computing a confusion matrix and generating a classification report.\n",
        "\n",
        "You may have noticed in the video that the classification report consisted of three rows, and an additional support column. The support gives the number of samples of the true response that lie in that class - so in the video example, the support was the number of Republicans or Democrats in the test set on which the classification report was computed. The precision, recall, and f1-score columns, then, gave the respective metrics for that particular class.\n",
        "\n",
        "Here, you'll work with the PIMA Indians dataset obtained from the UCI Machine Learning Repository. The goal is to predict whether or not a given female patient will contract diabetes based on features such as BMI, age, and number of pregnancies. Therefore, it is a binary classification problem. A target value of 0 indicates that the patient does not have diabetes, while a value of 1 indicates that the patient does have diabetes. As in Chapters 1 and 2, the dataset has been preprocessed to deal with missing values.\n",
        "\n",
        "The dataset has been loaded into a DataFrame df and the feature and target variable arrays X and y have been created for you. In addition, sklearn.model_selection.train_test_split and sklearn.neighbors.KNeighborsClassifier have already been imported.\n",
        "\n",
        "Your job is to train a k-NN classifier to the data and evaluate its performance by generating a confusion matrix and classification report."
      ]
    },
    {
      "cell_type": "markdown",
      "metadata": {
        "id": "xrGbvLptDClB",
        "colab_type": "text"
      },
      "source": [
        "Instructions\n",
        "100 XP\n",
        "Import classification_report and confusion_matrix from sklearn.metrics.\n",
        "Create training and testing sets with 40% of the data used for testing. Use a random state of 42.\n",
        "Instantiate a k-NN classifier with 6 neighbors, fit it to the training data, and predict the labels of the test set.\n",
        "Compute and print the confusion matrix and classification report using the confusion_matrix() and classification_report() functions."
      ]
    },
    {
      "cell_type": "code",
      "metadata": {
        "id": "-FRm2RtDDF4N",
        "colab_type": "code",
        "colab": {}
      },
      "source": [
        "# Import necessary modules\n",
        "____\n",
        "____\n",
        "\n",
        "# Create training and test set\n",
        "X_train, X_test, y_train, y_test = ____\n",
        "\n",
        "# Instantiate a k-NN classifier: knn\n",
        "knn = ____\n",
        "\n",
        "# Fit the classifier to the training data\n",
        "____\n",
        "\n",
        "# Predict the labels of the test data: y_pred\n",
        "y_pred = ____\n",
        "\n",
        "# Generate the confusion matrix and classification report\n",
        "print(____(____, ____))\n",
        "print(____(____, ____))\n"
      ],
      "execution_count": 0,
      "outputs": []
    },
    {
      "cell_type": "code",
      "metadata": {
        "id": "5lQuhxxgCuUO",
        "colab_type": "code",
        "colab": {}
      },
      "source": [
        "# Import necessary modules\n",
        "from  sklearn.metrics import confusion_matrix\n",
        "from  sklearn.metrics import classification_report\n",
        "from  sklearn.metric\n",
        "\n",
        "\n",
        "# Create training and test set\n",
        "X_train, X_test, y_train, y_test = train_test_split(X,y, test_size=0.4, random_state=42)\n",
        "\n",
        "# Instantiate a k-NN classifier: knn\n",
        "knn = KNeighborsClassifier(n_neighbors=6)  \n",
        "\n",
        "# Fit the classifier to the training data\n",
        "knn.fit(X_train,y_train)\n",
        "\n",
        "# Predict the labels of the test data: y_pred\n",
        "y_pred = knn.predict(X_test)\n",
        "\n",
        "# Generate the confusion matrix and classification report\n",
        "print(confusion_matrix(y_test, y_pred))\n",
        "print(classification_report(y_test, y_pred))\n",
        "\n"
      ],
      "execution_count": 0,
      "outputs": []
    },
    {
      "cell_type": "code",
      "metadata": {
        "id": "brE0zXMiFLvc",
        "colab_type": "code",
        "colab": {}
      },
      "source": [
        "\n"
      ],
      "execution_count": 0,
      "outputs": []
    },
    {
      "cell_type": "code",
      "metadata": {
        "id": "cORTWw9zLLuS",
        "colab_type": "code",
        "colab": {}
      },
      "source": [
        "import sklearn.datasets  as ds\n",
        "import pandas as pd\n",
        "from sklearn.model_selection import train_test_split   \n",
        "from sklearn.neighbors import KNeighborsClassifier \n",
        "# Import necessary modules\n",
        "from  sklearn.metrics import confusion_matrix\n",
        "from  sklearn.metrics import classification_report\n",
        "\n",
        "diabetes = ds.load_diabetes()\n",
        "y = diabetes.target\n",
        "X = diabetes.data\n",
        "# Create training and test set\n",
        "X_train, X_test, y_train, y_test = train_test_split(X,y, test_size=0.4, random_state=42)\n",
        "\n",
        "# Instantiate a k-NN classifier: knn\n",
        "knn = KNeighborsClassifier(n_neighbors=6)  \n",
        "\n",
        "# Fit the classifier to the training data\n",
        "knn.fit(X_train,y_train)\n",
        "\n",
        "# Predict the labels of the test data: y_pred\n",
        "y_pred = knn.predict(X_test)\n",
        "\n",
        "# Generate the confusion matrix and classification report\n",
        "print(confusion_matrix(y_test, y_pred))\n",
        "print(classification_report(y_test, y_pred))"
      ],
      "execution_count": 0,
      "outputs": []
    },
    {
      "cell_type": "markdown",
      "metadata": {
        "id": "iz_VH6V4S9Kf",
        "colab_type": "text"
      },
      "source": [
        "## Logistic regression and the ROC curve Segundo modelo\n",
        "\n",
        "Building a logistic regression model\n",
        "Time to build your first logistic regression model! As Hugo showed in the video, scikit-learn makes it very easy to try different models, since the Train-Test-Split/Instantiate/Fit/Predict paradigm applies to all classifiers and regressors - which are known in scikit-learn as 'estimators'. You'll see this now for yourself as you train a logistic regression model on exactly the same data as in the previous exercise. Will it outperform k-NN? There's only one way to find out!\n",
        "\n",
        "The feature and target variable arrays X and y have been pre-loaded, and  train_test_split has been imported for you from sklearn.model_selection.\n",
        "\n",
        "Instructions\n",
        "Import:\n",
        "LogisticRegression from sklearn.linear_model. confusion_matrix and classification_report from sklearn.metrics. Create training and test sets with 40% (or 0.4) of the data used for testing. Use a random state of 42. This has been done for you.Instantiate a LogisticRegression classifier called logreg.\n",
        "Fit the classifier to the training data and predict the labels of the test set.\n",
        "Compute and print the confusion matrix and classification report. This has been done for you, so hit 'Submit Answer' to see how logistic regression compares to k-NN!\n"
      ]
    },
    {
      "cell_type": "code",
      "metadata": {
        "id": "AXH6Oo8FUwR_",
        "colab_type": "code",
        "colab": {}
      },
      "source": [
        "# Import the necessary modules\n",
        "____\n",
        "from sklearn.metrics import ____, ____\n",
        "\n",
        "# Create training and test sets\n",
        "X_train, X_test, y_train, y_test = train_test_split(X, y, test_size = 0.4, random_state=42)\n",
        "\n",
        "# Create the classifier: logreg\n",
        "logreg = ____\n",
        "\n",
        "# Fit the classifier to the training data\n",
        "____\n",
        "\n",
        "# Predict the labels of the test set: y_pred\n",
        "y_pred = ____\n",
        "\n",
        "# Compute and print the confusion matrix and classification report\n",
        "print(confusion_matrix(y_test, y_pred))\n",
        "print(classification_report(y_test, y_pred))"
      ],
      "execution_count": 0,
      "outputs": []
    },
    {
      "cell_type": "code",
      "metadata": {
        "id": "gxlAwMcHvcDG",
        "colab_type": "code",
        "colab": {}
      },
      "source": [
        "# Import the necessary modules\n",
        "from sklearn.linear_model import LogisticRegression\n",
        "from sklearn.metrics import classification_report, confusion_matrix\n",
        "\n",
        "# Create training and test sets\n",
        "X_train, X_test, y_train, y_test = train_test_split(X, y, test_size = 0.4, random_state=42)\n",
        "\n",
        "# Create the classifier: logreg\n",
        "logreg = LogisticRegression()\n",
        "\n",
        "# Fit the classifier to the training data\n",
        "logreg.fit(X_train,y_train )\n",
        "\n",
        "# Predict the labels of the test set: y_pred\n",
        "y_pred = logreg.predict(X_test)\n",
        "\n",
        "# Compute and print the confusion matrix and classification report\n",
        "print(confusion_matrix(y_test, y_pred))\n",
        "print(classification_report(y_test, y_pred))\n"
      ],
      "execution_count": 0,
      "outputs": []
    },
    {
      "cell_type": "markdown",
      "metadata": {
        "id": "jq7D2J4FsITN",
        "colab_type": "text"
      },
      "source": [
        "Plotting an ROC curve\n",
        "Great job in the previous exercise - you now have a new addition to your toolbox of classifiers!\n",
        "\n",
        "Classification reports and confusion matrices are great methods to quantitatively evaluate model performance, while ROC curves provide a way to visually evaluate models. As Hugo demonstrated in the video, most classifiers in scikit-learn have a .predict_proba() method which returns the probability of a given sample being in a particular class. Having built a logistic regression model, you'll now evaluate its performance by plotting an ROC curve. In doing so, you'll make use of the .predict_proba() method and become familiar with its functionality.\n",
        "\n",
        "Here, you'll continue working with the PIMA Indians diabetes dataset. The classifier has already been fit to the training data and is available as logreg.\n",
        "\n",
        "Instructions\n",
        "100 XP\n",
        "Import roc_curve from sklearn.metrics.\n",
        "Using the logreg classifier, which has been fit to the training data, compute the predicted probabilities of the labels of the test set X_test. Save the result as y_pred_prob.\n",
        "Use the roc_curve() function with y_test and y_pred_prob and unpack the result into the variables fpr, tpr, and thresholds.\n",
        "Plot the ROC curve with fpr on the x-axis and tpr on the y-axis."
      ]
    },
    {
      "cell_type": "code",
      "metadata": {
        "id": "YHszun6jsKOP",
        "colab_type": "code",
        "colab": {}
      },
      "source": [
        "# Import necessary modules\n",
        "from sklearn.metrics import roc_curve\n",
        "\n",
        "# Compute predicted probabilities: y_pred_prob\n",
        "y_pred_prob = logreg.predict_proba(X_test)[:,1] \n",
        "\n",
        "# Generate ROC curve values: fpr, tpr, thresholds\n",
        "fpr, tpr, thresholds = roc_curve(y_test, y_pred_prob)\n",
        " \n",
        "# Plot ROC curve\n",
        "plt.plot([0, 1], [0, 1], 'k--')\n",
        "plt.plot(fpr, tpr)\n",
        "plt.xlabel('False Positive Rate')\n",
        "plt.ylabel('True Positive Rate')\n",
        "plt.title('ROC Curve')\n",
        "plt.show()"
      ],
      "execution_count": 0,
      "outputs": []
    },
    {
      "cell_type": "markdown",
      "metadata": {
        "id": "Vimzt2FNsNJn",
        "colab_type": "text"
      },
      "source": [
        "Precision-recall Curve\n",
        "When looking at your ROC curve, you may have noticed that the y-axis (True positive rate) is also known as recall. Indeed, in addition to the ROC curve, there are other ways to visually evaluate model performance. One such way is the precision-recall curve, which is generated by plotting the precision and recall for different thresholds. As a reminder, precision and recall are defined as:\n",
        "\n",
        "Precision=TPTP+FP\n",
        "Recall=TPTP+FN\n",
        "On the right, a precision-recall curve has been generated for the diabetes dataset. The classification report and confusion matrix are displayed in the IPython Shell.\n",
        "\n",
        "Study the precision-recall curve and then consider the statements given below. Choose the one statement that is not true. Note that here, the class is positive (1) if the individual has diabetes.\n",
        "\n",
        "Instructions\n",
        "50 XP\n",
        "Possible Answers\n",
        "A recall of 1 corresponds to a classifier with a low threshold in which all females who contract diabetes were correctly classified as such, at the expense of many misclassifications of those who did not have diabetes.\n",
        "Precision is undefined for a classifier which makes no positive predictions, that is, classifies everyone as not having diabetes.\n",
        "When the threshold is very close to 1, precision is also 1, because the classifier is absolutely certain about its predictions.\n",
        "**Precision and recall take true negatives into consideration.**"
      ]
    },
    {
      "cell_type": "markdown",
      "metadata": {
        "id": "hlCo5dO4sQIA",
        "colab_type": "text"
      },
      "source": [
        "AUC computation\n",
        "Say you have a binary classifier that in fact is just randomly making guesses. It would be correct approximately 50% of the time, and the resulting ROC curve would be a diagonal line in which the True Positive Rate and False Positive Rate are always equal. The Area under this ROC curve would be 0.5. This is one way in which the AUC, which Hugo discussed in the video, is an informative metric to evaluate a model. If the AUC is greater than 0.5, the model is better than random guessing. Always a good sign!\n",
        "\n",
        "In this exercise, you'll calculate AUC scores using the roc_auc_score() function from sklearn.metrics as well as by performing cross-validation on the diabetes dataset.\n",
        "\n",
        "X and y, along with training and test sets X_train, X_test, y_train, y_test, have been pre-loaded for you, and a logistic regression classifier logreg has been fit to the training data.\n",
        "\n",
        "Instructions\n",
        "100 XP\n",
        "Import roc_auc_score from sklearn.metrics and cross_val_score from sklearn.model_selection.\n",
        "Using the logreg classifier, which has been fit to the training data, compute the predicted probabilities of the labels of the test set X_test. Save the result as y_pred_prob.\n",
        "Compute the AUC score using the roc_auc_score() function, the test set labels y_test, and the predicted probabilities y_pred_prob.\n",
        "Compute the AUC scores by performing 5-fold cross-validation. Use the cross_val_score() function and specify the scoring parameter to be 'roc_auc'.\n"
      ]
    },
    {
      "cell_type": "code",
      "metadata": {
        "id": "9Zy7xs5ksTkE",
        "colab_type": "code",
        "colab": {}
      },
      "source": [
        "# Import necessary modules\n",
        "from sklearn.metrics import roc_auc_score\n",
        "from sklearn.model_selection import cross_val_score\n",
        "\n",
        "# Compute predicted probabilities: y_pred_prob\n",
        "y_pred_prob = logreg.predict_proba(X_test)[:,1] \n",
        "\n",
        "# Compute and print AUC score\n",
        "print(\"AUC: {}\".format(roc_auc_score(y_test, y_pred_prob)))\n",
        "\n",
        "# Compute cross-validated AUC scores: cv_auc\n",
        "cv_auc = cross_val_score(logreg,X,y,cv=5,scoring='roc_auc')\n",
        "\n",
        "# Print list of AUC scores\n",
        "print(\"AUC scores computed using 5-fold cross-validation: {}\".format(cv_auc))\n"
      ],
      "execution_count": 0,
      "outputs": []
    },
    {
      "cell_type": "markdown",
      "metadata": {
        "id": "LlbDkl8KsUUO",
        "colab_type": "text"
      },
      "source": [
        "Hyperparameter tuning with GridSearchCV\n",
        "Hugo demonstrated how to tune the n_neighbors parameter of the KNeighborsClassifier() using GridSearchCV on the voting dataset. You will now practice this yourself, but by using logistic regression on the diabetes dataset instead!\n",
        "\n",
        "Like the alpha parameter of lasso and ridge regularization that you saw earlier, logistic regression also has a regularization parameter: C. C controls the inverse of the regularization strength, and this is what you will tune in this exercise. A large C can lead to an overfit model, while a small C can lead to an underfit model.\n",
        "\n",
        "The hyperparameter space for C has been setup for you. Your job is to use GridSearchCV and logistic regression to find the optimal C in this hyperparameter space. The feature array is available as X and target variable array is available as y.\n",
        "\n",
        "You may be wondering why you aren't asked to split the data into training and test sets. Good observation! Here, we want you to focus on the process of setting up the hyperparameter grid and performing grid-search cross-validation. In practice, you will indeed want to hold out a portion of your data for evaluation purposes, and you will learn all about this in the next video!\n",
        "\n",
        "Instructions\n",
        "100 XP\n",
        "Instructions\n",
        "100 XP\n",
        "Import LogisticRegression from sklearn.linear_model and GridSearchCV from sklearn.model_selection.\n",
        "Setup the hyperparameter grid by using c_space as the grid of values to tune C over.\n",
        "Instantiate a logistic regression classifier called logreg.\n",
        "Use GridSearchCV with 5-fold cross-validation to tune C:\n",
        "Inside GridSearchCV(), specify the classifier, parameter grid, and number of folds to use.\n",
        "Use the .fit() method on the GridSearchCV object to fit it to the data X and y.\n",
        "Print the best parameter and best score obtained from GridSearchCV by accessing the best_params_ and best_score_ attributes of logreg_cv.\n",
        "Take Hint (-30 XP)"
      ]
    },
    {
      "cell_type": "code",
      "metadata": {
        "id": "YmKQyrUvsXA7",
        "colab_type": "code",
        "colab": {}
      },
      "source": [
        "# Import necessary modules\n",
        "from sklearn.linear_model import LogisticRegression\n",
        "from sklearn.model_selection import GridSearchCV\n",
        "\n",
        "# Setup the hyperparameter grid\n",
        "c_space = np.logspace(-5, 8, 15)\n",
        "param_grid = {'C': c_space}\n",
        "\n",
        "# Instantiate a logistic regression classifier: logreg\n",
        "logreg = LogisticRegression()\n",
        "\n",
        "# Instantiate the GridSearchCV object: logreg_cv\n",
        "logreg_cv = GridSearchCV(logreg, param_grid, cv=5)\n",
        "\n",
        "# Fit it to the data\n",
        "logreg_cv.fit(X,y)\n",
        "\n",
        "# Print the tuned parameters and score\n",
        "print(\"Tuned Logistic Regression Parameters: {}\".format(logreg_cv.best_params_)) \n",
        "print(\"Best score is {}\".format(logreg_cv.best_score_))\n"
      ],
      "execution_count": 0,
      "outputs": []
    },
    {
      "cell_type": "markdown",
      "metadata": {
        "id": "RvKwp15FsYVH",
        "colab_type": "text"
      },
      "source": [
        "Hyperparameter tuning with RandomizedSearchCV\n",
        "GridSearchCV can be computationally expensive, especially if you are searching over a large hyperparameter space and dealing with multiple hyperparameters. A solution to this is to use RandomizedSearchCV, in which not all hyperparameter values are tried out. Instead, a fixed number of hyperparameter settings is sampled from specified probability distributions. You'll practice using RandomizedSearchCV in this exercise and see how this works.\n",
        "\n",
        "Here, you'll also be introduced to a new model: the Decision Tree. Don't worry about the specifics of how this model works. Just like k-NN, linear regression, and logistic regression, decision trees in scikit-learn have .fit() and .predict() methods that you can use in exactly the same way as before. Decision trees have many parameters that can be tuned, such as max_features, max_depth, and min_samples_leaf: This makes it an ideal use case for RandomizedSearchCV.\n",
        "\n",
        "As before, the feature array X and target variable array y of the diabetes dataset have been pre-loaded. The hyperparameter settings have been specified for you. Your goal is to use RandomizedSearchCV to find the optimal hyperparameters. Go for it!\n",
        "\n",
        "Instructions\n",
        "100 XP\n",
        "Instructions\n",
        "100 XP\n",
        "Import DecisionTreeClassifier from sklearn.tree and RandomizedSearchCV from sklearn.model_selection.\n",
        "Specify the parameters and distributions to sample from. This has been done for you.\n",
        "Instantiate a DecisionTreeClassifier.\n",
        "Use RandomizedSearchCV with 5-fold cross-validation to tune the hyperparameters:\n",
        "Inside RandomizedSearchCV(), specify the classifier, parameter distribution, and number of folds to use.\n",
        "Use the .fit() method on the RandomizedSearchCV object to fit it to the data X and y.\n",
        "Print the best parameter and best score obtained from RandomizedSearchCV by accessing the best_params_ and best_score_ attributes of tree_cv.\n",
        "Take Hint (-30 XP)"
      ]
    },
    {
      "cell_type": "code",
      "metadata": {
        "id": "2PUz6GSlsazb",
        "colab_type": "code",
        "colab": {}
      },
      "source": [
        "# Import necessary modules\n",
        "from scipy.stats import randint\n",
        "from sklearn.tree import DecisionTreeClassifier\n",
        "from sklearn.model_selection import RandomizedSearchCV\n",
        " \n",
        "# Setup the parameters and distributions to sample from: param_dist\n",
        "param_dist = {\"max_depth\": [3, None],\n",
        "              \"max_features\": randint(1, 9),\n",
        "              \"min_samples_leaf\": randint(1, 9),\n",
        "              \"criterion\": [\"gini\", \"entropy\"]}\n",
        "\n",
        "# Instantiate a Decision Tree classifier: tree\n",
        "tree = DecisionTreeClassifier()\n",
        "\n",
        "# Instantiate the RandomizedSearchCV object: tree_cv\n",
        "tree_cv = RandomizedSearchCV(tree, param_dist, cv=5)\n",
        "\n",
        "# Fit it to the data\n",
        "tree_cv.fit(X,y)\n",
        "\n",
        "# Print the tuned parameters and score\n",
        "print(\"Tuned Decision Tree Parameters: {}\".format(tree_cv.best_params_))\n",
        "print(\"Best score is {}\".format(tree_cv.best_score_))\n"
      ],
      "execution_count": 0,
      "outputs": []
    },
    {
      "cell_type": "markdown",
      "metadata": {
        "id": "z4AuUhgzsb-r",
        "colab_type": "text"
      },
      "source": [
        "Hold-out set reasoning\n",
        "For which of the following reasons would you want to use a hold-out set for the very end?\n",
        "\n",
        "Answer the question\n",
        "50 XP\n",
        "Possible Answers\n",
        "**You want to maximize the amount of training data used.**\n",
        "press\n",
        "1\n",
        "You want to be absolutely certain about your model's ability to generalize to unseen data.\n",
        "press\n",
        "2\n",
        "You want to tune the hyperparameters of your model.\n",
        "press\n"
      ]
    },
    {
      "cell_type": "markdown",
      "metadata": {
        "id": "AGCyDQ6BsjJY",
        "colab_type": "text"
      },
      "source": [
        "Hold-out set in practice I: Classification\n",
        "You will now practice evaluating a model with tuned hyperparameters on a hold-out set. The feature array and target variable array from the diabetes dataset have been pre-loaded as X and y.\n",
        "\n",
        "In addition to C, logistic regression has a 'penalty' hyperparameter which specifies whether to use 'l1' or 'l2' regularization. Your job in this exercise is to create a hold-out set, tune the 'C' and 'penalty' hyperparameters of a logistic regression classifier using GridSearchCV on the training set.\n",
        "\n",
        "Instructions\n",
        "100 XP\n",
        "Create the hyperparameter grid:\n",
        "Use the array c_space as the grid of values for 'C'.\n",
        "For 'penalty', specify a list consisting of 'l1' and 'l2'.\n",
        "Instantiate a logistic regression classifier.\n",
        "Create training and test sets. Use a test_size of 0.4 and random_state of 42. In practice, the test set here will function as the hold-out set.\n",
        "Tune the hyperparameters on the training set using GridSearchCV with 5-folds. This involves first instantiating the GridSearchCV object with the correct parameters and then fitting it to the training data.\n",
        "Print the best parameter and best score obtained from GridSearchCV by accessing the best_params_ and best_score_ attributes of logreg_cv.\n"
      ]
    },
    {
      "cell_type": "code",
      "metadata": {
        "id": "W9x5oOgFslEc",
        "colab_type": "code",
        "colab": {}
      },
      "source": [
        "# Import necessary modules\n",
        "from sklearn.model_selection import train_test_split\n",
        "from sklearn.linear_model import LogisticRegression\n",
        "from sklearn.model_selection import GridSearchCV\n",
        "\n",
        "# Create the hyperparameter grid\n",
        "c_space = np.logspace(-5, 8, 15)\n",
        "param_grid = {'C': c_space, 'penalty': ['l1', 'l2']}\n",
        "\n",
        "# Instantiate the logistic regression classifier: logreg\n",
        "logreg = LogisticRegression()\n",
        "\n",
        "# Create train and test sets\n",
        "X_train, X_test, y_train, y_test = train_test_split(X,y, test_size=0.4, random_state=42)\n",
        "\n",
        "# Instantiate the GridSearchCV object: logreg_cv\n",
        "logreg_cv = GridSearchCV(logreg,param_grid,cv=5)\n",
        "\n",
        "# Fit it to the training data\n",
        "logreg_cv.fit(X_train,y_train)\n",
        "\n",
        "# Print the optimal parameters and best score\n",
        "print(\"Tuned Logistic Regression Parameter: {}\".format(logreg_cv.best_params_))\n",
        "print(\"Tuned Logistic Regression Accuracy: {}\".format(logreg_cv.best_score_))\n"
      ],
      "execution_count": 0,
      "outputs": []
    },
    {
      "cell_type": "markdown",
      "metadata": {
        "id": "OZHkdkhjsr5P",
        "colab_type": "text"
      },
      "source": [
        "Hold-out set in practice II: Regression\n",
        "Remember lasso and ridge regression from the previous chapter? Lasso used the L1 penalty to regularize, while ridge used the L2 penalty. There is another type of regularized regression known as the elastic net. In elastic net regularization, the penalty term is a linear combination of the L1 and L2 penalties:\n",
        "\n",
        "a∗L1+b∗L2\n",
        "In scikit-learn, this term is represented by the 'l1_ratio' parameter: An 'l1_ratio' of 1 corresponds to an L1 penalty, and anything lower is a combination of L1 and L2.\n",
        "\n",
        "In this exercise, you will GridSearchCV to tune the 'l1_ratio' of an elastic net model trained on the Gapminder data. As in the previous exercise, use a hold-out set to evaluate your model's performance.\n",
        "\n",
        "Instructions\n",
        "100 XP\n",
        "Instructions\n",
        "100 XP\n",
        "Import the following modules:\n",
        "ElasticNet from sklearn.linear_model.\n",
        "mean_squared_error from sklearn.metrics.\n",
        "GridSearchCV and train_test_split from sklearn.model_selection.\n",
        "Create training and test sets, with 40% of the data used for the test set. Use a random state of 42.\n",
        "Specify the hyperparameter grid for 'l1_ratio' using l1_space as the grid of values to search over.\n",
        "Instantiate the ElasticNet regressor.\n",
        "Use GridSearchCV with 5-fold cross-validation to tune 'l1_ratio' on the training data X_train and y_train. This involves first instantiating the GridSearchCV object with the correct parameters and then fitting it to the training data.\n",
        "Predict on the test set and compute the R2 and mean squared error.\n",
        "Take Hint (-30 XP)"
      ]
    },
    {
      "cell_type": "code",
      "metadata": {
        "id": "b44vQ6hgst_G",
        "colab_type": "code",
        "colab": {}
      },
      "source": [
        "# Import necessary modules\n",
        "from sklearn.linear_model import ElasticNet\n",
        "from sklearn.metrics import mean_squared_error\n",
        "from sklearn.model_selection import GridSearchCV , train_test_split\n",
        "\n",
        "# Create train and test sets\n",
        "X_train, X_test, y_train, y_test = train_test_split(X,y, test_size=0.4, random_state=42) \n",
        "\n",
        "# Create the hyperparameter grid\n",
        "l1_space = np.linspace(0, 1, 30)\n",
        "param_grid = {'l1_ratio': l1_space}\n",
        "\n",
        "# Instantiate the ElasticNet regressor: elastic_net\n",
        "elastic_net = ElasticNet()\n",
        "\n",
        "# Setup the GridSearchCV object: gm_cv\n",
        "gm_cv = GridSearchCV(elastic_net, param_grid, cv=5)\n",
        "# Fit it to the training data\n",
        "gm_cv.fit(X_train , y_train)\n",
        "\n",
        "# Predict on the test set and compute metrics\n",
        "y_pred = gm_cv.predict(X_test)\n",
        "r2 = gm_cv.score(X_test, y_test)\n",
        "mse = mean_squared_error(y_test, y_pred)\n",
        "print(\"Tuned ElasticNet l1 ratio: {}\".format(gm_cv.best_params_))\n",
        "print(\"Tuned ElasticNet R squared: {}\".format(r2))\n",
        "print(\"Tuned ElasticNet MSE: {}\".format(mse))\n",
        "\n"
      ],
      "execution_count": 0,
      "outputs": []
    },
    {
      "cell_type": "markdown",
      "metadata": {
        "id": "2WMCYz8ssurL",
        "colab_type": "text"
      },
      "source": [
        ""
      ]
    }
  ]
}