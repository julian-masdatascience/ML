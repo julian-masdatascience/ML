{
  "nbformat": 4,
  "nbformat_minor": 0,
  "metadata": {
    "colab": {
      "name": "Metricas.ipynb",
      "provenance": [],
      "authorship_tag": "ABX9TyOYDRHSQvL81htlVtFAcFuA",
      "include_colab_link": true
    },
    "kernelspec": {
      "name": "python3",
      "display_name": "Python 3"
    }
  },
  "cells": [
    {
      "cell_type": "markdown",
      "metadata": {
        "id": "view-in-github",
        "colab_type": "text"
      },
      "source": [
        "<a href=\"https://colab.research.google.com/github/julian-masdatascience/ML/blob/master/Metricas.ipynb\" target=\"_parent\"><img src=\"https://colab.research.google.com/assets/colab-badge.svg\" alt=\"Open In Colab\"/></a>"
      ]
    },
    {
      "cell_type": "markdown",
      "metadata": {
        "id": "UwjKzNIMCrYT",
        "colab_type": "text"
      },
      "source": [
        "## Metrics from the confusion matrix Precision "
      ]
    },
    {
      "cell_type": "markdown",
      "metadata": {
        "id": "eCpW05eiDAJh",
        "colab_type": "text"
      },
      "source": [
        "Metrics for classification\n",
        "In Chapter 1, you evaluated the performance of your k-NN classifier based on its accuracy. However, as Andy discussed, accuracy is not always an informative metric. In this exercise, you will dive more deeply into evaluating the performance of binary classifiers by computing a confusion matrix and generating a classification report.\n",
        "\n",
        "You may have noticed in the video that the classification report consisted of three rows, and an additional support column. The support gives the number of samples of the true response that lie in that class - so in the video example, the support was the number of Republicans or Democrats in the test set on which the classification report was computed. The precision, recall, and f1-score columns, then, gave the respective metrics for that particular class.\n",
        "\n",
        "Here, you'll work with the PIMA Indians dataset obtained from the UCI Machine Learning Repository. The goal is to predict whether or not a given female patient will contract diabetes based on features such as BMI, age, and number of pregnancies. Therefore, it is a binary classification problem. A target value of 0 indicates that the patient does not have diabetes, while a value of 1 indicates that the patient does have diabetes. As in Chapters 1 and 2, the dataset has been preprocessed to deal with missing values.\n",
        "\n",
        "The dataset has been loaded into a DataFrame df and the feature and target variable arrays X and y have been created for you. In addition, sklearn.model_selection.train_test_split and sklearn.neighbors.KNeighborsClassifier have already been imported.\n",
        "\n",
        "Your job is to train a k-NN classifier to the data and evaluate its performance by generating a confusion matrix and classification report."
      ]
    },
    {
      "cell_type": "markdown",
      "metadata": {
        "id": "xrGbvLptDClB",
        "colab_type": "text"
      },
      "source": [
        "Instructions\n",
        "100 XP\n",
        "Import classification_report and confusion_matrix from sklearn.metrics.\n",
        "Create training and testing sets with 40% of the data used for testing. Use a random state of 42.\n",
        "Instantiate a k-NN classifier with 6 neighbors, fit it to the training data, and predict the labels of the test set.\n",
        "Compute and print the confusion matrix and classification report using the confusion_matrix() and classification_report() functions."
      ]
    },
    {
      "cell_type": "code",
      "metadata": {
        "id": "-FRm2RtDDF4N",
        "colab_type": "code",
        "colab": {}
      },
      "source": [
        "# Import necessary modules\n",
        "____\n",
        "____\n",
        "\n",
        "# Create training and test set\n",
        "X_train, X_test, y_train, y_test = ____\n",
        "\n",
        "# Instantiate a k-NN classifier: knn\n",
        "knn = ____\n",
        "\n",
        "# Fit the classifier to the training data\n",
        "____\n",
        "\n",
        "# Predict the labels of the test data: y_pred\n",
        "y_pred = ____\n",
        "\n",
        "# Generate the confusion matrix and classification report\n",
        "print(____(____, ____))\n",
        "print(____(____, ____))\n"
      ],
      "execution_count": 0,
      "outputs": []
    },
    {
      "cell_type": "code",
      "metadata": {
        "id": "5lQuhxxgCuUO",
        "colab_type": "code",
        "colab": {}
      },
      "source": [
        "# Import necessary modules\n",
        "from  sklearn.metrics import confusion_matrix\n",
        "from  sklearn.metrics import classification_report\n",
        "from  sklearn.metric\n",
        "\n",
        "\n",
        "# Create training and test set\n",
        "X_train, X_test, y_train, y_test = train_test_split(X,y, test_size=0.4, random_state=42)\n",
        "\n",
        "# Instantiate a k-NN classifier: knn\n",
        "knn = KNeighborsClassifier(n_neighbors=6)  \n",
        "\n",
        "# Fit the classifier to the training data\n",
        "knn.fit(X_train,y_train)\n",
        "\n",
        "# Predict the labels of the test data: y_pred\n",
        "y_pred = knn.predict(X_test)\n",
        "\n",
        "# Generate the confusion matrix and classification report\n",
        "print(confusion_matrix(y_test, y_pred))\n",
        "print(classification_report(y_test, y_pred))\n",
        "\n"
      ],
      "execution_count": 0,
      "outputs": []
    },
    {
      "cell_type": "code",
      "metadata": {
        "id": "brE0zXMiFLvc",
        "colab_type": "code",
        "colab": {}
      },
      "source": [
        "\n"
      ],
      "execution_count": 0,
      "outputs": []
    },
    {
      "cell_type": "code",
      "metadata": {
        "id": "cORTWw9zLLuS",
        "colab_type": "code",
        "colab": {}
      },
      "source": [
        "import sklearn.datasets  as ds\n",
        "import pandas as pd\n",
        "from sklearn.model_selection import train_test_split   \n",
        "from sklearn.neighbors import KNeighborsClassifier \n",
        "# Import necessary modules\n",
        "from  sklearn.metrics import confusion_matrix\n",
        "from  sklearn.metrics import classification_report\n",
        "\n",
        "diabetes = ds.load_diabetes()\n",
        "y = diabetes.target\n",
        "X = diabetes.data\n",
        "# Create training and test set\n",
        "X_train, X_test, y_train, y_test = train_test_split(X,y, test_size=0.4, random_state=42)\n",
        "\n",
        "# Instantiate a k-NN classifier: knn\n",
        "knn = KNeighborsClassifier(n_neighbors=6)  \n",
        "\n",
        "# Fit the classifier to the training data\n",
        "knn.fit(X_train,y_train)\n",
        "\n",
        "# Predict the labels of the test data: y_pred\n",
        "y_pred = knn.predict(X_test)\n",
        "\n",
        "# Generate the confusion matrix and classification report\n",
        "print(confusion_matrix(y_test, y_pred))\n",
        "print(classification_report(y_test, y_pred))"
      ],
      "execution_count": 0,
      "outputs": []
    },
    {
      "cell_type": "markdown",
      "metadata": {
        "id": "iz_VH6V4S9Kf",
        "colab_type": "text"
      },
      "source": [
        "## Logistic regression and the ROC curve Segundo modelo\n",
        "\n",
        "Building a logistic regression model\n",
        "Time to build your first logistic regression model! As Hugo showed in the video, scikit-learn makes it very easy to try different models, since the Train-Test-Split/Instantiate/Fit/Predict paradigm applies to all classifiers and regressors - which are known in scikit-learn as 'estimators'. You'll see this now for yourself as you train a logistic regression model on exactly the same data as in the previous exercise. Will it outperform k-NN? There's only one way to find out!\n",
        "\n",
        "The feature and target variable arrays X and y have been pre-loaded, and  train_test_split has been imported for you from sklearn.model_selection.\n",
        "\n",
        "Instructions\n",
        "Import:\n",
        "LogisticRegression from sklearn.linear_model. confusion_matrix and classification_report from sklearn.metrics. Create training and test sets with 40% (or 0.4) of the data used for testing. Use a random state of 42. This has been done for you.Instantiate a LogisticRegression classifier called logreg.\n",
        "Fit the classifier to the training data and predict the labels of the test set.\n",
        "Compute and print the confusion matrix and classification report. This has been done for you, so hit 'Submit Answer' to see how logistic regression compares to k-NN!\n"
      ]
    },
    {
      "cell_type": "code",
      "metadata": {
        "id": "AXH6Oo8FUwR_",
        "colab_type": "code",
        "colab": {}
      },
      "source": [
        "# Import the necessary modules\n",
        "____\n",
        "from sklearn.metrics import ____, ____\n",
        "\n",
        "# Create training and test sets\n",
        "X_train, X_test, y_train, y_test = train_test_split(X, y, test_size = 0.4, random_state=42)\n",
        "\n",
        "# Create the classifier: logreg\n",
        "logreg = ____\n",
        "\n",
        "# Fit the classifier to the training data\n",
        "____\n",
        "\n",
        "# Predict the labels of the test set: y_pred\n",
        "y_pred = ____\n",
        "\n",
        "# Compute and print the confusion matrix and classification report\n",
        "print(confusion_matrix(y_test, y_pred))\n",
        "print(classification_report(y_test, y_pred))"
      ],
      "execution_count": 0,
      "outputs": []
    },
    {
      "cell_type": "code",
      "metadata": {
        "id": "gxlAwMcHvcDG",
        "colab_type": "code",
        "colab": {}
      },
      "source": [
        ""
      ],
      "execution_count": 0,
      "outputs": []
    }
  ]
}