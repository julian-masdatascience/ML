{
  "nbformat": 4,
  "nbformat_minor": 0,
  "metadata": {
    "colab": {
      "name": "Te damos la bienvenida a Colaboratory",
      "provenance": [],
      "collapsed_sections": [],
      "include_colab_link": true
    },
    "kernelspec": {
      "display_name": "Python 3",
      "name": "python3"
    }
  },
  "cells": [
    {
      "cell_type": "markdown",
      "metadata": {
        "id": "view-in-github",
        "colab_type": "text"
      },
      "source": [
        "<a href=\"https://colab.research.google.com/github/julian-masdatascience/ML/blob/master/Ejemplo-Orientado%20a%20objetos.ipynb\" target=\"_parent\"><img src=\"https://colab.research.google.com/assets/colab-badge.svg\" alt=\"Open In Colab\"/></a>"
      ]
    },
    {
      "cell_type": "code",
      "metadata": {
        "id": "rfsjomcwqcsU"
      },
      "source": [
        "import http.client\r\n",
        "\r\n",
        "import json\r\n"
      ],
      "execution_count": 1,
      "outputs": []
    },
    {
      "cell_type": "code",
      "metadata": {
        "id": "T5PjgR1tqe2t"
      },
      "source": [
        "class  TMDBAPIUtils:\r\n",
        "\r\n",
        " \r\n",
        "\r\n",
        "    # Do not modify\r\n",
        "\r\n",
        "    def __init__(self, api_key:str):\r\n",
        "\r\n",
        "        self.api_key=api_key\r\n",
        "\r\n",
        "    def get_movie_cast(self, movie_id:str, limit:int=None, exclude_ids:list=None) -> list:\r\n",
        "\r\n",
        "        conn = http.client.HTTPConnection(\"api.themoviedb.org\")\r\n",
        "\r\n",
        "        conn.request(\"GET\", \"https://api.themoviedb.org/3/movie/{}/credits?api_key=150b7959369d616b4f01ab00fa0541cd&language=en-US\".format(movie_id))\r\n",
        "\r\n",
        "        r1 = conn.getresponse()\r\n",
        "\r\n",
        "        #print(r1.status, r1.reason)\r\n",
        "\r\n",
        " \r\n",
        "\r\n",
        "        raw_data = r1.read()\r\n",
        "\r\n",
        "        encoding = r1.info().get_content_charset('utf8')  # JSON default\r\n",
        "\r\n",
        "        data = json.loads(raw_data.decode(encoding))\r\n",
        "\r\n",
        "        actors=[]\r\n",
        "\r\n",
        "        #print(data)\r\n",
        "\r\n",
        "        print(len(data['cast']))\r\n",
        "\r\n",
        "        if len(data['cast'])<limit:\r\n",
        "\r\n",
        "            limit=len(data['cast'])\r\n",
        "\r\n",
        "        for i in range(limit):\r\n",
        "\r\n",
        "            #print('id',data['cast'][i]['order'])\r\n",
        "\r\n",
        "            if data['cast'][i]['id'] not in exclude_ids:\r\n",
        "\r\n",
        "                info={'cast_id':data['cast'][i]['cast_id'], 'character':data['cast'][i]['character'], 'credit_id':data['cast'][i]['credit_id']}\r\n",
        "\r\n",
        "                actors.append(info)\r\n",
        "\r\n",
        "        #print(actors)\r\n",
        "\r\n",
        "        conn.close\r\n",
        "\r\n",
        "        return actors\r\n"
      ],
      "execution_count": 2,
      "outputs": []
    },
    {
      "cell_type": "code",
      "metadata": {
        "id": "3wAPBGijqiuv"
      },
      "source": [
        "# Se escriben las variables que se van a utilizar\r\n",
        "limit=5\r\n",
        "movie_id='343611'\r\n",
        "exclude_ids=[500]\r\n",
        "api_key= \"ht150b7959369d616b4f01ab00fa0541cd\"\r\n"
      ],
      "execution_count": 6,
      "outputs": []
    },
    {
      "cell_type": "code",
      "metadata": {
        "id": "YvX2RXk2qvg_"
      },
      "source": [
        "# se crea el objeto , ya que al usar clases es una implementación orientada a objetos (otra forma de desarrollo de mi época)\r\n",
        "pelicula = TMDBAPIUtils(api_key)"
      ],
      "execution_count": 8,
      "outputs": []
    },
    {
      "cell_type": "code",
      "metadata": {
        "colab": {
          "base_uri": "https://localhost:8080/"
        },
        "id": "qZuxXBJuq2zX",
        "outputId": "b552a63e-8db9-4e29-bc8d-c8a505d4683d"
      },
      "source": [
        "# cuando se usan los objetos , se invocan las funciones de los mismos a traves de un punto e incluyo lo que necesita la función\r\n",
        "pelicula.get_movie_cast(movie_id,limit,exclude_ids)"
      ],
      "execution_count": 9,
      "outputs": [
        {
          "output_type": "stream",
          "text": [
            "60\n"
          ],
          "name": "stdout"
        },
        {
          "output_type": "execute_result",
          "data": {
            "text/plain": [
              "[{'cast_id': 5,\n",
              "  'character': 'Susan Turner',\n",
              "  'credit_id': '55fdcf53c3a368133b0016bb'},\n",
              " {'cast_id': 7,\n",
              "  'character': 'Samantha',\n",
              "  'credit_id': '55fdcf61925141529f0019b5'},\n",
              " {'cast_id': 6, 'character': 'Espin', 'credit_id': '55fdcf5a92514152aa001927'},\n",
              " {'cast_id': 16,\n",
              "  'character': 'The Hunter',\n",
              "  'credit_id': '57aed22b92514128f6001b22'}]"
            ]
          },
          "metadata": {
            "tags": []
          },
          "execution_count": 9
        }
      ]
    }
  ]
}