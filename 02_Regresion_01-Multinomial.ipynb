{
  "nbformat": 4,
  "nbformat_minor": 0,
  "metadata": {
    "colab": {
      "name": "02_Regresion_01-Multinomial.ipynb",
      "provenance": [],
      "authorship_tag": "ABX9TyOMunm3BcqOnY/L/qYQ1U8g",
      "include_colab_link": true
    },
    "kernelspec": {
      "name": "python3",
      "display_name": "Python 3"
    }
  },
  "cells": [
    {
      "cell_type": "markdown",
      "metadata": {
        "id": "view-in-github",
        "colab_type": "text"
      },
      "source": [
        "<a href=\"https://colab.research.google.com/github/julian-masdatascience/ML/blob/master/02_Regresion_01-Multinomial.ipynb\" target=\"_parent\"><img src=\"https://colab.research.google.com/assets/colab-badge.svg\" alt=\"Open In Colab\"/></a>"
      ]
    },
    {
      "cell_type": "markdown",
      "metadata": {
        "id": "3kaZGZXfHTA3",
        "colab_type": "text"
      },
      "source": [
        "# Regresión Lineal\n",
        "## 1. Importar librerias"
      ]
    },
    {
      "cell_type": "code",
      "metadata": {
        "id": "xqH2-2ETGpki",
        "colab_type": "code",
        "colab": {}
      },
      "source": [
        "## Basicas\n",
        "import numpy as np\n",
        "import matplotlib.pyplot as plt\n",
        "import pandas as pd\n",
        "## Datos\n",
        "from sklearn.model_selection import train_test_split\n",
        "from sklearn.preprocessing import OneHotEncoder\n",
        "from sklearn.compose import ColumnTransformer\n",
        "from sklearn.preprocessing import LabelEncoder\n",
        "## ML\n",
        "from sklearn.linear_model import LinearRegression\n",
        "np.set_printoptions(precision=1,suppress=True)"
      ],
      "execution_count": 0,
      "outputs": []
    },
    {
      "cell_type": "markdown",
      "metadata": {
        "id": "UVw9EYWeHaSm",
        "colab_type": "text"
      },
      "source": [
        "## 2. Importar Datos"
      ]
    },
    {
      "cell_type": "code",
      "metadata": {
        "id": "GU49RzI5GsoP",
        "colab_type": "code",
        "outputId": "4de3c00a-7d56-4631-fedb-8c98d0a598bc",
        "colab": {
          "base_uri": "https://localhost:8080/",
          "height": 197
        }
      },
      "source": [
        "url = 'https://github.com/julian-masdatascience/ML/raw/master/A_Z/DS/fondo_inversion.csv'\n",
        "dataset = pd.read_csv(url)\n",
        "dataset.head()"
      ],
      "execution_count": 10,
      "outputs": [
        {
          "output_type": "execute_result",
          "data": {
            "text/html": [
              "<div>\n",
              "<style scoped>\n",
              "    .dataframe tbody tr th:only-of-type {\n",
              "        vertical-align: middle;\n",
              "    }\n",
              "\n",
              "    .dataframe tbody tr th {\n",
              "        vertical-align: top;\n",
              "    }\n",
              "\n",
              "    .dataframe thead th {\n",
              "        text-align: right;\n",
              "    }\n",
              "</style>\n",
              "<table border=\"1\" class=\"dataframe\">\n",
              "  <thead>\n",
              "    <tr style=\"text-align: right;\">\n",
              "      <th></th>\n",
              "      <th>R&amp;D</th>\n",
              "      <th>Administrativo</th>\n",
              "      <th>Marketing</th>\n",
              "      <th>Estado</th>\n",
              "      <th>Ganancia</th>\n",
              "    </tr>\n",
              "  </thead>\n",
              "  <tbody>\n",
              "    <tr>\n",
              "      <th>0</th>\n",
              "      <td>165349.20</td>\n",
              "      <td>136897.80</td>\n",
              "      <td>471784.10</td>\n",
              "      <td>New York</td>\n",
              "      <td>192261.83</td>\n",
              "    </tr>\n",
              "    <tr>\n",
              "      <th>1</th>\n",
              "      <td>162597.70</td>\n",
              "      <td>151377.59</td>\n",
              "      <td>443898.53</td>\n",
              "      <td>California</td>\n",
              "      <td>191792.06</td>\n",
              "    </tr>\n",
              "    <tr>\n",
              "      <th>2</th>\n",
              "      <td>153441.51</td>\n",
              "      <td>101145.55</td>\n",
              "      <td>407934.54</td>\n",
              "      <td>Florida</td>\n",
              "      <td>191050.39</td>\n",
              "    </tr>\n",
              "    <tr>\n",
              "      <th>3</th>\n",
              "      <td>144372.41</td>\n",
              "      <td>118671.85</td>\n",
              "      <td>383199.62</td>\n",
              "      <td>New York</td>\n",
              "      <td>182901.99</td>\n",
              "    </tr>\n",
              "    <tr>\n",
              "      <th>4</th>\n",
              "      <td>142107.34</td>\n",
              "      <td>91391.77</td>\n",
              "      <td>366168.42</td>\n",
              "      <td>Florida</td>\n",
              "      <td>166187.94</td>\n",
              "    </tr>\n",
              "  </tbody>\n",
              "</table>\n",
              "</div>"
            ],
            "text/plain": [
              "         R&D  Administrativo  Marketing      Estado   Ganancia\n",
              "0  165349.20       136897.80  471784.10    New York  192261.83\n",
              "1  162597.70       151377.59  443898.53  California  191792.06\n",
              "2  153441.51       101145.55  407934.54     Florida  191050.39\n",
              "3  144372.41       118671.85  383199.62    New York  182901.99\n",
              "4  142107.34        91391.77  366168.42     Florida  166187.94"
            ]
          },
          "metadata": {
            "tags": []
          },
          "execution_count": 10
        }
      ]
    },
    {
      "cell_type": "code",
      "metadata": {
        "id": "rlvpLV6qMiTV",
        "colab_type": "code",
        "outputId": "f56ecf70-c530-4ee2-c519-94401e72ad65",
        "colab": {
          "base_uri": "https://localhost:8080/",
          "height": 287
        }
      },
      "source": [
        "dataset.describe()"
      ],
      "execution_count": 12,
      "outputs": [
        {
          "output_type": "execute_result",
          "data": {
            "text/html": [
              "<div>\n",
              "<style scoped>\n",
              "    .dataframe tbody tr th:only-of-type {\n",
              "        vertical-align: middle;\n",
              "    }\n",
              "\n",
              "    .dataframe tbody tr th {\n",
              "        vertical-align: top;\n",
              "    }\n",
              "\n",
              "    .dataframe thead th {\n",
              "        text-align: right;\n",
              "    }\n",
              "</style>\n",
              "<table border=\"1\" class=\"dataframe\">\n",
              "  <thead>\n",
              "    <tr style=\"text-align: right;\">\n",
              "      <th></th>\n",
              "      <th>R&amp;D</th>\n",
              "      <th>Administrativo</th>\n",
              "      <th>Marketing</th>\n",
              "      <th>Ganancia</th>\n",
              "    </tr>\n",
              "  </thead>\n",
              "  <tbody>\n",
              "    <tr>\n",
              "      <th>count</th>\n",
              "      <td>50.000000</td>\n",
              "      <td>50.000000</td>\n",
              "      <td>50.000000</td>\n",
              "      <td>50.000000</td>\n",
              "    </tr>\n",
              "    <tr>\n",
              "      <th>mean</th>\n",
              "      <td>73721.615600</td>\n",
              "      <td>121344.639600</td>\n",
              "      <td>211025.097800</td>\n",
              "      <td>112012.639200</td>\n",
              "    </tr>\n",
              "    <tr>\n",
              "      <th>std</th>\n",
              "      <td>45902.256482</td>\n",
              "      <td>28017.802755</td>\n",
              "      <td>122290.310726</td>\n",
              "      <td>40306.180338</td>\n",
              "    </tr>\n",
              "    <tr>\n",
              "      <th>min</th>\n",
              "      <td>0.000000</td>\n",
              "      <td>51283.140000</td>\n",
              "      <td>0.000000</td>\n",
              "      <td>14681.400000</td>\n",
              "    </tr>\n",
              "    <tr>\n",
              "      <th>25%</th>\n",
              "      <td>39936.370000</td>\n",
              "      <td>103730.875000</td>\n",
              "      <td>129300.132500</td>\n",
              "      <td>90138.902500</td>\n",
              "    </tr>\n",
              "    <tr>\n",
              "      <th>50%</th>\n",
              "      <td>73051.080000</td>\n",
              "      <td>122699.795000</td>\n",
              "      <td>212716.240000</td>\n",
              "      <td>107978.190000</td>\n",
              "    </tr>\n",
              "    <tr>\n",
              "      <th>75%</th>\n",
              "      <td>101602.800000</td>\n",
              "      <td>144842.180000</td>\n",
              "      <td>299469.085000</td>\n",
              "      <td>139765.977500</td>\n",
              "    </tr>\n",
              "    <tr>\n",
              "      <th>max</th>\n",
              "      <td>165349.200000</td>\n",
              "      <td>182645.560000</td>\n",
              "      <td>471784.100000</td>\n",
              "      <td>192261.830000</td>\n",
              "    </tr>\n",
              "  </tbody>\n",
              "</table>\n",
              "</div>"
            ],
            "text/plain": [
              "                 R&D  Administrativo      Marketing       Ganancia\n",
              "count      50.000000       50.000000      50.000000      50.000000\n",
              "mean    73721.615600   121344.639600  211025.097800  112012.639200\n",
              "std     45902.256482    28017.802755  122290.310726   40306.180338\n",
              "min         0.000000    51283.140000       0.000000   14681.400000\n",
              "25%     39936.370000   103730.875000  129300.132500   90138.902500\n",
              "50%     73051.080000   122699.795000  212716.240000  107978.190000\n",
              "75%    101602.800000   144842.180000  299469.085000  139765.977500\n",
              "max    165349.200000   182645.560000  471784.100000  192261.830000"
            ]
          },
          "metadata": {
            "tags": []
          },
          "execution_count": 12
        }
      ]
    },
    {
      "cell_type": "code",
      "metadata": {
        "id": "rMBACljyMlgj",
        "colab_type": "code",
        "outputId": "b888e59e-fd89-4997-dc5f-ad43030d515b",
        "colab": {
          "base_uri": "https://localhost:8080/",
          "height": 230
        }
      },
      "source": [
        "dataset.info()"
      ],
      "execution_count": 13,
      "outputs": [
        {
          "output_type": "stream",
          "text": [
            "<class 'pandas.core.frame.DataFrame'>\n",
            "RangeIndex: 50 entries, 0 to 49\n",
            "Data columns (total 5 columns):\n",
            " #   Column          Non-Null Count  Dtype  \n",
            "---  ------          --------------  -----  \n",
            " 0   R&D             50 non-null     float64\n",
            " 1   Administrativo  50 non-null     float64\n",
            " 2   Marketing       50 non-null     float64\n",
            " 3   Estado          50 non-null     object \n",
            " 4   Ganancia        50 non-null     float64\n",
            "dtypes: float64(4), object(1)\n",
            "memory usage: 2.1+ KB\n"
          ],
          "name": "stdout"
        }
      ]
    },
    {
      "cell_type": "code",
      "metadata": {
        "id": "Idu8VF8XG5q_",
        "colab_type": "code",
        "colab": {}
      },
      "source": [
        "X = dataset.iloc[:, :-1].values\n",
        "y = dataset.iloc[:, 4].values"
      ],
      "execution_count": 0,
      "outputs": []
    },
    {
      "cell_type": "markdown",
      "metadata": {
        "id": "yHuJwOxxHdp-",
        "colab_type": "text"
      },
      "source": [
        "## 3. Trabajar con los datos"
      ]
    },
    {
      "cell_type": "markdown",
      "metadata": {
        "id": "SX0fWJJUHhCj",
        "colab_type": "text"
      },
      "source": [
        "### 3.1 Normalizar datos"
      ]
    },
    {
      "cell_type": "code",
      "metadata": {
        "id": "hdjNusMjOgFq",
        "colab_type": "code",
        "outputId": "a17ae00a-ce04-4555-f11f-f9968891390d",
        "colab": {
          "base_uri": "https://localhost:8080/",
          "height": 212
        }
      },
      "source": [
        "## Codifico el Estado\n",
        "X[:,3]\n"
      ],
      "execution_count": 63,
      "outputs": [
        {
          "output_type": "execute_result",
          "data": {
            "text/plain": [
              "array(['New York', 'California', 'Florida', 'New York', 'Florida',\n",
              "       'New York', 'California', 'Florida', 'New York', 'California',\n",
              "       'Florida', 'California', 'Florida', 'California', 'Florida',\n",
              "       'New York', 'California', 'New York', 'Florida', 'New York',\n",
              "       'California', 'New York', 'Florida', 'Florida', 'New York',\n",
              "       'California', 'Florida', 'New York', 'Florida', 'New York',\n",
              "       'Florida', 'New York', 'California', 'Florida', 'California',\n",
              "       'New York', 'Florida', 'California', 'New York', 'California',\n",
              "       'California', 'Florida', 'California', 'New York', 'California',\n",
              "       'New York', 'Florida', 'California', 'New York', 'California'],\n",
              "      dtype=object)"
            ]
          },
          "metadata": {
            "tags": []
          },
          "execution_count": 63
        }
      ]
    },
    {
      "cell_type": "code",
      "metadata": {
        "id": "5fKBfHoFYNuB",
        "colab_type": "code",
        "colab": {}
      },
      "source": [
        "## from sklearn.preprocessing import OneHotEncoder\n",
        "## from sklearn.compose import ColumnTransformer\n",
        "## from sklearn.preprocessing import LabelEncoder\n",
        "labelencoder = LabelEncoder()\n",
        "X[:, 3] = labelencoder.fit_transform(X[:, 3])\n",
        "ct =ColumnTransformer([('encoder', OneHotEncoder(), [3])],\n",
        "remainder='passthrough')\n",
        "X= np.array(ct.fit_transform(X), dtype=np.float)"
      ],
      "execution_count": 0,
      "outputs": []
    },
    {
      "cell_type": "code",
      "metadata": {
        "id": "SIngk0BeYfEF",
        "colab_type": "code",
        "colab": {
          "base_uri": "https://localhost:8080/",
          "height": 70
        },
        "outputId": "15693135-5a58-4687-9628-5eb14a88fb6c"
      },
      "source": [
        "## Codifico el Estado\n",
        "print(X[0:3])"
      ],
      "execution_count": 65,
      "outputs": [
        {
          "output_type": "stream",
          "text": [
            "[[     0.       0.       1.  165349.2 136897.8 471784.1]\n",
            " [     1.       0.       0.  162597.7 151377.6 443898.5]\n",
            " [     0.       1.       0.  153441.5 101145.6 407934.5]]\n"
          ],
          "name": "stdout"
        }
      ]
    },
    {
      "cell_type": "code",
      "metadata": {
        "id": "-bqyuPBTZDb6",
        "colab_type": "code",
        "colab": {}
      },
      "source": [
        "# Elmino el problema de la variable trampa Dummy \n",
        "X = X[:, 1:]"
      ],
      "execution_count": 0,
      "outputs": []
    },
    {
      "cell_type": "code",
      "metadata": {
        "id": "zf8TCF9ZZJo4",
        "colab_type": "code",
        "colab": {
          "base_uri": "https://localhost:8080/",
          "height": 70
        },
        "outputId": "f087d563-37f0-4c8f-bef9-cee45b15d662"
      },
      "source": [
        "print(X[0:3])"
      ],
      "execution_count": 67,
      "outputs": [
        {
          "output_type": "stream",
          "text": [
            "[[     0.       1.  165349.2 136897.8 471784.1]\n",
            " [     0.       0.  162597.7 151377.6 443898.5]\n",
            " [     1.       0.  153441.5 101145.6 407934.5]]\n"
          ],
          "name": "stdout"
        }
      ]
    },
    {
      "cell_type": "code",
      "metadata": {
        "id": "eG1GorY1ZaQs",
        "colab_type": "code",
        "colab": {
          "base_uri": "https://localhost:8080/",
          "height": 34
        },
        "outputId": "50757791-0a03-479b-b3b8-99f2e14ca0a6"
      },
      "source": [
        "len(X)"
      ],
      "execution_count": 68,
      "outputs": [
        {
          "output_type": "execute_result",
          "data": {
            "text/plain": [
              "50"
            ]
          },
          "metadata": {
            "tags": []
          },
          "execution_count": 68
        }
      ]
    },
    {
      "cell_type": "markdown",
      "metadata": {
        "id": "-p3gMsr5HmZU",
        "colab_type": "text"
      },
      "source": [
        "### 3.2 Separar entrenamiento y pruebas "
      ]
    },
    {
      "cell_type": "code",
      "metadata": {
        "id": "K1wFT1CmGun4",
        "colab_type": "code",
        "outputId": "f47a0727-c45b-4053-ec90-51b9bf4ab9bf",
        "colab": {
          "base_uri": "https://localhost:8080/",
          "height": 52
        }
      },
      "source": [
        "## from sklearn.model_selection import train_test_split\n",
        "X_train, X_test, y_train, y_test = train_test_split(X, y, test_size =0.2, random_state = 0)\n",
        "print(\"Registros en X_train \"+str(len(X_train)))\n",
        "print(\"Registros en X_test \"+str(len(X_test)))"
      ],
      "execution_count": 69,
      "outputs": [
        {
          "output_type": "stream",
          "text": [
            "Registros en X_train 40\n",
            "Registros en X_test 10\n"
          ],
          "name": "stdout"
        }
      ]
    },
    {
      "cell_type": "code",
      "metadata": {
        "id": "BO0kTIJgOmI1",
        "colab_type": "code",
        "outputId": "1fd2f94a-8d55-47ae-a64f-ce8f69198805",
        "colab": {
          "base_uri": "https://localhost:8080/",
          "height": 834
        }
      },
      "source": [
        "print(X_train)\n",
        "print(\"------\")\n",
        "print(y_train)"
      ],
      "execution_count": 70,
      "outputs": [
        {
          "output_type": "stream",
          "text": [
            "[[     1.       0.   55493.9 103057.5 214634.8]\n",
            " [     0.       1.   46014.   85047.4 205517.6]\n",
            " [     1.       0.   75328.9 144136.  134050.1]\n",
            " [     0.       0.   46426.1 157693.9 210797.7]\n",
            " [     1.       0.   91749.2 114175.8 294919.6]\n",
            " [     1.       0.  130298.1 145530.1 323876.7]\n",
            " [     1.       0.  119943.2 156547.4 256512.9]\n",
            " [     0.       1.    1000.2 124153.    1903.9]\n",
            " [     0.       1.     542.   51743.2      0. ]\n",
            " [     0.       1.   65605.5 153032.1 107138.4]\n",
            " [     0.       1.  114523.6 122616.8 261776.2]\n",
            " [     1.       0.   61994.5 115641.3  91131.2]\n",
            " [     0.       0.   63408.9 129219.6  46085.2]\n",
            " [     0.       0.   78013.1 121597.6 264346.1]\n",
            " [     0.       0.   23640.9  96189.6 148001.1]\n",
            " [     0.       0.   76253.9 113867.3 298664.5]\n",
            " [     0.       1.   15505.7 127382.3  35534.2]\n",
            " [     0.       1.  120542.5 148719.  311613.3]\n",
            " [     0.       0.   91992.4 135495.1 252664.9]\n",
            " [     0.       0.   64664.7 139553.2 137962.6]\n",
            " [     0.       1.  131876.9  99814.7 362861.4]\n",
            " [     0.       1.   94657.2 145077.6 282574.3]\n",
            " [     0.       0.   28754.3 118546.1 172795.7]\n",
            " [     0.       0.       0.  116983.8  45173.1]\n",
            " [     0.       0.  162597.7 151377.6 443898.5]\n",
            " [     1.       0.   93863.8 127320.4 249839.4]\n",
            " [     0.       0.   44069.9  51283.1 197029.4]\n",
            " [     0.       1.   77044.   99281.3 140574.8]\n",
            " [     0.       0.  134615.5 147198.9 127716.8]\n",
            " [     1.       0.   67532.5 105751.  304768.7]\n",
            " [     1.       0.   28663.8 127056.2 201126.8]\n",
            " [     0.       1.   78389.5 153773.4 299737.3]\n",
            " [     0.       1.   86419.7 153514.1      0. ]\n",
            " [     0.       0.  123334.9 108679.2 304981.6]\n",
            " [     0.       0.   38558.5  82982.1 174999.3]\n",
            " [     1.       0.    1315.5 115816.2 297114.5]\n",
            " [     0.       1.  144372.4 118671.9 383199.6]\n",
            " [     0.       1.  165349.2 136897.8 471784.1]\n",
            " [     0.       0.       0.  135426.9      0. ]\n",
            " [     0.       0.   22177.7 154806.1  28334.7]]\n",
            "------\n",
            "[ 96778.9  96479.5 105733.5  96712.8 124266.9 155752.6 132602.6  64926.1\n",
            "  35673.4 101004.6 129917.   99937.6  97427.8 126992.9  71498.5 118474.\n",
            "  69759.  152211.8 134307.4 107404.3 156991.1 125370.4  78239.9  14681.4\n",
            " 191792.1 141585.5  89949.1 108552.  156122.5 108734.   90708.2 111313.\n",
            " 122776.9 149760.   81005.8  49490.8 182902.  192261.8  42559.7  65200.3]\n"
          ],
          "name": "stdout"
        }
      ]
    },
    {
      "cell_type": "markdown",
      "metadata": {
        "id": "se8OzRGiHp1G",
        "colab_type": "text"
      },
      "source": [
        "## 4. Crear Modelo ML"
      ]
    },
    {
      "cell_type": "code",
      "metadata": {
        "id": "w8AnWoaOGxML",
        "colab_type": "code",
        "colab": {}
      },
      "source": [
        "# from sklearn.linear_model import LinearRegression\n",
        "regressor = LinearRegression()\n",
        "regressor.fit(X_train, y_train)\n",
        "\n",
        "# Predicting the Test set results\n",
        "y_pred = regressor.predict(X_test)\n"
      ],
      "execution_count": 0,
      "outputs": []
    },
    {
      "cell_type": "code",
      "metadata": {
        "id": "GiEobUYSqi6d",
        "colab_type": "code",
        "outputId": "0e6aab63-4875-46a4-fb68-9a91d2c9ef3e",
        "colab": {
          "base_uri": "https://localhost:8080/",
          "height": 87
        }
      },
      "source": [
        "#comparemos\n",
        "print(\"y_test\" + str(y_test))\n",
        "print(\"y_pred\" + str(y_pred))"
      ],
      "execution_count": 72,
      "outputs": [
        {
          "output_type": "stream",
          "text": [
            "y_test[103282.4 144259.4 146122.   77798.8 191050.4 105008.3  81229.1  97483.6\n",
            " 110352.2 166187.9]\n",
            "y_pred[103015.2 132582.3 132447.7  71976.1 178537.5 116161.2  67851.7  98791.7\n",
            " 113969.4 167921.1]\n"
          ],
          "name": "stdout"
        }
      ]
    },
    {
      "cell_type": "code",
      "metadata": {
        "id": "gm7udWGErT2V",
        "colab_type": "code",
        "outputId": "7befc667-afec-4ca4-b0bf-3b4d067fb159",
        "colab": {
          "base_uri": "https://localhost:8080/",
          "height": 87
        }
      },
      "source": [
        "print(\"y_test \" + str(y_test))\n",
        "print(\"y_pred \" + str(y_pred))"
      ],
      "execution_count": 73,
      "outputs": [
        {
          "output_type": "stream",
          "text": [
            "y_test [103282.4 144259.4 146122.   77798.8 191050.4 105008.3  81229.1  97483.6\n",
            " 110352.2 166187.9]\n",
            "y_pred [103015.2 132582.3 132447.7  71976.1 178537.5 116161.2  67851.7  98791.7\n",
            " 113969.4 167921.1]\n"
          ],
          "name": "stdout"
        }
      ]
    },
    {
      "cell_type": "markdown",
      "metadata": {
        "id": "LBGrgJH3HsQ0",
        "colab_type": "text"
      },
      "source": [
        "## 5. Analizar resultados"
      ]
    },
    {
      "cell_type": "code",
      "metadata": {
        "id": "KH8NJFFG0OS6",
        "colab_type": "code",
        "outputId": "7b5ca10b-97c1-4b1b-d713-2d41fa24ee94",
        "colab": {
          "base_uri": "https://localhost:8080/",
          "height": 34
        }
      },
      "source": [
        "regressor.score(X_test,y_test)"
      ],
      "execution_count": 74,
      "outputs": [
        {
          "output_type": "execute_result",
          "data": {
            "text/plain": [
              "0.9347068473282986"
            ]
          },
          "metadata": {
            "tags": []
          },
          "execution_count": 74
        }
      ]
    }
  ]
}