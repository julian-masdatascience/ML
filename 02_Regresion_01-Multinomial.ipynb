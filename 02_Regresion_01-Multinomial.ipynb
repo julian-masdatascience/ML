{
  "nbformat": 4,
  "nbformat_minor": 0,
  "metadata": {
    "colab": {
      "name": "02_Regresion_01-Multinomial.ipynb",
      "provenance": [],
      "authorship_tag": "ABX9TyM6EGx+YvpKhB5ypJ6SBXCh",
      "include_colab_link": true
    },
    "kernelspec": {
      "name": "python3",
      "display_name": "Python 3"
    }
  },
  "cells": [
    {
      "cell_type": "markdown",
      "metadata": {
        "id": "view-in-github",
        "colab_type": "text"
      },
      "source": [
        "<a href=\"https://colab.research.google.com/github/julian-masdatascience/ML/blob/master/02_Regresion_01-Multinomial.ipynb\" target=\"_parent\"><img src=\"https://colab.research.google.com/assets/colab-badge.svg\" alt=\"Open In Colab\"/></a>"
      ]
    },
    {
      "cell_type": "markdown",
      "metadata": {
        "id": "3kaZGZXfHTA3",
        "colab_type": "text"
      },
      "source": [
        "# Regresión Lineal\n",
        "## 1. Importar librerias"
      ]
    },
    {
      "cell_type": "code",
      "metadata": {
        "id": "xqH2-2ETGpki",
        "colab_type": "code",
        "colab": {}
      },
      "source": [
        "## Basicas\n",
        "import numpy as np\n",
        "import matplotlib.pyplot as plt\n",
        "import pandas as pd\n",
        "## Datos\n",
        "from sklearn.preprocessing import StandardScaler\n",
        "from sklearn.model_selection import train_test_split\n",
        "## ML\n",
        "from sklearn.linear_model import LinearRegression"
      ],
      "execution_count": 0,
      "outputs": []
    },
    {
      "cell_type": "markdown",
      "metadata": {
        "id": "UVw9EYWeHaSm",
        "colab_type": "text"
      },
      "source": [
        "## 2. Importar Datos"
      ]
    },
    {
      "cell_type": "code",
      "metadata": {
        "id": "GU49RzI5GsoP",
        "colab_type": "code",
        "colab": {
          "base_uri": "https://localhost:8080/",
          "height": 197
        },
        "outputId": "30596de7-281b-42ec-b21e-73bf855ba637"
      },
      "source": [
        "url = 'https://github.com/julian-masdatascience/ML/raw/master/A_Z/DS/Salarios.csv'\n",
        "dataset = pd.read_csv(url)\n",
        "dataset.head()"
      ],
      "execution_count": 8,
      "outputs": [
        {
          "output_type": "execute_result",
          "data": {
            "text/html": [
              "<div>\n",
              "<style scoped>\n",
              "    .dataframe tbody tr th:only-of-type {\n",
              "        vertical-align: middle;\n",
              "    }\n",
              "\n",
              "    .dataframe tbody tr th {\n",
              "        vertical-align: top;\n",
              "    }\n",
              "\n",
              "    .dataframe thead th {\n",
              "        text-align: right;\n",
              "    }\n",
              "</style>\n",
              "<table border=\"1\" class=\"dataframe\">\n",
              "  <thead>\n",
              "    <tr style=\"text-align: right;\">\n",
              "      <th></th>\n",
              "      <th>experiencia</th>\n",
              "      <th>salario</th>\n",
              "    </tr>\n",
              "  </thead>\n",
              "  <tbody>\n",
              "    <tr>\n",
              "      <th>0</th>\n",
              "      <td>1.1</td>\n",
              "      <td>39343</td>\n",
              "    </tr>\n",
              "    <tr>\n",
              "      <th>1</th>\n",
              "      <td>1.3</td>\n",
              "      <td>46205</td>\n",
              "    </tr>\n",
              "    <tr>\n",
              "      <th>2</th>\n",
              "      <td>1.5</td>\n",
              "      <td>37731</td>\n",
              "    </tr>\n",
              "    <tr>\n",
              "      <th>3</th>\n",
              "      <td>2.0</td>\n",
              "      <td>43525</td>\n",
              "    </tr>\n",
              "    <tr>\n",
              "      <th>4</th>\n",
              "      <td>2.2</td>\n",
              "      <td>39891</td>\n",
              "    </tr>\n",
              "  </tbody>\n",
              "</table>\n",
              "</div>"
            ],
            "text/plain": [
              "   experiencia  salario\n",
              "0          1.1    39343\n",
              "1          1.3    46205\n",
              "2          1.5    37731\n",
              "3          2.0    43525\n",
              "4          2.2    39891"
            ]
          },
          "metadata": {
            "tags": []
          },
          "execution_count": 8
        }
      ]
    },
    {
      "cell_type": "code",
      "metadata": {
        "id": "rlvpLV6qMiTV",
        "colab_type": "code",
        "colab": {
          "base_uri": "https://localhost:8080/",
          "height": 287
        },
        "outputId": "8f26aaaa-74bf-469c-bc8e-3a942c9ed2f7"
      },
      "source": [
        "dataset.describe()"
      ],
      "execution_count": 24,
      "outputs": [
        {
          "output_type": "execute_result",
          "data": {
            "text/html": [
              "<div>\n",
              "<style scoped>\n",
              "    .dataframe tbody tr th:only-of-type {\n",
              "        vertical-align: middle;\n",
              "    }\n",
              "\n",
              "    .dataframe tbody tr th {\n",
              "        vertical-align: top;\n",
              "    }\n",
              "\n",
              "    .dataframe thead th {\n",
              "        text-align: right;\n",
              "    }\n",
              "</style>\n",
              "<table border=\"1\" class=\"dataframe\">\n",
              "  <thead>\n",
              "    <tr style=\"text-align: right;\">\n",
              "      <th></th>\n",
              "      <th>experiencia</th>\n",
              "      <th>salario</th>\n",
              "    </tr>\n",
              "  </thead>\n",
              "  <tbody>\n",
              "    <tr>\n",
              "      <th>count</th>\n",
              "      <td>30.000000</td>\n",
              "      <td>30.000000</td>\n",
              "    </tr>\n",
              "    <tr>\n",
              "      <th>mean</th>\n",
              "      <td>5.313333</td>\n",
              "      <td>76003.000000</td>\n",
              "    </tr>\n",
              "    <tr>\n",
              "      <th>std</th>\n",
              "      <td>2.837888</td>\n",
              "      <td>27414.429785</td>\n",
              "    </tr>\n",
              "    <tr>\n",
              "      <th>min</th>\n",
              "      <td>1.100000</td>\n",
              "      <td>37731.000000</td>\n",
              "    </tr>\n",
              "    <tr>\n",
              "      <th>25%</th>\n",
              "      <td>3.200000</td>\n",
              "      <td>56720.750000</td>\n",
              "    </tr>\n",
              "    <tr>\n",
              "      <th>50%</th>\n",
              "      <td>4.700000</td>\n",
              "      <td>65237.000000</td>\n",
              "    </tr>\n",
              "    <tr>\n",
              "      <th>75%</th>\n",
              "      <td>7.700000</td>\n",
              "      <td>100544.750000</td>\n",
              "    </tr>\n",
              "    <tr>\n",
              "      <th>max</th>\n",
              "      <td>10.500000</td>\n",
              "      <td>122391.000000</td>\n",
              "    </tr>\n",
              "  </tbody>\n",
              "</table>\n",
              "</div>"
            ],
            "text/plain": [
              "       experiencia        salario\n",
              "count    30.000000      30.000000\n",
              "mean      5.313333   76003.000000\n",
              "std       2.837888   27414.429785\n",
              "min       1.100000   37731.000000\n",
              "25%       3.200000   56720.750000\n",
              "50%       4.700000   65237.000000\n",
              "75%       7.700000  100544.750000\n",
              "max      10.500000  122391.000000"
            ]
          },
          "metadata": {
            "tags": []
          },
          "execution_count": 24
        }
      ]
    },
    {
      "cell_type": "code",
      "metadata": {
        "id": "rMBACljyMlgj",
        "colab_type": "code",
        "colab": {
          "base_uri": "https://localhost:8080/",
          "height": 176
        },
        "outputId": "ebd76552-53bd-42e7-8874-b51c5249f4d8"
      },
      "source": [
        "dataset.info()"
      ],
      "execution_count": 25,
      "outputs": [
        {
          "output_type": "stream",
          "text": [
            "<class 'pandas.core.frame.DataFrame'>\n",
            "RangeIndex: 30 entries, 0 to 29\n",
            "Data columns (total 2 columns):\n",
            " #   Column       Non-Null Count  Dtype  \n",
            "---  ------       --------------  -----  \n",
            " 0   experiencia  30 non-null     float64\n",
            " 1   salario      30 non-null     int64  \n",
            "dtypes: float64(1), int64(1)\n",
            "memory usage: 608.0 bytes\n"
          ],
          "name": "stdout"
        }
      ]
    },
    {
      "cell_type": "code",
      "metadata": {
        "id": "Idu8VF8XG5q_",
        "colab_type": "code",
        "colab": {}
      },
      "source": [
        "X = dataset.iloc[:, :-1].values\n",
        "y = dataset.iloc[:, 1].values"
      ],
      "execution_count": 0,
      "outputs": []
    },
    {
      "cell_type": "markdown",
      "metadata": {
        "id": "yHuJwOxxHdp-",
        "colab_type": "text"
      },
      "source": [
        "## 3. Trabajar con los datos"
      ]
    },
    {
      "cell_type": "markdown",
      "metadata": {
        "id": "SX0fWJJUHhCj",
        "colab_type": "text"
      },
      "source": [
        "### 3.1 Separar entrenamiento y pruebas"
      ]
    },
    {
      "cell_type": "code",
      "metadata": {
        "id": "hdjNusMjOgFq",
        "colab_type": "code",
        "colab": {
          "base_uri": "https://localhost:8080/",
          "height": 34
        },
        "outputId": "06771b29-7dab-451c-8eb3-28fe42e6a160"
      },
      "source": [
        "## cantidad de registros en X\n",
        "len(X)"
      ],
      "execution_count": 26,
      "outputs": [
        {
          "output_type": "execute_result",
          "data": {
            "text/plain": [
              "30"
            ]
          },
          "metadata": {
            "tags": []
          },
          "execution_count": 26
        }
      ]
    },
    {
      "cell_type": "code",
      "metadata": {
        "id": "K1wFT1CmGun4",
        "colab_type": "code",
        "colab": {
          "base_uri": "https://localhost:8080/",
          "height": 52
        },
        "outputId": "e49beabf-9684-4308-bf52-a91cc2061518"
      },
      "source": [
        "X_train, X_test, y_train, y_test = train_test_split(X, y, test_size =0.3, random_state = 0)\n",
        "print(\"Registros en X_train \"+str(len(X_train)))\n",
        "print(\"Registros en X_test \"+str(len(X_test)))"
      ],
      "execution_count": 27,
      "outputs": [
        {
          "output_type": "stream",
          "text": [
            "Registros en X_train 21\n",
            "Registros en X_test 9\n"
          ],
          "name": "stdout"
        }
      ]
    },
    {
      "cell_type": "code",
      "metadata": {
        "id": "BO0kTIJgOmI1",
        "colab_type": "code",
        "colab": {
          "base_uri": "https://localhost:8080/",
          "height": 461
        },
        "outputId": "6bd9efc9-84b3-45a6-ed84-7d2eb2575695"
      },
      "source": [
        "print(X_train)\n",
        "print(\"------\")\n",
        "print(y_train)\n"
      ],
      "execution_count": 28,
      "outputs": [
        {
          "output_type": "stream",
          "text": [
            "[[ 7.9]\n",
            " [ 2.9]\n",
            " [ 5.1]\n",
            " [ 3.2]\n",
            " [ 4.5]\n",
            " [ 8.2]\n",
            " [ 6.8]\n",
            " [ 1.3]\n",
            " [10.5]\n",
            " [ 3. ]\n",
            " [ 2.2]\n",
            " [ 5.9]\n",
            " [ 6. ]\n",
            " [ 3.7]\n",
            " [ 3.2]\n",
            " [ 9. ]\n",
            " [ 2. ]\n",
            " [ 1.1]\n",
            " [ 7.1]\n",
            " [ 4.9]\n",
            " [ 4. ]]\n",
            "------\n",
            "[101302  56642  66029  64445  61111 113812  91738  46205 121872  60150\n",
            "  39891  81363  93940  57189  54445 105582  43525  39343  98273  67938\n",
            "  56957]\n"
          ],
          "name": "stdout"
        }
      ]
    },
    {
      "cell_type": "markdown",
      "metadata": {
        "id": "-p3gMsr5HmZU",
        "colab_type": "text"
      },
      "source": [
        "### 3.2 Normalizar datos"
      ]
    },
    {
      "cell_type": "code",
      "metadata": {
        "id": "6R2IfjfyGwDU",
        "colab_type": "code",
        "colab": {
          "base_uri": "https://localhost:8080/",
          "height": 781
        },
        "outputId": "84782624-1e2d-4173-8d84-9b113fa0d47e"
      },
      "source": [
        "sc_X = StandardScaler()\n",
        "X_train = sc_X.fit_transform(X_train)\n",
        "X_test = sc_X.transform(X_test)\n",
        "sc_y = StandardScaler()\n",
        "y_train = sc_y.fit_transform(y_train.reshape(-1,1))\n",
        "\n",
        "print(X_train)\n",
        "print(\"------\")\n",
        "print(y_train)\n"
      ],
      "execution_count": 13,
      "outputs": [
        {
          "output_type": "stream",
          "text": [
            "[[ 1.17920075]\n",
            " [-0.77373425]\n",
            " [ 0.08555715]\n",
            " [-0.65655815]\n",
            " [-0.14879505]\n",
            " [ 1.29637685]\n",
            " [ 0.74955505]\n",
            " [-1.39867344]\n",
            " [ 2.19472695]\n",
            " [-0.73467555]\n",
            " [-1.04714515]\n",
            " [ 0.39802675]\n",
            " [ 0.43708545]\n",
            " [-0.46126465]\n",
            " [-0.65655815]\n",
            " [ 1.60884645]\n",
            " [-1.12526255]\n",
            " [-1.47679084]\n",
            " [ 0.86673115]\n",
            " [ 0.00743975]\n",
            " [-0.34408855]]\n",
            "------\n",
            "[[ 1.16815838]\n",
            " [-0.64093526]\n",
            " [-0.26068533]\n",
            " [-0.32485022]\n",
            " [-0.45990437]\n",
            " [ 1.67491524]\n",
            " [ 0.7807385 ]\n",
            " [-1.06371874]\n",
            " [ 2.00141086]\n",
            " [-0.4988327 ]\n",
            " [-1.31948715]\n",
            " [ 0.36046653]\n",
            " [ 0.86993743]\n",
            " [-0.61877731]\n",
            " [-0.72993165]\n",
            " [ 1.34153322]\n",
            " [-1.17228056]\n",
            " [-1.34168561]\n",
            " [ 1.04545921]\n",
            " [-0.18335528]\n",
            " [-0.62817519]]\n"
          ],
          "name": "stdout"
        }
      ]
    },
    {
      "cell_type": "markdown",
      "metadata": {
        "id": "se8OzRGiHp1G",
        "colab_type": "text"
      },
      "source": [
        "## 4. Crear Modelo ML"
      ]
    },
    {
      "cell_type": "code",
      "metadata": {
        "id": "w8AnWoaOGxML",
        "colab_type": "code",
        "colab": {}
      },
      "source": [
        "regressor = LinearRegression()\n",
        "regressor.fit(X_train, y_train)\n",
        "y_pred = regressor.predict(X_test)\n",
        "\n"
      ],
      "execution_count": 0,
      "outputs": []
    },
    {
      "cell_type": "code",
      "metadata": {
        "id": "GiEobUYSqi6d",
        "colab_type": "code",
        "colab": {
          "base_uri": "https://localhost:8080/",
          "height": 87
        },
        "outputId": "d843a8e4-6ddd-4562-d0bc-56b6a0e5e81a"
      },
      "source": [
        "#comparemos\n",
        "print(\"y_test\" + str(y_test))\n",
        "print(\"y_pred\" + str(y_pred))"
      ],
      "execution_count": 33,
      "outputs": [
        {
          "output_type": "stream",
          "text": [
            "y_test[ 37731 122391  57081  63218 116969 109431 112635  55794  83088]\n",
            "y_pred[ 40817.78327049 123188.08258899  65154.46261459  63282.41035735\n",
            " 115699.87356004 108211.66453108 116635.89968866  64218.43648597\n",
            "  76386.77615802]\n"
          ],
          "name": "stdout"
        }
      ]
    },
    {
      "cell_type": "code",
      "metadata": {
        "id": "_uiRBlM5q-j9",
        "colab_type": "code",
        "colab": {}
      },
      "source": [
        "# cambio el formato\n",
        "np.set_printoptions(precision=0)\n",
        "# más especifico con .format https://mkaz.blog/code/python-string-format-cookbook/"
      ],
      "execution_count": 0,
      "outputs": []
    },
    {
      "cell_type": "code",
      "metadata": {
        "id": "gm7udWGErT2V",
        "colab_type": "code",
        "colab": {
          "base_uri": "https://localhost:8080/",
          "height": 52
        },
        "outputId": "a28760e1-f633-41f3-8fdc-b5bbafbabacd"
      },
      "source": [
        "print(\"y_test\" + str(y_test))\n",
        "print(\"y_pred\" + str(y_pred))"
      ],
      "execution_count": 41,
      "outputs": [
        {
          "output_type": "stream",
          "text": [
            "y_test[ 37731 122391  57081  63218 116969 109431 112635  55794  83088]\n",
            "y_pred[ 40818. 123188.  65154.  63282. 115700. 108212. 116636.  64218.  76387.]\n"
          ],
          "name": "stdout"
        }
      ]
    },
    {
      "cell_type": "markdown",
      "metadata": {
        "id": "LBGrgJH3HsQ0",
        "colab_type": "text"
      },
      "source": [
        "## 5. Analizar resultados"
      ]
    },
    {
      "cell_type": "code",
      "metadata": {
        "id": "ii_P5eRSGymw",
        "colab_type": "code",
        "colab": {
          "base_uri": "https://localhost:8080/",
          "height": 294
        },
        "outputId": "e11a69f9-cc84-4a2c-e00f-b618d3647f74"
      },
      "source": [
        "# Resultados de entrenamiento\n",
        "plt.scatter(X_train, y_train, color = 'red')\n",
        "plt.plot(X_train, regressor.predict(X_train), color = 'blue')\n",
        "plt.title('Salario vs Experiencia (Training)')\n",
        "plt.xlabel('Años de Experiencia')\n",
        "plt.ylabel('Salario')\n",
        "plt.show()\n"
      ],
      "execution_count": 31,
      "outputs": [
        {
          "output_type": "display_data",
          "data": {
            "image/png": "[encoded data removed]",
            "text/plain": [
              "<Figure size 432x288 with 1 Axes>"
            ]
          },
          "metadata": {
            "tags": [],
            "needs_background": "light"
          }
        }
      ]
    },
    {
      "cell_type": "code",
      "metadata": {
        "id": "sT2Mk_8EItBj",
        "colab_type": "code",
        "colab": {
          "base_uri": "https://localhost:8080/",
          "height": 294
        },
        "outputId": "d13873ff-3f57-4928-b079-8c95d08fa61a"
      },
      "source": [
        "# Resultados de pruebas\n",
        "plt.scatter(X_test, y_test, color = 'red')\n",
        "plt.plot(X_train, regressor.predict(X_train), color = 'blue')\n",
        "plt.title('Salario vs Experiencia (Test)')\n",
        "plt.xlabel('Años de Experiencia')\n",
        "plt.ylabel('Salario')\n",
        "plt.show()"
      ],
      "execution_count": 32,
      "outputs": [
        {
          "output_type": "display_data",
          "data": {
            "image/png": "[encoded data removed]",
            "text/plain": [
              "<Figure size 432x288 with 1 Axes>"
            ]
          },
          "metadata": {
            "tags": [],
            "needs_background": "light"
          }
        }
      ]
    },
    {
      "cell_type": "code",
      "metadata": {
        "id": "KH8NJFFG0OS6",
        "colab_type": "code",
        "colab": {
          "base_uri": "https://localhost:8080/",
          "height": 34
        },
        "outputId": "2df85d42-1ac6-48df-8ccd-98d9f6cd87e2"
      },
      "source": [
        "regressor.score(X_test,y_test)"
      ],
      "execution_count": 42,
      "outputs": [
        {
          "output_type": "execute_result",
          "data": {
            "text/plain": [
              "0.9740993407213511"
            ]
          },
          "metadata": {
            "tags": []
          },
          "execution_count": 42
        }
      ]
    }
  ]
}
