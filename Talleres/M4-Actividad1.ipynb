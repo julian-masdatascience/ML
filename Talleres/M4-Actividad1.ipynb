{
 "cells": [
  {
   "cell_type": "markdown",
   "metadata": {},
   "source": [
    "# Actividad 1: Introducción al mundo Python\n",
    "\n",
    "##### Informacion util\n",
    "- Para crear celdas en un notebook, usa el boton más del menú de arriba a la izquierda\n",
    "- Para ejecutar una celda (texto o codigo), selecciona el boton \"Run\" del menu de arriba a la izquierda\n",
    "- Recuerda cambiar el tipo de celda de forma adecuada con el menu superior\n",
    "- Más información sobre notebooks en la documentación oficial: https://jupyter.readthedocs.io/en/latest/"
   ]
  },
  {
   "cell_type": "markdown",
   "metadata": {},
   "source": [
    "## Jupyter notebook\n",
    "(2 puntos) \n",
    "- Averiguar shortcuts para las siguientes acciones (listado en Help > Keyboard shortcuts): \n",
    " - Crear una nueva celda\n",
    " - Ejecutar los comandos de la celda\n",
    " - Copiar, pegar y cortar celdas\n",
    " - Cambiar tipo de celda a Markdown, Code, Raw\n",
    " - Guardar notebook\n",
    " \n",
    "Poner las respuestas en una nueva celda (de tipo RAW)"
   ]
  },
  {
   "cell_type": "markdown",
   "metadata": {},
   "source": [
    "## Python basico - PARTE 1"
   ]
  },
  {
   "cell_type": "markdown",
   "metadata": {},
   "source": [
    "#### 1. Crea dos variables, asigna a cada una un valor numérico e imprime el resultado de la multiplicación entre ambas\n"
   ]
  },
  {
   "cell_type": "markdown",
   "metadata": {},
   "source": [
    "#### 2. Convierte la siguiente variable a tipo int\n",
    "\n",
    "value = '12'"
   ]
  },
  {
   "cell_type": "markdown",
   "metadata": {},
   "source": [
    "#### 3. Escribe un programa que, dado un año como input, imprima si es bisiesto o no\n",
    "\n",
    "\n",
    "Para saber si un año es bisiesto, debe cumplir las siguientes condiciones:\n",
    "- Debe ser divisible por 4\n",
    "- Si hay valor de la centena, debe ser divisible por 4 (por ejemplo, 2000 es bisiesto, pero 2100 no)\n",
    "\n",
    "Ejemplos de años bisiestos: 4, 96, 104, 2000, 2008\n",
    "\n",
    "Ejemplos de años no bisiestos: 2005, 1998, 2100, 22"
   ]
  },
  {
   "cell_type": "markdown",
   "metadata": {},
   "source": [
    "#### 4. Pon el programa de la celda anterior dentro de una función 'bisiesto(year)' que retorne 'True' si el año en el argumento 'year' es bisiesto, y 'False' si no lo es\n"
   ]
  },
  {
   "cell_type": "markdown",
   "metadata": {},
   "source": [
    "#### 5.Crea una lista con al menos 10 números enteros. Utilizando un loop y la función 'bisiesto', imprime en la consola sólo los años que son bisiestos\n",
    "\n",
    "\n",
    "- La lista debe contener al menos 1 año bisiesto y otro no bisiesto"
   ]
  },
  {
   "cell_type": "markdown",
   "metadata": {},
   "source": [
    "#### 6.Reescribe el siguiente condicional con el operador terciario\n"
   ]
  },
  {
   "cell_type": "code",
   "execution_count": 1,
   "metadata": {},
   "outputs": [
    {
     "name": "stdout",
     "output_type": "stream",
     "text": [
      "Menor de edad\n"
     ]
    }
   ],
   "source": [
    "a = 10\n",
    "if a < 18:\n",
    "    print('Menor de edad')\n",
    "else:\n",
    "    print('Mayor de edad')"
   ]
  },
  {
   "cell_type": "markdown",
   "metadata": {},
   "source": [
    "#### 7. el siguiente loop como un for loop:\n"
   ]
  },
  {
   "cell_type": "code",
   "execution_count": 1,
   "metadata": {
    "scrolled": false
   },
   "outputs": [
    {
     "name": "stdout",
     "output_type": "stream",
     "text": [
      "0\n",
      "1\n",
      "2\n",
      "3\n",
      "4\n"
     ]
    }
   ],
   "source": [
    "counter = 0\n",
    "while counter < 5:\n",
    "    print(counter)\n",
    "    counter += 1"
   ]
  },
  {
   "cell_type": "markdown",
   "metadata": {},
   "source": [
    "------------------------------"
   ]
  },
  {
   "cell_type": "markdown",
   "metadata": {},
   "source": [
    "## Python basico - PARTE 1"
   ]
  },
  {
   "cell_type": "markdown",
   "metadata": {},
   "source": [
    "#### 1.Utiliza python comprehension para generar las siguientes colecciones\n",
    "\n",
    "\n",
    "\n",
    "- Una lista con los números positivos menores de 50 (incluir 0)\n",
    "- Una lista con los números pares positivos menores de 100 (incluir 0)\n",
    "- Un diccionario cuyas claves sea una de las listas anteriores, y los valores sean la otra\n",
    "- Un set de los elementos resultado de elevar al cuadrado los números del 10 al 32 inclusives"
   ]
  },
  {
   "cell_type": "markdown",
   "metadata": {},
   "source": [
    "#### 2.Crea un diccionario con claves de tipo 'string' y valores de tipo 'float' (debe haber al menos 3 elementos) y realiza las siguientes operaciones\n",
    "\n",
    "\n",
    "- Elimina una de las claves\n",
    "- Añade la clave-valor 'banana' : 2.4\n",
    "- Comprueba con un if que la clave 'banana' ha sido añadida"
   ]
  },
  {
   "cell_type": "markdown",
   "metadata": {},
   "source": [
    "#### 3.La función sort(key) vista en clase es un método de cualquier lista que se utiliza par ordenar los elementos de la misma. En una lista de elementos de tipo 'string', ordena los elementos en función de cuántas ocurrencias de la letra 'a' tengan, utilizando una función lambda\n",
    "\n",
    "- Pista: 'hola'.count('a') retorna 1, ya que la string 'hola' contiene 1 'a'"
   ]
  },
  {
   "cell_type": "markdown",
   "metadata": {},
   "source": [
    "#### 4.Descarga el [siguiente](http://samplecsvs.s3.amazonaws.com/Sacramentorealestatetransactions.csv) archivo csv de internet. Procesa el archivo para guardar  los valores de la primera columna de todas las filas en un archivo de texto (cada valor debe ir en una línea)\n"
   ]
  }
 ],
 "metadata": {
  "kernelspec": {
   "display_name": "Python 3",
   "language": "python",
   "name": "python3"
  },
  "language_info": {
   "codemirror_mode": {
    "name": "ipython",
    "version": 3
   },
   "file_extension": ".py",
   "mimetype": "text/x-python",
   "name": "python",
   "nbconvert_exporter": "python",
   "pygments_lexer": "ipython3",
   "version": "3.7.3"
  }
 },
 "nbformat": 4,
 "nbformat_minor": 2
}
