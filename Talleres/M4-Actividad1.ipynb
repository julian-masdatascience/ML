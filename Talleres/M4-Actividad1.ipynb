{
  "nbformat": 4,
  "nbformat_minor": 0,
  "metadata": {
    "kernelspec": {
      "display_name": "Python 3",
      "language": "python",
      "name": "python3"
    },
    "language_info": {
      "codemirror_mode": {
        "name": "ipython",
        "version": 3
      },
      "file_extension": ".py",
      "mimetype": "text/x-python",
      "name": "python",
      "nbconvert_exporter": "python",
      "pygments_lexer": "ipython3",
      "version": "3.7.3"
    },
    "colab": {
      "name": "M4-Actividad1.ipynb",
      "provenance": []
    }
  },
  "cells": [
    {
      "cell_type": "markdown",
      "metadata": {
        "id": "1uQcFIInWNuz",
        "colab_type": "text"
      },
      "source": [
        "# Actividad 1: Introducción al mundo Python\n",
        "\n",
        "##### Informacion util\n",
        "- Para crear celdas en un notebook, usa el boton más del menú de arriba a la izquierda\n",
        "- Para ejecutar una celda (texto o codigo), selecciona el boton \"Run\" del menu de arriba a la izquierda\n",
        "- Recuerda cambiar el tipo de celda de forma adecuada con el menu superior\n",
        "- Más información sobre notebooks en la documentación oficial: https://jupyter.readthedocs.io/en/latest/"
      ]
    },
    {
      "cell_type": "markdown",
      "metadata": {
        "id": "WFFqUoZ7WNu2",
        "colab_type": "text"
      },
      "source": [
        "## Jupyter notebook\n",
        "(2 puntos) \n",
        "- Averiguar shortcuts para las siguientes acciones (listado en Help > Keyboard shortcuts): \n",
        " - Crear una nueva celda\n",
        " - Ejecutar los comandos de la celda\n",
        " - Copiar, pegar y cortar celdas\n",
        " - Cambiar tipo de celda a Markdown, Code, Raw\n",
        " - Guardar notebook\n",
        " \n",
        "Poner las respuestas en una nueva celda (de tipo RAW)"
      ]
    },
    {
      "cell_type": "markdown",
      "metadata": {
        "id": "Kc9gPGgTWNu5",
        "colab_type": "text"
      },
      "source": [
        "## Python basico - PARTE 1"
      ]
    },
    {
      "cell_type": "markdown",
      "metadata": {
        "id": "COz_TwVVWNu7",
        "colab_type": "text"
      },
      "source": [
        "#### 1. Crea dos variables, asigna a cada una un valor numérico e imprime el resultado de la multiplicación entre ambas\n"
      ]
    },
    {
      "cell_type": "markdown",
      "metadata": {
        "id": "Q98yHtDVWNu-",
        "colab_type": "text"
      },
      "source": [
        "#### 2. Convierte la siguiente variable a tipo int\n",
        "\n",
        "value = '12'"
      ]
    },
    {
      "cell_type": "markdown",
      "metadata": {
        "id": "vKLasL94WNu_",
        "colab_type": "text"
      },
      "source": [
        "#### 3. Escribe un programa que, dado un año como input, imprima si es bisiesto o no\n",
        "\n",
        "\n",
        "Para saber si un año es bisiesto, debe cumplir las siguientes condiciones:\n",
        "- Debe ser divisible por 4\n",
        "- Si hay valor de la centena, debe ser divisible por 4 (por ejemplo, 2000 es bisiesto, pero 2100 no)\n",
        "\n",
        "Ejemplos de años bisiestos: 4, 96, 104, 2000, 2008\n",
        "\n",
        "Ejemplos de años no bisiestos: 2005, 1998, 2100, 22"
      ]
    },
    {
      "cell_type": "markdown",
      "metadata": {
        "id": "qnuZbNyIWNvB",
        "colab_type": "text"
      },
      "source": [
        "#### 4. Pon el programa de la celda anterior dentro de una función 'bisiesto(year)' que retorne 'True' si el año en el argumento 'year' es bisiesto, y 'False' si no lo es\n"
      ]
    },
    {
      "cell_type": "markdown",
      "metadata": {
        "id": "ecMQqQRiWNvC",
        "colab_type": "text"
      },
      "source": [
        "#### 5.Crea una lista con al menos 10 números enteros. Utilizando un loop y la función 'bisiesto', imprime en la consola sólo los años que son bisiestos\n",
        "\n",
        "\n",
        "- La lista debe contener al menos 1 año bisiesto y otro no bisiesto"
      ]
    },
    {
      "cell_type": "markdown",
      "metadata": {
        "id": "6HkH09A1WNvD",
        "colab_type": "text"
      },
      "source": [
        "#### 6.Reescribe el siguiente condicional con el operador terciario\n"
      ]
    },
    {
      "cell_type": "code",
      "metadata": {
        "id": "2u5eUqLjWNvF",
        "colab_type": "code",
        "colab": {},
        "outputId": "495e8d2b-268d-4675-bd9c-50c407bd3b78"
      },
      "source": [
        "a = 10\n",
        "if a < 18:\n",
        "    print('Menor de edad')\n",
        "else:\n",
        "    print('Mayor de edad')"
      ],
      "execution_count": 0,
      "outputs": [
        {
          "output_type": "stream",
          "text": [
            "Menor de edad\n"
          ],
          "name": "stdout"
        }
      ]
    },
    {
      "cell_type": "markdown",
      "metadata": {
        "id": "5nSbE2kuWNvK",
        "colab_type": "text"
      },
      "source": [
        "#### 7. el siguiente loop como un for loop:\n"
      ]
    },
    {
      "cell_type": "code",
      "metadata": {
        "scrolled": false,
        "id": "VBgYYA3RWNvM",
        "colab_type": "code",
        "colab": {},
        "outputId": "cd7a35a9-4c00-49f1-efb8-0691cdc15a68"
      },
      "source": [
        "counter = 0\n",
        "while counter < 5:\n",
        "    print(counter)\n",
        "    counter += 1"
      ],
      "execution_count": 0,
      "outputs": [
        {
          "output_type": "stream",
          "text": [
            "0\n",
            "1\n",
            "2\n",
            "3\n",
            "4\n"
          ],
          "name": "stdout"
        }
      ]
    },
    {
      "cell_type": "markdown",
      "metadata": {
        "id": "9yFgLbgiWZor",
        "colab_type": "text"
      },
      "source": [
        "#### 8. Crea una función hola() que al ejecutarla imprima en pantalla Hola amigos"
      ]
    },
    {
      "cell_type": "markdown",
      "metadata": {
        "id": "P4MHw8kSWZ9z",
        "colab_type": "text"
      },
      "source": [
        "#### 9. Crea una función divisible (x, y), en donde devuelve Verdadero o Falso si x es divisible por y"
      ]
    },
    {
      "cell_type": "markdown",
      "metadata": {
        "id": "WE-Bi3b1WaGd",
        "colab_type": "text"
      },
      "source": [
        "#### 10. Crea una función Hola_TU(nombre), en donde imprima \"Hola\", seguido del contenido del nombre"
      ]
    },
    {
      "cell_type": "markdown",
      "metadata": {
        "id": "KP1WBDciWaMm",
        "colab_type": "text"
      },
      "source": [
        "#### 11. Crea una función longitud(palabra), la cual devuelve la longitud del String palabara. Puede usar funciones incorporada"
      ]
    },
    {
      "cell_type": "markdown",
      "metadata": {
        "id": "QW0Rv_pxWaPx",
        "colab_type": "text"
      },
      "source": [
        "#### 12. Crea una función mayuscula(palabra), la cual devuelve palabra, pero EN TODAS LAS MAYÚSCULAS"
      ]
    },
    {
      "cell_type": "markdown",
      "metadata": {
        "id": "zjSfwWr9WaS2",
        "colab_type": "text"
      },
      "source": [
        "#### 13. Crea una función segundoElemento(Lista), la cual devuelve el segundo  elemento de una lista."
      ]
    },
    {
      "cell_type": "markdown",
      "metadata": {
        "id": "qx0rfV9DWaVw",
        "colab_type": "text"
      },
      "source": [
        "#### 14. Crea una función ultimoElemento(Lista), la cual devuelve el último  elemento de una lista."
      ]
    },
    {
      "cell_type": "markdown",
      "metadata": {
        "id": "lrAUGS9BWaYN",
        "colab_type": "text"
      },
      "source": [
        "#### 15. Crea una función esNegativo(valor), la cual devuelve True si valor es menor que 0 y False en caso contrario."
      ]
    },
    {
      "cell_type": "markdown",
      "metadata": {
        "id": "TLI7Sk3XWaa-",
        "colab_type": "text"
      },
      "source": [
        "#### 16. Crea una función imprimirElementos(lista), la cual imprime cada elemento en lista. Puede usar iteraciones como for para este problema"
      ]
    },
    {
      "cell_type": "markdown",
      "metadata": {
        "id": "9VUcDk1ZWNvX",
        "colab_type": "text"
      },
      "source": [
        "#### 17.Crea un diccionario con claves de tipo 'string' y valores de tipo 'float' (debe haber al menos 3 elementos) y realiza las siguientes operaciones\n",
        "\n",
        "\n",
        "- Elimina una de las claves\n",
        "- Añade la clave-valor 'banana' : 2.4\n",
        "- Comprueba con un if que la clave 'banana' ha sido añadida"
      ]
    },
    {
      "cell_type": "markdown",
      "metadata": {
        "id": "6kZzzH1LWNvS",
        "colab_type": "text"
      },
      "source": [
        "------------------------------"
      ]
    },
    {
      "cell_type": "markdown",
      "metadata": {
        "id": "U3QmUaf_ZegT",
        "colab_type": "text"
      },
      "source": [
        "#Listo! primer taller de python finalizado con exito!"
      ]
    }
  ]
}