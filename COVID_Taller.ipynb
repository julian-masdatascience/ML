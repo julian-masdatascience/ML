{
  "nbformat": 4,
  "nbformat_minor": 0,
  "metadata": {
    "colab": {
      "name": "COVID.ipynb",
      "provenance": [],
      "authorship_tag": "ABX9TyOl9KUNoDEv3X5z4qY/JOUF",
      "include_colab_link": true
    },
    "kernelspec": {
      "name": "python3",
      "display_name": "Python 3"
    }
  },
  "cells": [
    {
      "cell_type": "markdown",
      "metadata": {
        "id": "view-in-github",
        "colab_type": "text"
      },
      "source": [
        "<a href=\"https://colab.research.google.com/github/julian-masdatascience/ML/blob/master/COVID_Taller.ipynb\" target=\"_parent\"><img src=\"https://colab.research.google.com/assets/colab-badge.svg\" alt=\"Open In Colab\"/></a>"
      ]
    },
    {
      "cell_type": "code",
      "metadata": {
        "id": "gqwASymQNewC",
        "colab_type": "code",
        "colab": {}
      },
      "source": [
        "# Paso 1 -  importamos librerias claves como son Pandas , Matplot  y dejo dos que se requieren para el trabajo \n",
        "from matplotlib.dates import DateFormatter\n",
        "import matplotlib.ticker as ticker\n",
        "## importar librerias pandas y matplotlib\n",
        " "
      ],
      "execution_count": 0,
      "outputs": []
    },
    {
      "cell_type": "code",
      "metadata": {
        "id": "zw8GwrkJNoe9",
        "colab_type": "code",
        "colab": {}
      },
      "source": [
        "# Paso 2 - Cargamos datos CSV del archivo  de la fuente de datos https://raw.githubusercontent.com/datasets/covid-19/master/data/countries-aggregated.csv\n",
        "# df = pd.read_csv(, parse_dates=['Date'])\n",
        "\n",
        "# definimos 5 paises con los cuales vamos a trabajar , como ejemplo se dejan los siguientes \n",
        "paises = ['Colombia', 'Germany', 'United Kingdom', 'US', 'China']\n",
        "# aplicamos filtro para los paises \n",
        "df = df[df['Country'].isin(paises)]"
      ],
      "execution_count": 0,
      "outputs": []
    },
    {
      "cell_type": "code",
      "metadata": {
        "id": "cZ0hkPrcAEbV",
        "colab_type": "code",
        "colab": {}
      },
      "source": [
        "# Paso 3 - Analizamos la informaicón cargada\n",
        "# visualizamos 10 lineas aleatorias del data frame\n",
        "# visualice y analice los resultados con base en los resumenes estadisticos"
      ],
      "execution_count": 0,
      "outputs": []
    },
    {
      "cell_type": "code",
      "metadata": {
        "id": "1KGYlydZNsd4",
        "colab_type": "code",
        "colab": {}
      },
      "source": [
        "# Paso 4 - Se crea una columna con la totalidad de los casos existentes\n",
        "df['casos'] = df[['Confirmed', 'Recovered', 'Deaths']].sum(axis=1)\n",
        "# visualizamos el resultado "
      ],
      "execution_count": 0,
      "outputs": []
    },
    {
      "cell_type": "code",
      "metadata": {
        "id": "dkSvQnIEQWtd",
        "colab_type": "code",
        "colab": {}
      },
      "source": [
        "# Paso 5 - Generamos una tabla pivote con la información resumida por la cantidad de casos\n",
        "df = df.pivot(index='Date', columns='Country', values='casos')\n",
        "paises = list(df.columns)\n",
        "# creamos una pivote llamada covid, con las fechas definidasa como indices para poderlo ordenar cronologicamente\n",
        "covid = df.reset_index('Date')\n",
        "covid.set_index(['Date'], inplace=True)\n",
        "covid.columns = paises"
      ],
      "execution_count": 0,
      "outputs": []
    },
    {
      "cell_type": "code",
      "metadata": {
        "id": "gz8pT6h1BGgt",
        "colab_type": "code",
        "colab": {}
      },
      "source": [
        "## visualice y analice los resultados con base en los resumenes estadisticos\n"
      ],
      "execution_count": 0,
      "outputs": []
    },
    {
      "cell_type": "code",
      "metadata": {
        "id": "P5JkOosoArKd",
        "colab_type": "code",
        "colab": {}
      },
      "source": [
        "# Paso 6 - Generamos una nueva tabla , ahora involucrando la población para ver el impacto que se tiene por cada 100.000 habitantes. Incluya los valores para Colombia\n",
        "populations = { 'Germany': 83721496 ,  'US': 330548815, 'United Kingdom': 67802690 , 'China':1438027228 }\n",
        "per_capita = covid.copy()\n",
        "for pais in list(per_capita.columns):\n",
        "    per_capita[pais] = per_capita[pais]/populations[pais]*100000\n"
      ],
      "execution_count": 0,
      "outputs": []
    },
    {
      "cell_type": "code",
      "metadata": {
        "id": "eo3oPXZRCdFf",
        "colab_type": "code",
        "colab": {}
      },
      "source": [
        "## visualice y analice los resultados con base en los resumenes estadisticos\n",
        " "
      ],
      "execution_count": 0,
      "outputs": []
    },
    {
      "cell_type": "code",
      "metadata": {
        "id": "T4irurSiC5Ll",
        "colab_type": "code",
        "colab": {}
      },
      "source": [
        "# Paso 7 - proponga a los menos 3 visualizaciones interesantes "
      ],
      "execution_count": 0,
      "outputs": []
    },
    {
      "cell_type": "code",
      "metadata": {
        "id": "0aGy43lxzyTV",
        "colab_type": "code",
        "colab": {}
      },
      "source": [
        ""
      ],
      "execution_count": 0,
      "outputs": []
    }
  ]
}