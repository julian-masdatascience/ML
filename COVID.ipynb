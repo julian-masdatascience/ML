{
  "nbformat": 4,
  "nbformat_minor": 0,
  "metadata": {
    "colab": {
      "name": "COVID.ipynb",
      "provenance": [],
      "authorship_tag": "ABX9TyOjPC++JXtTyiI69Tg23A80",
      "include_colab_link": true
    },
    "kernelspec": {
      "name": "python3",
      "display_name": "Python 3"
    }
  },
  "cells": [
    {
      "cell_type": "markdown",
      "metadata": {
        "id": "view-in-github",
        "colab_type": "text"
      },
      "source": [
        "<a href=\"https://colab.research.google.com/github/julian-masdatascience/ML/blob/master/COVID.ipynb\" target=\"_parent\"><img src=\"https://colab.research.google.com/assets/colab-badge.svg\" alt=\"Open In Colab\"/></a>"
      ]
    },
    {
      "cell_type": "code",
      "metadata": {
        "id": "gqwASymQNewC",
        "colab_type": "code",
        "colab": {}
      },
      "source": [
        "# Section 1 - Loading our Libraries\n",
        "import pandas as pd\n",
        "import matplotlib.pyplot as plt\n",
        "from matplotlib.dates import DateFormatter\n",
        "import matplotlib.ticker as ticker\n",
        "# %matplotlib inline #if you're working in a Jupyter notebook"
      ],
      "execution_count": 0,
      "outputs": []
    },
    {
      "cell_type": "code",
      "metadata": {
        "id": "zw8GwrkJNoe9",
        "colab_type": "code",
        "colab": {}
      },
      "source": [
        "# Section 2 - Loading and Selecting Data\n",
        "df = pd.read_csv('https://raw.githubusercontent.com/datasets/covid-19/master/data/countries-aggregated.csv', parse_dates=['Date'])\n",
        "countries = ['Canada', 'Germany', 'United Kingdom', 'US', 'France', 'China','Colombia']\n",
        "df = df[df['Country'].isin(countries)]"
      ],
      "execution_count": 0,
      "outputs": []
    },
    {
      "cell_type": "code",
      "metadata": {
        "id": "1KGYlydZNsd4",
        "colab_type": "code",
        "colab": {}
      },
      "source": [
        "# Section 3 - Creating a Summary Column\n",
        "df['Cases'] = df[['Confirmed', 'Recovered', 'Deaths']].sum(axis=1)"
      ],
      "execution_count": 0,
      "outputs": []
    },
    {
      "cell_type": "code",
      "metadata": {
        "id": "HCURBT9jN1Lq",
        "colab_type": "code",
        "outputId": "8c611295-029e-47b6-eab9-636f48563571",
        "colab": {
          "base_uri": "https://localhost:8080/",
          "height": 227
        }
      },
      "source": [
        "df.sample(5)"
      ],
      "execution_count": 0,
      "outputs": [
        {
          "output_type": "execute_result",
          "data": {
            "text/html": [
              "<div>\n",
              "<style scoped>\n",
              "    .dataframe tbody tr th:only-of-type {\n",
              "        vertical-align: middle;\n",
              "    }\n",
              "\n",
              "    .dataframe tbody tr th {\n",
              "        vertical-align: top;\n",
              "    }\n",
              "\n",
              "    .dataframe thead th {\n",
              "        text-align: right;\n",
              "    }\n",
              "</style>\n",
              "<table border=\"1\" class=\"dataframe\">\n",
              "  <thead>\n",
              "    <tr style=\"text-align: right;\">\n",
              "      <th>Country</th>\n",
              "      <th>Canada</th>\n",
              "      <th>China</th>\n",
              "      <th>Colombia</th>\n",
              "      <th>France</th>\n",
              "      <th>Germany</th>\n",
              "      <th>US</th>\n",
              "      <th>United Kingdom</th>\n",
              "    </tr>\n",
              "    <tr>\n",
              "      <th>Date</th>\n",
              "      <th></th>\n",
              "      <th></th>\n",
              "      <th></th>\n",
              "      <th></th>\n",
              "      <th></th>\n",
              "      <th></th>\n",
              "      <th></th>\n",
              "    </tr>\n",
              "  </thead>\n",
              "  <tbody>\n",
              "    <tr>\n",
              "      <th>2020-02-19</th>\n",
              "      <td>9</td>\n",
              "      <td>92697</td>\n",
              "      <td>0</td>\n",
              "      <td>17</td>\n",
              "      <td>28</td>\n",
              "      <td>16</td>\n",
              "      <td>17</td>\n",
              "    </tr>\n",
              "    <tr>\n",
              "      <th>2020-04-11</th>\n",
              "      <td>30559</td>\n",
              "      <td>164234</td>\n",
              "      <td>3023</td>\n",
              "      <td>171241</td>\n",
              "      <td>185044</td>\n",
              "      <td>578129</td>\n",
              "      <td>90388</td>\n",
              "    </tr>\n",
              "    <tr>\n",
              "      <th>2020-04-07</th>\n",
              "      <td>22038</td>\n",
              "      <td>163463</td>\n",
              "      <td>1930</td>\n",
              "      <td>139931</td>\n",
              "      <td>145760</td>\n",
              "      <td>430708</td>\n",
              "      <td>62445</td>\n",
              "    </tr>\n",
              "    <tr>\n",
              "      <th>2020-02-05</th>\n",
              "      <td>5</td>\n",
              "      <td>29118</td>\n",
              "      <td>0</td>\n",
              "      <td>6</td>\n",
              "      <td>12</td>\n",
              "      <td>11</td>\n",
              "      <td>2</td>\n",
              "    </tr>\n",
              "    <tr>\n",
              "      <th>2020-03-12</th>\n",
              "      <td>126</td>\n",
              "      <td>147005</td>\n",
              "      <td>9</td>\n",
              "      <td>2353</td>\n",
              "      <td>2106</td>\n",
              "      <td>1715</td>\n",
              "      <td>486</td>\n",
              "    </tr>\n",
              "  </tbody>\n",
              "</table>\n",
              "</div>"
            ],
            "text/plain": [
              "Country     Canada   China  Colombia  France  Germany      US  United Kingdom\n",
              "Date                                                                         \n",
              "2020-02-19       9   92697         0      17       28      16              17\n",
              "2020-04-11   30559  164234      3023  171241   185044  578129           90388\n",
              "2020-04-07   22038  163463      1930  139931   145760  430708           62445\n",
              "2020-02-05       5   29118         0       6       12      11               2\n",
              "2020-03-12     126  147005         9    2353     2106    1715             486"
            ]
          },
          "metadata": {
            "tags": []
          },
          "execution_count": 18
        }
      ]
    },
    {
      "cell_type": "code",
      "metadata": {
        "id": "dkSvQnIEQWtd",
        "colab_type": "code",
        "colab": {}
      },
      "source": [
        "# Section 4 - Restructuring our Data\n",
        "df = df.pivot(index='Date', columns='Country', values='Cases')\n",
        "countries = list(df.columns)\n",
        "covid = df.reset_index('Date')\n",
        "covid.set_index(['Date'], inplace=True)\n",
        "covid.columns = countries\n",
        "\n",
        "# Section 5 - Calculating Rates per 100,000\n",
        "populations = {'Canada':37664517, 'Germany': 83721496 , 'United Kingdom': 67802690 , 'US': 330548815, 'France': 65239883, 'China':1438027228,'Colombia':40000000}\n",
        "percapita = covid.copy()\n",
        "for country in list(percapita.columns):\n",
        "    percapita[country] = percapita[country]/populations[country]*100000\n"
      ],
      "execution_count": 0,
      "outputs": []
    },
    {
      "cell_type": "code",
      "metadata": {
        "id": "axU5BgWcQts_",
        "colab_type": "code",
        "outputId": "11e3c296-0b72-46fc-8b6c-1f3926482e7e",
        "colab": {
          "base_uri": "https://localhost:8080/",
          "height": 227
        }
      },
      "source": [
        "\n",
        "df.sample(5)"
      ],
      "execution_count": 0,
      "outputs": [
        {
          "output_type": "execute_result",
          "data": {
            "text/html": [
              "<div>\n",
              "<style scoped>\n",
              "    .dataframe tbody tr th:only-of-type {\n",
              "        vertical-align: middle;\n",
              "    }\n",
              "\n",
              "    .dataframe tbody tr th {\n",
              "        vertical-align: top;\n",
              "    }\n",
              "\n",
              "    .dataframe thead th {\n",
              "        text-align: right;\n",
              "    }\n",
              "</style>\n",
              "<table border=\"1\" class=\"dataframe\">\n",
              "  <thead>\n",
              "    <tr style=\"text-align: right;\">\n",
              "      <th>Country</th>\n",
              "      <th>Canada</th>\n",
              "      <th>China</th>\n",
              "      <th>Colombia</th>\n",
              "      <th>France</th>\n",
              "      <th>Germany</th>\n",
              "      <th>US</th>\n",
              "      <th>United Kingdom</th>\n",
              "    </tr>\n",
              "    <tr>\n",
              "      <th>Date</th>\n",
              "      <th></th>\n",
              "      <th></th>\n",
              "      <th></th>\n",
              "      <th></th>\n",
              "      <th></th>\n",
              "      <th></th>\n",
              "      <th></th>\n",
              "    </tr>\n",
              "  </thead>\n",
              "  <tbody>\n",
              "    <tr>\n",
              "      <th>2020-02-29</th>\n",
              "      <td>26</td>\n",
              "      <td>121513</td>\n",
              "      <td>0</td>\n",
              "      <td>114</td>\n",
              "      <td>95</td>\n",
              "      <td>76</td>\n",
              "      <td>31</td>\n",
              "    </tr>\n",
              "    <tr>\n",
              "      <th>2020-04-04</th>\n",
              "      <td>15773</td>\n",
              "      <td>162819</td>\n",
              "      <td>1523</td>\n",
              "      <td>113994</td>\n",
              "      <td>123936</td>\n",
              "      <td>331912</td>\n",
              "      <td>47012</td>\n",
              "    </tr>\n",
              "    <tr>\n",
              "      <th>2020-03-23</th>\n",
              "      <td>2123</td>\n",
              "      <td>157586</td>\n",
              "      <td>283</td>\n",
              "      <td>23191</td>\n",
              "      <td>29445</td>\n",
              "      <td>44582</td>\n",
              "      <td>7129</td>\n",
              "    </tr>\n",
              "    <tr>\n",
              "      <th>2020-03-19</th>\n",
              "      <td>818</td>\n",
              "      <td>154940</td>\n",
              "      <td>103</td>\n",
              "      <td>11226</td>\n",
              "      <td>15477</td>\n",
              "      <td>14068</td>\n",
              "      <td>2921</td>\n",
              "    </tr>\n",
              "    <tr>\n",
              "      <th>2020-02-14</th>\n",
              "      <td>8</td>\n",
              "      <td>75856</td>\n",
              "      <td>0</td>\n",
              "      <td>13</td>\n",
              "      <td>17</td>\n",
              "      <td>16</td>\n",
              "      <td>10</td>\n",
              "    </tr>\n",
              "  </tbody>\n",
              "</table>\n",
              "</div>"
            ],
            "text/plain": [
              "Country     Canada   China  Colombia  France  Germany      US  United Kingdom\n",
              "Date                                                                         \n",
              "2020-02-29      26  121513         0     114       95      76              31\n",
              "2020-04-04   15773  162819      1523  113994   123936  331912           47012\n",
              "2020-03-23    2123  157586       283   23191    29445   44582            7129\n",
              "2020-03-19     818  154940       103   11226    15477   14068            2921\n",
              "2020-02-14       8   75856         0      13       17      16              10"
            ]
          },
          "metadata": {
            "tags": []
          },
          "execution_count": 20
        }
      ]
    },
    {
      "cell_type": "code",
      "metadata": {
        "id": "R-EGaLNuQw7N",
        "colab_type": "code",
        "outputId": "0fa25d9d-d304-4cb1-b1f8-a72db7f85ada",
        "colab": {
          "base_uri": "https://localhost:8080/",
          "height": 227
        }
      },
      "source": [
        "percapita.head()"
      ],
      "execution_count": 0,
      "outputs": [
        {
          "output_type": "execute_result",
          "data": {
            "text/html": [
              "<div>\n",
              "<style scoped>\n",
              "    .dataframe tbody tr th:only-of-type {\n",
              "        vertical-align: middle;\n",
              "    }\n",
              "\n",
              "    .dataframe tbody tr th {\n",
              "        vertical-align: top;\n",
              "    }\n",
              "\n",
              "    .dataframe thead th {\n",
              "        text-align: right;\n",
              "    }\n",
              "</style>\n",
              "<table border=\"1\" class=\"dataframe\">\n",
              "  <thead>\n",
              "    <tr style=\"text-align: right;\">\n",
              "      <th></th>\n",
              "      <th>Canada</th>\n",
              "      <th>China</th>\n",
              "      <th>Colombia</th>\n",
              "      <th>France</th>\n",
              "      <th>Germany</th>\n",
              "      <th>US</th>\n",
              "      <th>United Kingdom</th>\n",
              "    </tr>\n",
              "    <tr>\n",
              "      <th>Date</th>\n",
              "      <th></th>\n",
              "      <th></th>\n",
              "      <th></th>\n",
              "      <th></th>\n",
              "      <th></th>\n",
              "      <th></th>\n",
              "      <th></th>\n",
              "    </tr>\n",
              "  </thead>\n",
              "  <tbody>\n",
              "    <tr>\n",
              "      <th>2020-01-22</th>\n",
              "      <td>0.000000</td>\n",
              "      <td>0.041237</td>\n",
              "      <td>0.0</td>\n",
              "      <td>0.000000</td>\n",
              "      <td>0.0</td>\n",
              "      <td>0.000303</td>\n",
              "      <td>0.0</td>\n",
              "    </tr>\n",
              "    <tr>\n",
              "      <th>2020-01-23</th>\n",
              "      <td>0.000000</td>\n",
              "      <td>0.048052</td>\n",
              "      <td>0.0</td>\n",
              "      <td>0.000000</td>\n",
              "      <td>0.0</td>\n",
              "      <td>0.000303</td>\n",
              "      <td>0.0</td>\n",
              "    </tr>\n",
              "    <tr>\n",
              "      <th>2020-01-24</th>\n",
              "      <td>0.000000</td>\n",
              "      <td>0.068288</td>\n",
              "      <td>0.0</td>\n",
              "      <td>0.003066</td>\n",
              "      <td>0.0</td>\n",
              "      <td>0.000605</td>\n",
              "      <td>0.0</td>\n",
              "    </tr>\n",
              "    <tr>\n",
              "      <th>2020-01-25</th>\n",
              "      <td>0.000000</td>\n",
              "      <td>0.103406</td>\n",
              "      <td>0.0</td>\n",
              "      <td>0.004598</td>\n",
              "      <td>0.0</td>\n",
              "      <td>0.000605</td>\n",
              "      <td>0.0</td>\n",
              "    </tr>\n",
              "    <tr>\n",
              "      <th>2020-01-26</th>\n",
              "      <td>0.002655</td>\n",
              "      <td>0.151597</td>\n",
              "      <td>0.0</td>\n",
              "      <td>0.004598</td>\n",
              "      <td>0.0</td>\n",
              "      <td>0.001513</td>\n",
              "      <td>0.0</td>\n",
              "    </tr>\n",
              "  </tbody>\n",
              "</table>\n",
              "</div>"
            ],
            "text/plain": [
              "              Canada     China  Colombia  ...  Germany        US  United Kingdom\n",
              "Date                                      ...                                   \n",
              "2020-01-22  0.000000  0.041237       0.0  ...      0.0  0.000303             0.0\n",
              "2020-01-23  0.000000  0.048052       0.0  ...      0.0  0.000303             0.0\n",
              "2020-01-24  0.000000  0.068288       0.0  ...      0.0  0.000605             0.0\n",
              "2020-01-25  0.000000  0.103406       0.0  ...      0.0  0.000605             0.0\n",
              "2020-01-26  0.002655  0.151597       0.0  ...      0.0  0.001513             0.0\n",
              "\n",
              "[5 rows x 7 columns]"
            ]
          },
          "metadata": {
            "tags": []
          },
          "execution_count": 21
        }
      ]
    },
    {
      "cell_type": "code",
      "metadata": {
        "id": "LfGcbODpQ2TF",
        "colab_type": "code",
        "outputId": "2bc81c05-dba5-4f5f-d751-86b078dea74a",
        "colab": {
          "base_uri": "https://localhost:8080/",
          "height": 227
        }
      },
      "source": [
        "covid.head()"
      ],
      "execution_count": 0,
      "outputs": [
        {
          "output_type": "execute_result",
          "data": {
            "text/html": [
              "<div>\n",
              "<style scoped>\n",
              "    .dataframe tbody tr th:only-of-type {\n",
              "        vertical-align: middle;\n",
              "    }\n",
              "\n",
              "    .dataframe tbody tr th {\n",
              "        vertical-align: top;\n",
              "    }\n",
              "\n",
              "    .dataframe thead th {\n",
              "        text-align: right;\n",
              "    }\n",
              "</style>\n",
              "<table border=\"1\" class=\"dataframe\">\n",
              "  <thead>\n",
              "    <tr style=\"text-align: right;\">\n",
              "      <th></th>\n",
              "      <th>Canada</th>\n",
              "      <th>China</th>\n",
              "      <th>Colombia</th>\n",
              "      <th>France</th>\n",
              "      <th>Germany</th>\n",
              "      <th>US</th>\n",
              "      <th>United Kingdom</th>\n",
              "    </tr>\n",
              "    <tr>\n",
              "      <th>Date</th>\n",
              "      <th></th>\n",
              "      <th></th>\n",
              "      <th></th>\n",
              "      <th></th>\n",
              "      <th></th>\n",
              "      <th></th>\n",
              "      <th></th>\n",
              "    </tr>\n",
              "  </thead>\n",
              "  <tbody>\n",
              "    <tr>\n",
              "      <th>2020-01-22</th>\n",
              "      <td>0</td>\n",
              "      <td>593</td>\n",
              "      <td>0</td>\n",
              "      <td>0</td>\n",
              "      <td>0</td>\n",
              "      <td>1</td>\n",
              "      <td>0</td>\n",
              "    </tr>\n",
              "    <tr>\n",
              "      <th>2020-01-23</th>\n",
              "      <td>0</td>\n",
              "      <td>691</td>\n",
              "      <td>0</td>\n",
              "      <td>0</td>\n",
              "      <td>0</td>\n",
              "      <td>1</td>\n",
              "      <td>0</td>\n",
              "    </tr>\n",
              "    <tr>\n",
              "      <th>2020-01-24</th>\n",
              "      <td>0</td>\n",
              "      <td>982</td>\n",
              "      <td>0</td>\n",
              "      <td>2</td>\n",
              "      <td>0</td>\n",
              "      <td>2</td>\n",
              "      <td>0</td>\n",
              "    </tr>\n",
              "    <tr>\n",
              "      <th>2020-01-25</th>\n",
              "      <td>0</td>\n",
              "      <td>1487</td>\n",
              "      <td>0</td>\n",
              "      <td>3</td>\n",
              "      <td>0</td>\n",
              "      <td>2</td>\n",
              "      <td>0</td>\n",
              "    </tr>\n",
              "    <tr>\n",
              "      <th>2020-01-26</th>\n",
              "      <td>1</td>\n",
              "      <td>2180</td>\n",
              "      <td>0</td>\n",
              "      <td>3</td>\n",
              "      <td>0</td>\n",
              "      <td>5</td>\n",
              "      <td>0</td>\n",
              "    </tr>\n",
              "  </tbody>\n",
              "</table>\n",
              "</div>"
            ],
            "text/plain": [
              "            Canada  China  Colombia  France  Germany  US  United Kingdom\n",
              "Date                                                                    \n",
              "2020-01-22       0    593         0       0        0   1               0\n",
              "2020-01-23       0    691         0       0        0   1               0\n",
              "2020-01-24       0    982         0       2        0   2               0\n",
              "2020-01-25       0   1487         0       3        0   2               0\n",
              "2020-01-26       1   2180         0       3        0   5               0"
            ]
          },
          "metadata": {
            "tags": []
          },
          "execution_count": 22
        }
      ]
    },
    {
      "cell_type": "code",
      "metadata": {
        "id": "rBKA0Wp2Q6lv",
        "colab_type": "code",
        "outputId": "0b8f66cd-2fbd-461f-a50a-545d973c06de",
        "colab": {
          "base_uri": "https://localhost:8080/",
          "height": 132
        }
      },
      "source": [
        "\n",
        "# Section 6 - Generating Colours and Style\n",
        "colors = {'Canada':'#045275', 'China':'#089099', 'France':'#7CCBA2', 'Germany':'#FCDE9C', 'US':'#DC3977', 'United Kingdom':'#7C1D6F','Colombia':'#7C2D6F'}\n",
        "plt.style.use('fivethirtyeight')\n",
        "\n",
        "# Section 7 - Creating the Visualization\n",
        "plot = covid.plot(figsize=(12,8), color=list(colors.values()), linewidth=5, legend=False)\n",
        "plot.yaxis.set_major_formatter(ticker.StrMethodFormatter('{x:,.0f}'))\n",
        "plot.grid(color='#d4d4d4')\n",
        "plot.set_xlabel('Date')\n",
        "plot.set_ylabel('# of Cases')\n",
        "\n",
        "# Section 8 - Assigning Colour\n",
        "for country in list(colors.keys()):\n",
        "    plot.text(x = covid.index[-1], y = covid[country].max(), color = colors[country], s = country, weight = 'bold')\n",
        "\n",
        "# Section 9 - Adding Labels\n",
        "plot.text(x = covid.index[1], y = int(covid.max().max())+45000, s = \"COVID-19 Cases by Country\", fontsize = 23, weight = 'bold', alpha = .75)\n",
        "plot.text(x = covid.index[1], y = int(covid.max().max())+15000, s = \"For the USA, China, Germany, France, United Kingdom, and Canada\\nIncludes Current Cases, Recoveries, and Deaths\", fontsize = 16, alpha = .75)\n",
        "plot.text(x = percapita.index[1], y = -100000,s = 'datagy.io                      Source: https://github.com/datasets/covid-19/blob/master/data/countries-aggregated.csv', fontsize = 10)\n",
        "view rawcovid-datagy3.py hosted with ❤ by GitHub\n"
      ],
      "execution_count": 0,
      "outputs": [
        {
          "output_type": "error",
          "ename": "SyntaxError",
          "evalue": "ignored",
          "traceback": [
            "\u001b[0;36m  File \u001b[0;32m\"<ipython-input-23-902d9b262bce>\"\u001b[0;36m, line \u001b[0;32m19\u001b[0m\n\u001b[0;31m    view rawcovid-datagy3.py hosted with ❤ by GitHub\u001b[0m\n\u001b[0m                ^\u001b[0m\n\u001b[0;31mSyntaxError\u001b[0m\u001b[0;31m:\u001b[0m invalid syntax\n"
          ]
        }
      ]
    }
  ]
}